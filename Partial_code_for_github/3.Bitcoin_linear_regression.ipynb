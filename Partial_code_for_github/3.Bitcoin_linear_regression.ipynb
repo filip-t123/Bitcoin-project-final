{
 "cells": [
  {
   "cell_type": "code",
   "execution_count": 4,
   "id": "037e3b9b",
   "metadata": {},
   "outputs": [
    {
     "data": {
      "application/javascript": [
       "\n",
       "            setTimeout(function() {\n",
       "                var nbb_cell_id = 4;\n",
       "                var nbb_unformatted_code = \"import numpy as np\\nimport pandas as pd\\nfrom IPython.display import display\\nimport matplotlib.pyplot as plt\\nfrom matplotlib import style\\nimport random\\nfrom datetime import datetime\\nimport pandas_datareader as pdr\\nfrom matplotlib.pyplot import figure\\n\\n\\nfrom statsmodels.tsa.stattools import adfuller\\nfrom statsmodels.tsa.seasonal import seasonal_decompose\\nfrom statsmodels.tsa.arima_model import ARIMA\\nfrom pandas.plotting import register_matplotlib_converters\\nfrom sklearn import preprocessing, svm\\nfrom sklearn.model_selection import train_test_split\\n\\nfrom sklearn.linear_model import LinearRegression\\n\\nfrom IPython.core.debugger import set_trace\\n\\n%load_ext nb_black\\n\\nimport pandas as pd\\nimport numpy as np\\nimport os\\nimport matplotlib.pyplot as plt\\nimport time\\n\\nplt.style.use(style=\\\"seaborn\\\")\\n%matplotlib inline\\n\\nstyle.use(\\\"ggplot\\\")\\n\\nimport warnings\\n\\nwarnings.filterwarnings(\\\"ignore\\\", \\\"statsmodels.tsa.arima_model.ARMA\\\", FutureWarning)\\nwarnings.filterwarnings(\\\"ignore\\\", \\\"statsmodels.tsa.arima_model.ARIMA\\\", FutureWarning)\";\n",
       "                var nbb_formatted_code = \"import numpy as np\\nimport pandas as pd\\nfrom IPython.display import display\\nimport matplotlib.pyplot as plt\\nfrom matplotlib import style\\nimport random\\nfrom datetime import datetime\\nimport pandas_datareader as pdr\\nfrom matplotlib.pyplot import figure\\n\\n\\nfrom statsmodels.tsa.stattools import adfuller\\nfrom statsmodels.tsa.seasonal import seasonal_decompose\\nfrom statsmodels.tsa.arima_model import ARIMA\\nfrom pandas.plotting import register_matplotlib_converters\\nfrom sklearn import preprocessing, svm\\nfrom sklearn.model_selection import train_test_split\\n\\nfrom sklearn.linear_model import LinearRegression\\n\\nfrom IPython.core.debugger import set_trace\\n\\n%load_ext nb_black\\n\\nimport pandas as pd\\nimport numpy as np\\nimport os\\nimport matplotlib.pyplot as plt\\nimport time\\n\\nplt.style.use(style=\\\"seaborn\\\")\\n%matplotlib inline\\n\\nstyle.use(\\\"ggplot\\\")\\n\\nimport warnings\\n\\nwarnings.filterwarnings(\\\"ignore\\\", \\\"statsmodels.tsa.arima_model.ARMA\\\", FutureWarning)\\nwarnings.filterwarnings(\\\"ignore\\\", \\\"statsmodels.tsa.arima_model.ARIMA\\\", FutureWarning)\";\n",
       "                var nbb_cells = Jupyter.notebook.get_cells();\n",
       "                for (var i = 0; i < nbb_cells.length; ++i) {\n",
       "                    if (nbb_cells[i].input_prompt_number == nbb_cell_id) {\n",
       "                        if (nbb_cells[i].get_text() == nbb_unformatted_code) {\n",
       "                             nbb_cells[i].set_text(nbb_formatted_code);\n",
       "                        }\n",
       "                        break;\n",
       "                    }\n",
       "                }\n",
       "            }, 500);\n",
       "            "
      ],
      "text/plain": [
       "<IPython.core.display.Javascript object>"
      ]
     },
     "metadata": {},
     "output_type": "display_data"
    }
   ],
   "source": [
    "import numpy as np\n",
    "import pandas as pd\n",
    "from IPython.display import display\n",
    "import matplotlib.pyplot as plt\n",
    "from matplotlib import style\n",
    "import random\n",
    "from datetime import datetime\n",
    "import pandas_datareader as pdr\n",
    "from matplotlib.pyplot import figure\n",
    "\n",
    "\n",
    "from statsmodels.tsa.stattools import adfuller\n",
    "from statsmodels.tsa.seasonal import seasonal_decompose\n",
    "from statsmodels.tsa.arima_model import ARIMA\n",
    "from pandas.plotting import register_matplotlib_converters\n",
    "from sklearn import preprocessing, svm\n",
    "from sklearn.model_selection import train_test_split\n",
    "\n",
    "from sklearn.linear_model import LinearRegression\n",
    "\n",
    "from IPython.core.debugger import set_trace\n",
    "\n",
    "%load_ext nb_black\n",
    "\n",
    "import pandas as pd\n",
    "import numpy as np\n",
    "import os\n",
    "import matplotlib.pyplot as plt\n",
    "import time\n",
    "\n",
    "plt.style.use(style=\"seaborn\")\n",
    "%matplotlib inline\n",
    "\n",
    "style.use(\"ggplot\")\n",
    "\n",
    "import warnings\n",
    "\n",
    "warnings.filterwarnings(\"ignore\", \"statsmodels.tsa.arima_model.ARMA\", FutureWarning)\n",
    "warnings.filterwarnings(\"ignore\", \"statsmodels.tsa.arima_model.ARIMA\", FutureWarning)"
   ]
  },
  {
   "cell_type": "code",
   "execution_count": null,
   "id": "46f2a4c4",
   "metadata": {},
   "outputs": [],
   "source": [
    "df = pd.read_csv(\"coin_bitcoin.csv\")\n",
    "\n",
    "df1 = df[(1157):]\n",
    "df = df1.copy(deep=True)\n",
    "df"
   ]
  },
  {
   "cell_type": "code",
   "execution_count": null,
   "id": "37977397",
   "metadata": {},
   "outputs": [],
   "source": [
    "df[\"Volatility\"] = ((df[\"High\"] - df[\"Low\"]) / df[\"Low\"]) * 100\n",
    "df = df[[\"Date\", \"Close\", \"Volume\", \"Volatility\", \"Marketcap\"]]"
   ]
  },
  {
   "cell_type": "code",
   "execution_count": null,
   "id": "f99ef103",
   "metadata": {},
   "outputs": [],
   "source": [
    "# df.set_index(\"Date\")\n",
    "date = pd.DatetimeIndex(df[\"Date\"])\n",
    "date\n",
    "df[\"Date\"] = date\n",
    "df.info()\n",
    "df[\"Date\"] = pd.to_datetime(df[\"Date\"]).dt.date\n",
    "# df.info\n",
    "# df"
   ]
  },
  {
   "cell_type": "code",
   "execution_count": null,
   "id": "3e88942f",
   "metadata": {},
   "outputs": [],
   "source": [
    "new = df.reset_index(drop=True)\n",
    "new"
   ]
  },
  {
   "cell_type": "code",
   "execution_count": null,
   "id": "b095c1cc",
   "metadata": {},
   "outputs": [],
   "source": [
    "df"
   ]
  },
  {
   "cell_type": "code",
   "execution_count": null,
   "id": "bb790f3c",
   "metadata": {},
   "outputs": [],
   "source": [
    "bitcoin = pd.read_csv(\"bitcoin_sentiment.csv\")\n",
    "# bitcoin.set_index(\"Date\", inplace=True)\n",
    "bitcoin = bitcoin[:1705]\n",
    "bitcoin"
   ]
  },
  {
   "cell_type": "markdown",
   "id": "be0a0bb7",
   "metadata": {},
   "source": [
    "# start linear regression"
   ]
  },
  {
   "cell_type": "code",
   "execution_count": null,
   "id": "a4e744cd",
   "metadata": {},
   "outputs": [],
   "source": [
    "# df = pd.concat((new, bitcoin), axis=1)\n",
    "# lin_reg = df.copy(deep=True)\n",
    "# lin_reg\n",
    "# lin_reg = lin_reg.drop((\"date\"), 1)\n",
    "# lin_reg\n",
    "\n",
    "# lin_reg.set_index('Date')\n",
    "# del df[\"Date\"]\n"
   ]
  },
  {
   "cell_type": "code",
   "execution_count": 42,
   "id": "c296fee7",
   "metadata": {},
   "outputs": [
    {
     "data": {
      "application/javascript": [
       "\n",
       "            setTimeout(function() {\n",
       "                var nbb_cell_id = 42;\n",
       "                var nbb_unformatted_code = \"# lin_reg.to_csv(\\\"lin_reg.csv\\\", header=True, index=False, columns=list(lin_reg.axes[1]))\\n# lin_reg = pd.read_csv(\\\"lin_reg.csv\\\")\\n# lin_reg = lin_reg.drop((\\\"Date\\\"), 1)\\nlin_reg = pd.read_csv(\\\"lin_reg.csv\\\", index_col=\\\"Date\\\", parse_dates=True)\\nlin_reg_full = lin_reg[:690]\\nlin_reg = lin_reg_full[:660]\\n# lin_reg_full = lin_reg[:630]\";\n",
       "                var nbb_formatted_code = \"# lin_reg.to_csv(\\\"lin_reg.csv\\\", header=True, index=False, columns=list(lin_reg.axes[1]))\\n# lin_reg = pd.read_csv(\\\"lin_reg.csv\\\")\\n# lin_reg = lin_reg.drop((\\\"Date\\\"), 1)\\nlin_reg = pd.read_csv(\\\"lin_reg.csv\\\", index_col=\\\"Date\\\", parse_dates=True)\\nlin_reg_full = lin_reg[:690]\\nlin_reg = lin_reg_full[:660]\\n# lin_reg_full = lin_reg[:630]\";\n",
       "                var nbb_cells = Jupyter.notebook.get_cells();\n",
       "                for (var i = 0; i < nbb_cells.length; ++i) {\n",
       "                    if (nbb_cells[i].input_prompt_number == nbb_cell_id) {\n",
       "                        if (nbb_cells[i].get_text() == nbb_unformatted_code) {\n",
       "                             nbb_cells[i].set_text(nbb_formatted_code);\n",
       "                        }\n",
       "                        break;\n",
       "                    }\n",
       "                }\n",
       "            }, 500);\n",
       "            "
      ],
      "text/plain": [
       "<IPython.core.display.Javascript object>"
      ]
     },
     "metadata": {},
     "output_type": "display_data"
    }
   ],
   "source": [
    "# lin_reg.to_csv(\"lin_reg.csv\", header=True, index=False, columns=list(lin_reg.axes[1]))\n",
    "# lin_reg = pd.read_csv(\"lin_reg.csv\")\n",
    "# lin_reg = lin_reg.drop((\"Date\"), 1)\n",
    "lin_reg = pd.read_csv(\"lin_reg.csv\", index_col=\"Date\", parse_dates=True)\n",
    "lin_reg_full = lin_reg[:690]\n",
    "lin_reg = lin_reg_full[:660]\n",
    "# lin_reg_full = lin_reg[:630]"
   ]
  },
  {
   "cell_type": "code",
   "execution_count": 43,
   "id": "769f7f5a",
   "metadata": {},
   "outputs": [
    {
     "data": {
      "text/plain": [
       "33"
      ]
     },
     "execution_count": 43,
     "metadata": {},
     "output_type": "execute_result"
    },
    {
     "data": {
      "application/javascript": [
       "\n",
       "            setTimeout(function() {\n",
       "                var nbb_cell_id = 43;\n",
       "                var nbb_unformatted_code = \"# df.set_index(\\\"date\\\")\\n# lin_reg = lin_reg.drop((\\\"Date\\\"), 1)\\n# lin_reg = lin_reg.set_index(\\\"Date\\\")\\nlin_reg\\nimport math\\n\\nlin_reg\\n\\nforecast_col = \\\"Close\\\"\\nlin_reg.fillna(-9999, inplace=True)\\n\\nforecast_out = int(math.ceil(0.05 * len(lin_reg)))\\nforecast_out\\n### this gives 20\";\n",
       "                var nbb_formatted_code = \"# df.set_index(\\\"date\\\")\\n# lin_reg = lin_reg.drop((\\\"Date\\\"), 1)\\n# lin_reg = lin_reg.set_index(\\\"Date\\\")\\nlin_reg\\nimport math\\n\\nlin_reg\\n\\nforecast_col = \\\"Close\\\"\\nlin_reg.fillna(-9999, inplace=True)\\n\\nforecast_out = int(math.ceil(0.05 * len(lin_reg)))\\nforecast_out\\n### this gives 20\";\n",
       "                var nbb_cells = Jupyter.notebook.get_cells();\n",
       "                for (var i = 0; i < nbb_cells.length; ++i) {\n",
       "                    if (nbb_cells[i].input_prompt_number == nbb_cell_id) {\n",
       "                        if (nbb_cells[i].get_text() == nbb_unformatted_code) {\n",
       "                             nbb_cells[i].set_text(nbb_formatted_code);\n",
       "                        }\n",
       "                        break;\n",
       "                    }\n",
       "                }\n",
       "            }, 500);\n",
       "            "
      ],
      "text/plain": [
       "<IPython.core.display.Javascript object>"
      ]
     },
     "metadata": {},
     "output_type": "display_data"
    }
   ],
   "source": [
    "# df.set_index(\"date\")\n",
    "# lin_reg = lin_reg.drop((\"Date\"), 1)\n",
    "# lin_reg = lin_reg.set_index(\"Date\")\n",
    "lin_reg\n",
    "import math\n",
    "\n",
    "lin_reg\n",
    "\n",
    "forecast_col = \"Close\"\n",
    "lin_reg.fillna(-9999, inplace=True)\n",
    "\n",
    "forecast_out = int(math.ceil(0.05 * len(lin_reg)))\n",
    "forecast_out\n",
    "### this gives 20\n"
   ]
  },
  {
   "cell_type": "code",
   "execution_count": 44,
   "id": "3df21c82",
   "metadata": {},
   "outputs": [
    {
     "data": {
      "text/html": [
       "<div>\n",
       "<style scoped>\n",
       "    .dataframe tbody tr th:only-of-type {\n",
       "        vertical-align: middle;\n",
       "    }\n",
       "\n",
       "    .dataframe tbody tr th {\n",
       "        vertical-align: top;\n",
       "    }\n",
       "\n",
       "    .dataframe thead th {\n",
       "        text-align: right;\n",
       "    }\n",
       "</style>\n",
       "<table border=\"1\" class=\"dataframe\">\n",
       "  <thead>\n",
       "    <tr style=\"text-align: right;\">\n",
       "      <th></th>\n",
       "      <th>Close</th>\n",
       "      <th>Volume</th>\n",
       "      <th>Volatility</th>\n",
       "      <th>Marketcap</th>\n",
       "      <th>Compound Sentiment Score</th>\n",
       "    </tr>\n",
       "    <tr>\n",
       "      <th>Date</th>\n",
       "      <th></th>\n",
       "      <th></th>\n",
       "      <th></th>\n",
       "      <th></th>\n",
       "      <th></th>\n",
       "    </tr>\n",
       "  </thead>\n",
       "  <tbody>\n",
       "    <tr>\n",
       "      <th>2016-06-29</th>\n",
       "      <td>639.890015</td>\n",
       "      <td>1.424560e+08</td>\n",
       "      <td>2.609968</td>\n",
       "      <td>1.005542e+10</td>\n",
       "      <td>0.350600</td>\n",
       "    </tr>\n",
       "    <tr>\n",
       "      <th>2016-06-30</th>\n",
       "      <td>673.336975</td>\n",
       "      <td>1.389800e+08</td>\n",
       "      <td>6.094024</td>\n",
       "      <td>1.058353e+10</td>\n",
       "      <td>0.298300</td>\n",
       "    </tr>\n",
       "    <tr>\n",
       "      <th>2016-07-01</th>\n",
       "      <td>676.296021</td>\n",
       "      <td>1.344310e+08</td>\n",
       "      <td>2.473140</td>\n",
       "      <td>1.063267e+10</td>\n",
       "      <td>0.427550</td>\n",
       "    </tr>\n",
       "    <tr>\n",
       "      <th>2016-07-02</th>\n",
       "      <td>703.702026</td>\n",
       "      <td>1.123540e+08</td>\n",
       "      <td>4.036529</td>\n",
       "      <td>1.106617e+10</td>\n",
       "      <td>0.784300</td>\n",
       "    </tr>\n",
       "    <tr>\n",
       "      <th>2016-07-03</th>\n",
       "      <td>658.664001</td>\n",
       "      <td>1.295120e+08</td>\n",
       "      <td>8.622230</td>\n",
       "      <td>1.036046e+10</td>\n",
       "      <td>0.764550</td>\n",
       "    </tr>\n",
       "    <tr>\n",
       "      <th>...</th>\n",
       "      <td>...</td>\n",
       "      <td>...</td>\n",
       "      <td>...</td>\n",
       "      <td>...</td>\n",
       "      <td>...</td>\n",
       "    </tr>\n",
       "    <tr>\n",
       "      <th>2018-04-15</th>\n",
       "      <td>8329.110352</td>\n",
       "      <td>5.244480e+09</td>\n",
       "      <td>4.238978</td>\n",
       "      <td>1.414271e+11</td>\n",
       "      <td>0.205323</td>\n",
       "    </tr>\n",
       "    <tr>\n",
       "      <th>2018-04-16</th>\n",
       "      <td>8058.669922</td>\n",
       "      <td>5.631310e+09</td>\n",
       "      <td>5.619929</td>\n",
       "      <td>1.368494e+11</td>\n",
       "      <td>0.247163</td>\n",
       "    </tr>\n",
       "    <tr>\n",
       "      <th>2018-04-17</th>\n",
       "      <td>7902.089844</td>\n",
       "      <td>6.900880e+09</td>\n",
       "      <td>5.128826</td>\n",
       "      <td>1.342066e+11</td>\n",
       "      <td>0.310888</td>\n",
       "    </tr>\n",
       "    <tr>\n",
       "      <th>2018-04-18</th>\n",
       "      <td>8163.419922</td>\n",
       "      <td>6.529910e+09</td>\n",
       "      <td>3.953711</td>\n",
       "      <td>1.386611e+11</td>\n",
       "      <td>0.305751</td>\n",
       "    </tr>\n",
       "    <tr>\n",
       "      <th>2018-04-19</th>\n",
       "      <td>8294.309570</td>\n",
       "      <td>7.063210e+09</td>\n",
       "      <td>1.964799</td>\n",
       "      <td>1.409028e+11</td>\n",
       "      <td>0.294591</td>\n",
       "    </tr>\n",
       "  </tbody>\n",
       "</table>\n",
       "<p>660 rows × 5 columns</p>\n",
       "</div>"
      ],
      "text/plain": [
       "                  Close        Volume  Volatility     Marketcap  \\\n",
       "Date                                                              \n",
       "2016-06-29   639.890015  1.424560e+08    2.609968  1.005542e+10   \n",
       "2016-06-30   673.336975  1.389800e+08    6.094024  1.058353e+10   \n",
       "2016-07-01   676.296021  1.344310e+08    2.473140  1.063267e+10   \n",
       "2016-07-02   703.702026  1.123540e+08    4.036529  1.106617e+10   \n",
       "2016-07-03   658.664001  1.295120e+08    8.622230  1.036046e+10   \n",
       "...                 ...           ...         ...           ...   \n",
       "2018-04-15  8329.110352  5.244480e+09    4.238978  1.414271e+11   \n",
       "2018-04-16  8058.669922  5.631310e+09    5.619929  1.368494e+11   \n",
       "2018-04-17  7902.089844  6.900880e+09    5.128826  1.342066e+11   \n",
       "2018-04-18  8163.419922  6.529910e+09    3.953711  1.386611e+11   \n",
       "2018-04-19  8294.309570  7.063210e+09    1.964799  1.409028e+11   \n",
       "\n",
       "            Compound Sentiment Score  \n",
       "Date                                  \n",
       "2016-06-29                  0.350600  \n",
       "2016-06-30                  0.298300  \n",
       "2016-07-01                  0.427550  \n",
       "2016-07-02                  0.784300  \n",
       "2016-07-03                  0.764550  \n",
       "...                              ...  \n",
       "2018-04-15                  0.205323  \n",
       "2018-04-16                  0.247163  \n",
       "2018-04-17                  0.310888  \n",
       "2018-04-18                  0.305751  \n",
       "2018-04-19                  0.294591  \n",
       "\n",
       "[660 rows x 5 columns]"
      ]
     },
     "execution_count": 44,
     "metadata": {},
     "output_type": "execute_result"
    },
    {
     "data": {
      "application/javascript": [
       "\n",
       "            setTimeout(function() {\n",
       "                var nbb_cell_id = 44;\n",
       "                var nbb_unformatted_code = \"# lin_reg = lin_reg.drop((\\\"date\\\"), 1)\\n# lin_reg\\n# lin_reg.to_csv(\\\"lin_reg.csv\\\", header=True, index=False, columns=list(lin_reg.axes[1]))\\n# lin_reg\\nlin_reg\";\n",
       "                var nbb_formatted_code = \"# lin_reg = lin_reg.drop((\\\"date\\\"), 1)\\n# lin_reg\\n# lin_reg.to_csv(\\\"lin_reg.csv\\\", header=True, index=False, columns=list(lin_reg.axes[1]))\\n# lin_reg\\nlin_reg\";\n",
       "                var nbb_cells = Jupyter.notebook.get_cells();\n",
       "                for (var i = 0; i < nbb_cells.length; ++i) {\n",
       "                    if (nbb_cells[i].input_prompt_number == nbb_cell_id) {\n",
       "                        if (nbb_cells[i].get_text() == nbb_unformatted_code) {\n",
       "                             nbb_cells[i].set_text(nbb_formatted_code);\n",
       "                        }\n",
       "                        break;\n",
       "                    }\n",
       "                }\n",
       "            }, 500);\n",
       "            "
      ],
      "text/plain": [
       "<IPython.core.display.Javascript object>"
      ]
     },
     "metadata": {},
     "output_type": "display_data"
    }
   ],
   "source": [
    "# lin_reg = lin_reg.drop((\"date\"), 1)\n",
    "# lin_reg\n",
    "# lin_reg.to_csv(\"lin_reg.csv\", header=True, index=False, columns=list(lin_reg.axes[1]))\n",
    "# lin_reg\n",
    "lin_reg"
   ]
  },
  {
   "cell_type": "code",
   "execution_count": 45,
   "id": "b74480eb",
   "metadata": {},
   "outputs": [
    {
     "name": "stderr",
     "output_type": "stream",
     "text": [
      "<ipython-input-45-3d985e043e87>:1: SettingWithCopyWarning: \n",
      "A value is trying to be set on a copy of a slice from a DataFrame.\n",
      "Try using .loc[row_indexer,col_indexer] = value instead\n",
      "\n",
      "See the caveats in the documentation: https://pandas.pydata.org/pandas-docs/stable/user_guide/indexing.html#returning-a-view-versus-a-copy\n",
      "  lin_reg[\"label\"] = lin_reg[forecast_col].shift(-forecast_out)\n",
      "C:\\Users\\filip\\Coding\\anaconda3\\lib\\site-packages\\sklearn\\preprocessing\\_data.py:194: UserWarning: Numerical issues were encountered when centering the data and might not be solved. Dataset may contain too large values. You may need to prescale your features.\n",
      "  warnings.warn(\"Numerical issues were encountered \"\n",
      "<ipython-input-45-3d985e043e87>:12: SettingWithCopyWarning: \n",
      "A value is trying to be set on a copy of a slice from a DataFrame\n",
      "\n",
      "See the caveats in the documentation: https://pandas.pydata.org/pandas-docs/stable/user_guide/indexing.html#returning-a-view-versus-a-copy\n",
      "  lin_reg.dropna(inplace=True)\n"
     ]
    },
    {
     "data": {
      "text/plain": [
       "627"
      ]
     },
     "execution_count": 45,
     "metadata": {},
     "output_type": "execute_result"
    },
    {
     "data": {
      "application/javascript": [
       "\n",
       "            setTimeout(function() {\n",
       "                var nbb_cell_id = 45;\n",
       "                var nbb_unformatted_code = \"lin_reg[\\\"label\\\"] = lin_reg[forecast_col].shift(-forecast_out)\\n# lin_reg.dropna(inplace=True)\\n\\n### splitting\\nX = np.array(lin_reg.drop([\\\"label\\\"], 1))\\nX = preprocessing.scale(X)\\nX_lately = X[-forecast_out:]\\nX = X[:-forecast_out:]\\n### What we want\\n\\n# X = X[: -forecast_out + 1]\\nlin_reg.dropna(inplace=True)\\n\\ny = np.array(lin_reg[\\\"label\\\"])\\ny = np.array(lin_reg[\\\"label\\\"])\\n\\n#### prediction for shift\\n\\nlen(X)\";\n",
       "                var nbb_formatted_code = \"lin_reg[\\\"label\\\"] = lin_reg[forecast_col].shift(-forecast_out)\\n# lin_reg.dropna(inplace=True)\\n\\n### splitting\\nX = np.array(lin_reg.drop([\\\"label\\\"], 1))\\nX = preprocessing.scale(X)\\nX_lately = X[-forecast_out:]\\nX = X[:-forecast_out:]\\n### What we want\\n\\n# X = X[: -forecast_out + 1]\\nlin_reg.dropna(inplace=True)\\n\\ny = np.array(lin_reg[\\\"label\\\"])\\ny = np.array(lin_reg[\\\"label\\\"])\\n\\n#### prediction for shift\\n\\nlen(X)\";\n",
       "                var nbb_cells = Jupyter.notebook.get_cells();\n",
       "                for (var i = 0; i < nbb_cells.length; ++i) {\n",
       "                    if (nbb_cells[i].input_prompt_number == nbb_cell_id) {\n",
       "                        if (nbb_cells[i].get_text() == nbb_unformatted_code) {\n",
       "                             nbb_cells[i].set_text(nbb_formatted_code);\n",
       "                        }\n",
       "                        break;\n",
       "                    }\n",
       "                }\n",
       "            }, 500);\n",
       "            "
      ],
      "text/plain": [
       "<IPython.core.display.Javascript object>"
      ]
     },
     "metadata": {},
     "output_type": "display_data"
    }
   ],
   "source": [
    "lin_reg[\"label\"] = lin_reg[forecast_col].shift(-forecast_out)\n",
    "# lin_reg.dropna(inplace=True)\n",
    "\n",
    "### splitting\n",
    "X = np.array(lin_reg.drop([\"label\"], 1))\n",
    "X = preprocessing.scale(X)\n",
    "X_lately = X[-forecast_out:]\n",
    "X = X[:-forecast_out:]\n",
    "### What we want\n",
    "\n",
    "# X = X[: -forecast_out + 1]\n",
    "lin_reg.dropna(inplace=True)\n",
    "\n",
    "y = np.array(lin_reg[\"label\"])\n",
    "y = np.array(lin_reg[\"label\"])\n",
    "\n",
    "#### prediction for shift\n",
    "\n",
    "len(X)\n"
   ]
  },
  {
   "cell_type": "code",
   "execution_count": 46,
   "id": "f25426ce",
   "metadata": {},
   "outputs": [
    {
     "data": {
      "application/javascript": [
       "\n",
       "            setTimeout(function() {\n",
       "                var nbb_cell_id = 46;\n",
       "                var nbb_unformatted_code = \"X_train, X_test, y_train, y_test = train_test_split(\\n    X, y, test_size=0.25, random_state=40\\n)\";\n",
       "                var nbb_formatted_code = \"X_train, X_test, y_train, y_test = train_test_split(\\n    X, y, test_size=0.25, random_state=40\\n)\";\n",
       "                var nbb_cells = Jupyter.notebook.get_cells();\n",
       "                for (var i = 0; i < nbb_cells.length; ++i) {\n",
       "                    if (nbb_cells[i].input_prompt_number == nbb_cell_id) {\n",
       "                        if (nbb_cells[i].get_text() == nbb_unformatted_code) {\n",
       "                             nbb_cells[i].set_text(nbb_formatted_code);\n",
       "                        }\n",
       "                        break;\n",
       "                    }\n",
       "                }\n",
       "            }, 500);\n",
       "            "
      ],
      "text/plain": [
       "<IPython.core.display.Javascript object>"
      ]
     },
     "metadata": {},
     "output_type": "display_data"
    }
   ],
   "source": [
    "X_train, X_test, y_train, y_test = train_test_split(\n",
    "    X, y, test_size=0.25, random_state=40\n",
    ")"
   ]
  },
  {
   "cell_type": "code",
   "execution_count": 47,
   "id": "a35f806c",
   "metadata": {},
   "outputs": [
    {
     "data": {
      "text/plain": [
       "0.7721409948828486"
      ]
     },
     "execution_count": 47,
     "metadata": {},
     "output_type": "execute_result"
    },
    {
     "data": {
      "application/javascript": [
       "\n",
       "            setTimeout(function() {\n",
       "                var nbb_cell_id = 47;\n",
       "                var nbb_unformatted_code = \"clf = LinearRegression(n_jobs=1000000000000)\\nclf.fit(X_train, y_train)\\naccuracy = clf.score(X_test, y_test)\\naccuracy\";\n",
       "                var nbb_formatted_code = \"clf = LinearRegression(n_jobs=1000000000000)\\nclf.fit(X_train, y_train)\\naccuracy = clf.score(X_test, y_test)\\naccuracy\";\n",
       "                var nbb_cells = Jupyter.notebook.get_cells();\n",
       "                for (var i = 0; i < nbb_cells.length; ++i) {\n",
       "                    if (nbb_cells[i].input_prompt_number == nbb_cell_id) {\n",
       "                        if (nbb_cells[i].get_text() == nbb_unformatted_code) {\n",
       "                             nbb_cells[i].set_text(nbb_formatted_code);\n",
       "                        }\n",
       "                        break;\n",
       "                    }\n",
       "                }\n",
       "            }, 500);\n",
       "            "
      ],
      "text/plain": [
       "<IPython.core.display.Javascript object>"
      ]
     },
     "metadata": {},
     "output_type": "display_data"
    }
   ],
   "source": [
    "clf = LinearRegression(n_jobs=1000000000000)\n",
    "clf.fit(X_train, y_train)\n",
    "accuracy = clf.score(X_test, y_test)\n",
    "accuracy"
   ]
  },
  {
   "cell_type": "code",
   "execution_count": 48,
   "id": "14f1143a",
   "metadata": {},
   "outputs": [
    {
     "data": {
      "text/plain": [
       "(array([6992.13047414, 6576.96256697, 7590.67895327, 7177.30702705,\n",
       "        7731.46010068, 7562.93585162, 7090.73616044, 7588.03260656,\n",
       "        6834.57767662, 6396.96818815, 6671.81729293, 5804.14403432,\n",
       "        4789.31733941, 5733.98150897, 6083.96320061, 5992.27956231,\n",
       "        5807.65567842, 5980.57284588, 4399.03976623, 5730.82074529,\n",
       "        6261.45600081, 6085.38474101, 5491.56671206, 5230.87502336,\n",
       "        5029.3856013 , 4967.56908462, 4168.44220211, 6187.926121  ,\n",
       "        6681.45799857, 6193.34424525, 4795.17694765, 5259.63864527,\n",
       "        4633.96465075]),\n",
       " 0.7721409948828486,\n",
       " 33)"
      ]
     },
     "execution_count": 48,
     "metadata": {},
     "output_type": "execute_result"
    },
    {
     "data": {
      "application/javascript": [
       "\n",
       "            setTimeout(function() {\n",
       "                var nbb_cell_id = 48;\n",
       "                var nbb_unformatted_code = \"forecast_set = clf.predict(X_lately)\\nforecast_set, accuracy, forecast_out\";\n",
       "                var nbb_formatted_code = \"forecast_set = clf.predict(X_lately)\\nforecast_set, accuracy, forecast_out\";\n",
       "                var nbb_cells = Jupyter.notebook.get_cells();\n",
       "                for (var i = 0; i < nbb_cells.length; ++i) {\n",
       "                    if (nbb_cells[i].input_prompt_number == nbb_cell_id) {\n",
       "                        if (nbb_cells[i].get_text() == nbb_unformatted_code) {\n",
       "                             nbb_cells[i].set_text(nbb_formatted_code);\n",
       "                        }\n",
       "                        break;\n",
       "                    }\n",
       "                }\n",
       "            }, 500);\n",
       "            "
      ],
      "text/plain": [
       "<IPython.core.display.Javascript object>"
      ]
     },
     "metadata": {},
     "output_type": "display_data"
    }
   ],
   "source": [
    "forecast_set = clf.predict(X_lately)\n",
    "forecast_set, accuracy, forecast_out"
   ]
  },
  {
   "cell_type": "code",
   "execution_count": 49,
   "id": "4f72ef20",
   "metadata": {},
   "outputs": [
    {
     "name": "stderr",
     "output_type": "stream",
     "text": [
      "<ipython-input-49-7338c8236a9c>:3: SettingWithCopyWarning: \n",
      "A value is trying to be set on a copy of a slice from a DataFrame.\n",
      "Try using .loc[row_indexer,col_indexer] = value instead\n",
      "\n",
      "See the caveats in the documentation: https://pandas.pydata.org/pandas-docs/stable/user_guide/indexing.html#returning-a-view-versus-a-copy\n",
      "  lin_reg[\"Forecast\"] = np.nan\n"
     ]
    },
    {
     "data": {
      "application/javascript": [
       "\n",
       "            setTimeout(function() {\n",
       "                var nbb_cell_id = 49;\n",
       "                var nbb_unformatted_code = \"# X = X[: -forecast_out + 1]\\n\\nlin_reg[\\\"Forecast\\\"] = np.nan\";\n",
       "                var nbb_formatted_code = \"# X = X[: -forecast_out + 1]\\n\\nlin_reg[\\\"Forecast\\\"] = np.nan\";\n",
       "                var nbb_cells = Jupyter.notebook.get_cells();\n",
       "                for (var i = 0; i < nbb_cells.length; ++i) {\n",
       "                    if (nbb_cells[i].input_prompt_number == nbb_cell_id) {\n",
       "                        if (nbb_cells[i].get_text() == nbb_unformatted_code) {\n",
       "                             nbb_cells[i].set_text(nbb_formatted_code);\n",
       "                        }\n",
       "                        break;\n",
       "                    }\n",
       "                }\n",
       "            }, 500);\n",
       "            "
      ],
      "text/plain": [
       "<IPython.core.display.Javascript object>"
      ]
     },
     "metadata": {},
     "output_type": "display_data"
    }
   ],
   "source": [
    "# X = X[: -forecast_out + 1]\n",
    "\n",
    "lin_reg[\"Forecast\"] = np.nan"
   ]
  },
  {
   "cell_type": "code",
   "execution_count": 50,
   "id": "24b3f963",
   "metadata": {},
   "outputs": [
    {
     "data": {
      "application/javascript": [
       "\n",
       "            setTimeout(function() {\n",
       "                var nbb_cell_id = 50;\n",
       "                var nbb_unformatted_code = \"last_date = lin_reg.iloc[-1].name\\nlast_unix = last_date.timestamp()\\none_day = 86400\\nnext_unix = last_unix + one_day\";\n",
       "                var nbb_formatted_code = \"last_date = lin_reg.iloc[-1].name\\nlast_unix = last_date.timestamp()\\none_day = 86400\\nnext_unix = last_unix + one_day\";\n",
       "                var nbb_cells = Jupyter.notebook.get_cells();\n",
       "                for (var i = 0; i < nbb_cells.length; ++i) {\n",
       "                    if (nbb_cells[i].input_prompt_number == nbb_cell_id) {\n",
       "                        if (nbb_cells[i].get_text() == nbb_unformatted_code) {\n",
       "                             nbb_cells[i].set_text(nbb_formatted_code);\n",
       "                        }\n",
       "                        break;\n",
       "                    }\n",
       "                }\n",
       "            }, 500);\n",
       "            "
      ],
      "text/plain": [
       "<IPython.core.display.Javascript object>"
      ]
     },
     "metadata": {},
     "output_type": "display_data"
    }
   ],
   "source": [
    "last_date = lin_reg.iloc[-1].name\n",
    "last_unix = last_date.timestamp()\n",
    "one_day = 86400\n",
    "next_unix = last_unix + one_day"
   ]
  },
  {
   "cell_type": "code",
   "execution_count": 51,
   "id": "56bf16d3",
   "metadata": {},
   "outputs": [
    {
     "name": "stderr",
     "output_type": "stream",
     "text": [
      "C:\\Users\\filip\\Coding\\anaconda3\\lib\\site-packages\\pandas\\core\\indexing.py:692: SettingWithCopyWarning: \n",
      "A value is trying to be set on a copy of a slice from a DataFrame\n",
      "\n",
      "See the caveats in the documentation: https://pandas.pydata.org/pandas-docs/stable/user_guide/indexing.html#returning-a-view-versus-a-copy\n",
      "  iloc._setitem_with_indexer(indexer, value, self.name)\n"
     ]
    },
    {
     "data": {
      "application/javascript": [
       "\n",
       "            setTimeout(function() {\n",
       "                var nbb_cell_id = 51;\n",
       "                var nbb_unformatted_code = \"for i in forecast_set:\\n    next_date = datetime.fromtimestamp(next_unix)\\n    next_unix += 86400\\n    lin_reg.loc[next_date] = [np.nan for _ in range(len(lin_reg.columns) - 1)] + [i]\";\n",
       "                var nbb_formatted_code = \"for i in forecast_set:\\n    next_date = datetime.fromtimestamp(next_unix)\\n    next_unix += 86400\\n    lin_reg.loc[next_date] = [np.nan for _ in range(len(lin_reg.columns) - 1)] + [i]\";\n",
       "                var nbb_cells = Jupyter.notebook.get_cells();\n",
       "                for (var i = 0; i < nbb_cells.length; ++i) {\n",
       "                    if (nbb_cells[i].input_prompt_number == nbb_cell_id) {\n",
       "                        if (nbb_cells[i].get_text() == nbb_unformatted_code) {\n",
       "                             nbb_cells[i].set_text(nbb_formatted_code);\n",
       "                        }\n",
       "                        break;\n",
       "                    }\n",
       "                }\n",
       "            }, 500);\n",
       "            "
      ],
      "text/plain": [
       "<IPython.core.display.Javascript object>"
      ]
     },
     "metadata": {},
     "output_type": "display_data"
    }
   ],
   "source": [
    "for i in forecast_set:\n",
    "    next_date = datetime.fromtimestamp(next_unix)\n",
    "    next_unix += 86400\n",
    "    lin_reg.loc[next_date] = [np.nan for _ in range(len(lin_reg.columns) - 1)] + [i]"
   ]
  },
  {
   "cell_type": "code",
   "execution_count": 54,
   "id": "ee9849a3",
   "metadata": {},
   "outputs": [
    {
     "data": {
      "image/png": "[encoded data removed]",
      "text/plain": [
       "<Figure size 720x648 with 1 Axes>"
      ]
     },
     "metadata": {},
     "output_type": "display_data"
    },
    {
     "data": {
      "application/javascript": [
       "\n",
       "            setTimeout(function() {\n",
       "                var nbb_cell_id = 54;\n",
       "                var nbb_unformatted_code = \"plt.figure(figsize=(10, 9))\\n\\n\\nlin_reg_full[\\\"Close\\\"].plot()\\n# lin_reg_full[\\\"Close\\\"].plot()\\n\\nlin_reg[\\\"Forecast\\\"].plot()\\n# lin_reg[\\\"Compound Sentiment Score\\\"].plot()\\n# plt.legend(loc=4)\\nplt.xlabel(\\\"Date\\\")\\nplt.ylabel(\\\"Price\\\")\\nplt.show()\";\n",
       "                var nbb_formatted_code = \"plt.figure(figsize=(10, 9))\\n\\n\\nlin_reg_full[\\\"Close\\\"].plot()\\n# lin_reg_full[\\\"Close\\\"].plot()\\n\\nlin_reg[\\\"Forecast\\\"].plot()\\n# lin_reg[\\\"Compound Sentiment Score\\\"].plot()\\n# plt.legend(loc=4)\\nplt.xlabel(\\\"Date\\\")\\nplt.ylabel(\\\"Price\\\")\\nplt.show()\";\n",
       "                var nbb_cells = Jupyter.notebook.get_cells();\n",
       "                for (var i = 0; i < nbb_cells.length; ++i) {\n",
       "                    if (nbb_cells[i].input_prompt_number == nbb_cell_id) {\n",
       "                        if (nbb_cells[i].get_text() == nbb_unformatted_code) {\n",
       "                             nbb_cells[i].set_text(nbb_formatted_code);\n",
       "                        }\n",
       "                        break;\n",
       "                    }\n",
       "                }\n",
       "            }, 500);\n",
       "            "
      ],
      "text/plain": [
       "<IPython.core.display.Javascript object>"
      ]
     },
     "metadata": {},
     "output_type": "display_data"
    }
   ],
   "source": [
    "plt.figure(figsize=(10, 9))\n",
    "\n",
    "\n",
    "lin_reg_full[\"Close\"].plot()\n",
    "# lin_reg_full[\"Close\"].plot()\n",
    "\n",
    "lin_reg[\"Forecast\"].plot()\n",
    "# lin_reg[\"Compound Sentiment Score\"].plot()\n",
    "# plt.legend(loc=4)\n",
    "plt.xlabel(\"Date\")\n",
    "plt.ylabel(\"Price\")\n",
    "plt.show()"
   ]
  },
  {
   "cell_type": "code",
   "execution_count": 53,
   "id": "52078b06",
   "metadata": {},
   "outputs": [
    {
     "data": {
      "image/png": "[encoded data removed]",
      "text/plain": [
       "<Figure size 1080x648 with 1 Axes>"
      ]
     },
     "metadata": {},
     "output_type": "display_data"
    },
    {
     "data": {
      "application/javascript": [
       "\n",
       "            setTimeout(function() {\n",
       "                var nbb_cell_id = 53;\n",
       "                var nbb_unformatted_code = \"plt.figure(figsize=(15, 9))\\n\\n\\nlin_reg[\\\"Close\\\"].plot()\\n# plt.legend(loc=4)\\nplt.xlabel(\\\"Date\\\")\\nplt.ylabel(\\\"Price\\\")\\nplt.show()\";\n",
       "                var nbb_formatted_code = \"plt.figure(figsize=(15, 9))\\n\\n\\nlin_reg[\\\"Close\\\"].plot()\\n# plt.legend(loc=4)\\nplt.xlabel(\\\"Date\\\")\\nplt.ylabel(\\\"Price\\\")\\nplt.show()\";\n",
       "                var nbb_cells = Jupyter.notebook.get_cells();\n",
       "                for (var i = 0; i < nbb_cells.length; ++i) {\n",
       "                    if (nbb_cells[i].input_prompt_number == nbb_cell_id) {\n",
       "                        if (nbb_cells[i].get_text() == nbb_unformatted_code) {\n",
       "                             nbb_cells[i].set_text(nbb_formatted_code);\n",
       "                        }\n",
       "                        break;\n",
       "                    }\n",
       "                }\n",
       "            }, 500);\n",
       "            "
      ],
      "text/plain": [
       "<IPython.core.display.Javascript object>"
      ]
     },
     "metadata": {},
     "output_type": "display_data"
    }
   ],
   "source": [
    "plt.figure(figsize=(15, 9))\n",
    "\n",
    "\n",
    "lin_reg[\"Close\"].plot()\n",
    "# plt.legend(loc=4)\n",
    "plt.xlabel(\"Date\")\n",
    "plt.ylabel(\"Price\")\n",
    "plt.show()"
   ]
  },
  {
   "cell_type": "code",
   "execution_count": null,
   "id": "9c4b4061",
   "metadata": {},
   "outputs": [],
   "source": []
  },
  {
   "cell_type": "code",
   "execution_count": null,
   "id": "6d6860ac",
   "metadata": {},
   "outputs": [],
   "source": []
  },
  {
   "cell_type": "code",
   "execution_count": null,
   "id": "da653180",
   "metadata": {},
   "outputs": [],
   "source": []
  }
 ],
 "metadata": {
  "kernelspec": {
   "display_name": "Python 3",
   "language": "python",
   "name": "python3"
  },
  "language_info": {
   "codemirror_mode": {
    "name": "ipython",
    "version": 3
   },
   "file_extension": ".py",
   "mimetype": "text/x-python",
   "name": "python",
   "nbconvert_exporter": "python",
   "pygments_lexer": "ipython3",
   "version": "3.8.8"
  }
 },
 "nbformat": 4,
 "nbformat_minor": 5
}
