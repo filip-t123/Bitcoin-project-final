{
 "cells": [
  {
   "cell_type": "code",
   "execution_count": 80,
   "id": "b45605f2",
   "metadata": {},
   "outputs": [],
   "source": [
    "import numpy as np\n",
    "import pandas as pd\n",
    "##### imports for LSTM\n",
    "import matplotlib.pyplot as plt\n",
    "import math\n",
    "import time\n",
    "import datetime\n",
    "from dateutil import parser\n",
    "import matplotlib.dates as mdates\n",
    "import matplotlib.ticker as plticker\n",
    "\n",
    "from sklearn.preprocessing import MinMaxScaler\n",
    "from sklearn.metrics import mean_squared_error\n",
    "\n",
    "from keras.models import Sequential\n",
    "from keras.layers import Dense\n",
    "from keras.layers import LSTM"
   ]
  },
  {
   "cell_type": "code",
   "execution_count": 81,
   "id": "91e42730",
   "metadata": {},
   "outputs": [],
   "source": [
    "# cols = ['Compound Sentiment Score','sentiment change','High','Low','Open','Close','Volume','Marketcap','Volatility','date']\n",
    "\n",
    "# org_df = pd.read_csv('arima_sentiment.csv', usecols=cols)\n",
    "# org_df.to_csv('sent_price_numerical.csv', header=True, index=False, columns=list(org_df.axes[1]))"
   ]
  },
  {
   "cell_type": "code",
   "execution_count": 82,
   "id": "a0e6b174",
   "metadata": {},
   "outputs": [
    {
     "data": {
      "text/html": [
       "<div>\n",
       "<style scoped>\n",
       "    .dataframe tbody tr th:only-of-type {\n",
       "        vertical-align: middle;\n",
       "    }\n",
       "\n",
       "    .dataframe tbody tr th {\n",
       "        vertical-align: top;\n",
       "    }\n",
       "\n",
       "    .dataframe thead th {\n",
       "        text-align: right;\n",
       "    }\n",
       "</style>\n",
       "<table border=\"1\" class=\"dataframe\">\n",
       "  <thead>\n",
       "    <tr style=\"text-align: right;\">\n",
       "      <th></th>\n",
       "      <th>Compound Sentiment Score</th>\n",
       "      <th>sentiment change</th>\n",
       "      <th>High</th>\n",
       "      <th>Low</th>\n",
       "      <th>Open</th>\n",
       "      <th>Close</th>\n",
       "      <th>Volume</th>\n",
       "      <th>Marketcap</th>\n",
       "      <th>Volatility</th>\n",
       "    </tr>\n",
       "    <tr>\n",
       "      <th>date</th>\n",
       "      <th></th>\n",
       "      <th></th>\n",
       "      <th></th>\n",
       "      <th></th>\n",
       "      <th></th>\n",
       "      <th></th>\n",
       "      <th></th>\n",
       "      <th></th>\n",
       "      <th></th>\n",
       "    </tr>\n",
       "  </thead>\n",
       "  <tbody>\n",
       "    <tr>\n",
       "      <th>2013-04-29</th>\n",
       "      <td>0.45880</td>\n",
       "      <td>-0.10970</td>\n",
       "      <td>147.488007</td>\n",
       "      <td>134.000000</td>\n",
       "      <td>134.444000</td>\n",
       "      <td>144.539993</td>\n",
       "      <td>0.000000e+00</td>\n",
       "      <td>1.603769e+09</td>\n",
       "      <td>10.065677</td>\n",
       "    </tr>\n",
       "    <tr>\n",
       "      <th>2013-04-30</th>\n",
       "      <td>0.74420</td>\n",
       "      <td>0.28540</td>\n",
       "      <td>146.929993</td>\n",
       "      <td>134.050003</td>\n",
       "      <td>144.000000</td>\n",
       "      <td>139.000000</td>\n",
       "      <td>0.000000e+00</td>\n",
       "      <td>1.542813e+09</td>\n",
       "      <td>9.608347</td>\n",
       "    </tr>\n",
       "    <tr>\n",
       "      <th>2013-05-01</th>\n",
       "      <td>0.45625</td>\n",
       "      <td>-0.28795</td>\n",
       "      <td>139.889999</td>\n",
       "      <td>107.720001</td>\n",
       "      <td>139.000000</td>\n",
       "      <td>116.989998</td>\n",
       "      <td>0.000000e+00</td>\n",
       "      <td>1.298955e+09</td>\n",
       "      <td>29.864461</td>\n",
       "    </tr>\n",
       "    <tr>\n",
       "      <th>2013-05-02</th>\n",
       "      <td>0.69350</td>\n",
       "      <td>0.23725</td>\n",
       "      <td>125.599998</td>\n",
       "      <td>92.281898</td>\n",
       "      <td>116.379997</td>\n",
       "      <td>105.209999</td>\n",
       "      <td>0.000000e+00</td>\n",
       "      <td>1.168517e+09</td>\n",
       "      <td>36.104697</td>\n",
       "    </tr>\n",
       "    <tr>\n",
       "      <th>2013-05-03</th>\n",
       "      <td>0.62490</td>\n",
       "      <td>-0.06860</td>\n",
       "      <td>108.127998</td>\n",
       "      <td>79.099998</td>\n",
       "      <td>106.250000</td>\n",
       "      <td>97.750000</td>\n",
       "      <td>0.000000e+00</td>\n",
       "      <td>1.085995e+09</td>\n",
       "      <td>36.697851</td>\n",
       "    </tr>\n",
       "    <tr>\n",
       "      <th>...</th>\n",
       "      <td>...</td>\n",
       "      <td>...</td>\n",
       "      <td>...</td>\n",
       "      <td>...</td>\n",
       "      <td>...</td>\n",
       "      <td>...</td>\n",
       "      <td>...</td>\n",
       "      <td>...</td>\n",
       "      <td>...</td>\n",
       "    </tr>\n",
       "    <tr>\n",
       "      <th>2021-02-10</th>\n",
       "      <td>0.40190</td>\n",
       "      <td>0.00000</td>\n",
       "      <td>47145.568199</td>\n",
       "      <td>43881.152599</td>\n",
       "      <td>46469.761202</td>\n",
       "      <td>44918.184492</td>\n",
       "      <td>8.730109e+10</td>\n",
       "      <td>8.366169e+11</td>\n",
       "      <td>7.439220</td>\n",
       "    </tr>\n",
       "    <tr>\n",
       "      <th>2021-02-11</th>\n",
       "      <td>0.41990</td>\n",
       "      <td>0.01800</td>\n",
       "      <td>48463.467125</td>\n",
       "      <td>44187.762351</td>\n",
       "      <td>44898.711611</td>\n",
       "      <td>47909.331195</td>\n",
       "      <td>8.138891e+10</td>\n",
       "      <td>8.923649e+11</td>\n",
       "      <td>9.676219</td>\n",
       "    </tr>\n",
       "    <tr>\n",
       "      <th>2021-02-12</th>\n",
       "      <td>0.40190</td>\n",
       "      <td>-0.01800</td>\n",
       "      <td>48745.733800</td>\n",
       "      <td>46424.977818</td>\n",
       "      <td>47877.034375</td>\n",
       "      <td>47504.851183</td>\n",
       "      <td>7.655504e+10</td>\n",
       "      <td>8.848741e+11</td>\n",
       "      <td>4.998938</td>\n",
       "    </tr>\n",
       "    <tr>\n",
       "      <th>2021-02-13</th>\n",
       "      <td>0.38180</td>\n",
       "      <td>-0.02010</td>\n",
       "      <td>48047.744591</td>\n",
       "      <td>46392.282333</td>\n",
       "      <td>47491.202555</td>\n",
       "      <td>47105.517473</td>\n",
       "      <td>7.025046e+10</td>\n",
       "      <td>8.774789e+11</td>\n",
       "      <td>3.568400</td>\n",
       "    </tr>\n",
       "    <tr>\n",
       "      <th>2021-02-14</th>\n",
       "      <td>0.40190</td>\n",
       "      <td>0.02010</td>\n",
       "      <td>49487.640873</td>\n",
       "      <td>47114.509586</td>\n",
       "      <td>47114.509586</td>\n",
       "      <td>48717.290211</td>\n",
       "      <td>7.124868e+10</td>\n",
       "      <td>9.075513e+11</td>\n",
       "      <td>5.036944</td>\n",
       "    </tr>\n",
       "  </tbody>\n",
       "</table>\n",
       "<p>2849 rows × 9 columns</p>\n",
       "</div>"
      ],
      "text/plain": [
       "            Compound Sentiment Score  sentiment change          High  \\\n",
       "date                                                                   \n",
       "2013-04-29                   0.45880          -0.10970    147.488007   \n",
       "2013-04-30                   0.74420           0.28540    146.929993   \n",
       "2013-05-01                   0.45625          -0.28795    139.889999   \n",
       "2013-05-02                   0.69350           0.23725    125.599998   \n",
       "2013-05-03                   0.62490          -0.06860    108.127998   \n",
       "...                              ...               ...           ...   \n",
       "2021-02-10                   0.40190           0.00000  47145.568199   \n",
       "2021-02-11                   0.41990           0.01800  48463.467125   \n",
       "2021-02-12                   0.40190          -0.01800  48745.733800   \n",
       "2021-02-13                   0.38180          -0.02010  48047.744591   \n",
       "2021-02-14                   0.40190           0.02010  49487.640873   \n",
       "\n",
       "                     Low          Open         Close        Volume  \\\n",
       "date                                                                 \n",
       "2013-04-29    134.000000    134.444000    144.539993  0.000000e+00   \n",
       "2013-04-30    134.050003    144.000000    139.000000  0.000000e+00   \n",
       "2013-05-01    107.720001    139.000000    116.989998  0.000000e+00   \n",
       "2013-05-02     92.281898    116.379997    105.209999  0.000000e+00   \n",
       "2013-05-03     79.099998    106.250000     97.750000  0.000000e+00   \n",
       "...                  ...           ...           ...           ...   \n",
       "2021-02-10  43881.152599  46469.761202  44918.184492  8.730109e+10   \n",
       "2021-02-11  44187.762351  44898.711611  47909.331195  8.138891e+10   \n",
       "2021-02-12  46424.977818  47877.034375  47504.851183  7.655504e+10   \n",
       "2021-02-13  46392.282333  47491.202555  47105.517473  7.025046e+10   \n",
       "2021-02-14  47114.509586  47114.509586  48717.290211  7.124868e+10   \n",
       "\n",
       "               Marketcap  Volatility  \n",
       "date                                  \n",
       "2013-04-29  1.603769e+09   10.065677  \n",
       "2013-04-30  1.542813e+09    9.608347  \n",
       "2013-05-01  1.298955e+09   29.864461  \n",
       "2013-05-02  1.168517e+09   36.104697  \n",
       "2013-05-03  1.085995e+09   36.697851  \n",
       "...                  ...         ...  \n",
       "2021-02-10  8.366169e+11    7.439220  \n",
       "2021-02-11  8.923649e+11    9.676219  \n",
       "2021-02-12  8.848741e+11    4.998938  \n",
       "2021-02-13  8.774789e+11    3.568400  \n",
       "2021-02-14  9.075513e+11    5.036944  \n",
       "\n",
       "[2849 rows x 9 columns]"
      ]
     },
     "execution_count": 82,
     "metadata": {},
     "output_type": "execute_result"
    }
   ],
   "source": [
    "org_df = pd.read_csv('sent_price_numerical.csv', parse_dates=['date'])\n",
    "org_df.set_index('date', inplace=True)\n",
    "\n",
    "org_df"
   ]
  },
  {
   "cell_type": "markdown",
   "id": "28a192f3",
   "metadata": {},
   "source": [
    "# Data scaling"
   ]
  },
  {
   "cell_type": "code",
   "execution_count": 83,
   "id": "cf6a9896",
   "metadata": {},
   "outputs": [
    {
     "name": "stdout",
     "output_type": "stream",
     "text": [
      "Number of features 9\n"
     ]
    }
   ],
   "source": [
    "dataset = org_df.values\n",
    "dataset = dataset.astype('float32')\n",
    "scaler = MinMaxScaler(feature_range=(0, 1))\n",
    "dataset = scaler.fit_transform(dataset)\n",
    "# print('dataset.shape', dataset.shape)\n",
    "num_of_features = len(org_df.columns)\n",
    "print('Number of features', num_of_features)\n"
   ]
  },
  {
   "cell_type": "markdown",
   "id": "3b39d995",
   "metadata": {},
   "source": [
    "config"
   ]
  },
  {
   "cell_type": "code",
   "execution_count": 84,
   "id": "7d199e7f",
   "metadata": {},
   "outputs": [],
   "source": [
    "expr_name = 'expr_1'\n",
    "look_back = 60 # 60 days\n",
    "lstm_layers = 32\n",
    "epochs=10\n",
    "batch_size=128"
   ]
  },
  {
   "cell_type": "markdown",
   "id": "8806010e",
   "metadata": {},
   "source": [
    "spliting datasets into train and test¶\n"
   ]
  },
  {
   "cell_type": "code",
   "execution_count": 85,
   "id": "0240d6a2",
   "metadata": {},
   "outputs": [
    {
     "name": "stdout",
     "output_type": "stream",
     "text": [
      "Training dataset length  2279\n",
      "Testing dataset length  570\n",
      "look_back  60\n"
     ]
    }
   ],
   "source": [
    "train_size_percent = 0.80\n",
    "pred_col = org_df.columns.get_loc('Close')\n",
    "\n",
    "# function to split the data\n",
    "def create_dataset(dataset, pred_col, look_back=1):\n",
    "    dataX, dataY = [], []\n",
    "    for i in range(len(dataset)-look_back-1):\n",
    "        a = dataset[i:(i+look_back), :]\n",
    "        dataX.append(a)\n",
    "        dataY.append(dataset[i + look_back, pred_col])\n",
    "    return np.array(dataX), np.array(dataY)\n",
    "\n",
    "\n",
    "train_size = int(len(dataset) * train_size_percent)\n",
    "test_size = len(dataset) - train_size\n",
    "train, test = dataset[0:train_size, :], dataset[train_size:len(dataset), :]\n",
    "\n",
    "trainX, trainY = create_dataset(train, pred_col, look_back=look_back)\n",
    "testX, testY = create_dataset(test, pred_col, look_back=look_back)\n",
    "# reshape input to be  [samples, time steps, features]\n",
    "trainX = np.reshape(trainX, (trainX.shape[0], look_back, num_of_features))\n",
    "testX = np.reshape(testX, (testX.shape[0],look_back, num_of_features))\n",
    "\n",
    "print('Training dataset length ', len(train))\n",
    "print('Testing dataset length ', len(test))\n",
    "print('look_back ', look_back)"
   ]
  },
  {
   "cell_type": "markdown",
   "id": "64699c72",
   "metadata": {},
   "source": [
    "Build the model and train¶\n"
   ]
  },
  {
   "cell_type": "code",
   "execution_count": 86,
   "id": "ad38cf68",
   "metadata": {},
   "outputs": [
    {
     "name": "stdout",
     "output_type": "stream",
     "text": [
      "Epoch 1/10\n",
      "13/13 [==============================] - 3s 53ms/step - loss: 5.3987e-04 - val_loss: 0.0073\n",
      "Epoch 2/10\n",
      "13/13 [==============================] - 0s 17ms/step - loss: 0.0010 - val_loss: 0.0047\n",
      "Epoch 3/10\n",
      "13/13 [==============================] - 0s 18ms/step - loss: 3.5533e-04 - val_loss: 0.0019\n",
      "Epoch 4/10\n",
      "13/13 [==============================] - 0s 18ms/step - loss: 1.4724e-04 - val_loss: 3.3764e-04\n",
      "Epoch 5/10\n",
      "13/13 [==============================] - 0s 18ms/step - loss: 8.0767e-05 - val_loss: 3.1440e-04\n",
      "Epoch 6/10\n",
      "13/13 [==============================] - 0s 18ms/step - loss: 3.5518e-05 - val_loss: 4.0485e-04\n",
      "Epoch 7/10\n",
      "13/13 [==============================] - 0s 19ms/step - loss: 2.9797e-05 - val_loss: 6.7858e-04\n",
      "Epoch 8/10\n",
      "13/13 [==============================] - 0s 18ms/step - loss: 4.0225e-05 - val_loss: 6.7294e-04\n",
      "Epoch 9/10\n",
      "13/13 [==============================] - 0s 18ms/step - loss: 3.5480e-05 - val_loss: 4.6568e-04\n",
      "Epoch 10/10\n",
      "13/13 [==============================] - 0s 20ms/step - loss: 2.1565e-05 - val_loss: 3.4358e-04\n"
     ]
    }
   ],
   "source": [
    "# create and fit the LSTM network\n",
    "\n",
    "model = Sequential()\n",
    "model.add(LSTM(lstm_layers, input_shape=(look_back,num_of_features)))\n",
    "model.add(Dense(1))\n",
    "model.compile(loss='mean_squared_error', optimizer='adam')\n",
    "history= model.fit(trainX, trainY,validation_split=0.30, epochs=epochs, batch_size=batch_size,shuffle=False)"
   ]
  },
  {
   "cell_type": "code",
   "execution_count": 87,
   "id": "217adcc7",
   "metadata": {},
   "outputs": [
    {
     "data": {
      "image/png": "[encoded data removed]",
      "text/plain": [
       "<Figure size 432x288 with 1 Axes>"
      ]
     },
     "metadata": {
      "needs_background": "light"
     },
     "output_type": "display_data"
    }
   ],
   "source": [
    "# Plot training\n",
    "plt.plot(history.history['loss'])\n",
    "plt.plot(history.history['val_loss'])\n",
    "plt.title('Model loss')\n",
    "plt.ylabel('Loss')\n",
    "plt.xlabel('Epoch')\n",
    "plt.legend(['training', 'validation'], loc='upper right')\n",
    "plt.show()"
   ]
  },
  {
   "cell_type": "code",
   "execution_count": 88,
   "id": "d3b8665c",
   "metadata": {},
   "outputs": [],
   "source": [
    "trainPredict = model.predict(trainX)\n",
    "testPredict = model.predict(testX)\n",
    "\n",
    "# Get something which has as many features as dataset\n",
    "trainPredict_extended = np.zeros((len(trainPredict),num_of_features))\n",
    "# Put the predictions there\n",
    "trainPredict_extended[:,pred_col] = trainPredict[:,0]\n",
    "# Inverse transform it and select the 3rd column.\n",
    "trainPredict = scaler.inverse_transform(trainPredict_extended) [:,pred_col]\n",
    "\n",
    "# Get something which has as many features as dataset\n",
    "testPredict_extended = np.zeros((len(testPredict),num_of_features))\n",
    "# Put the predictions there\n",
    "testPredict_extended[:,pred_col] = testPredict[:,0]\n",
    "# Inverse transform it and select the pred_col column.\n",
    "testPredict = scaler.inverse_transform(testPredict_extended)[:,pred_col] \n",
    "\n",
    "trainY_extended = np.zeros((len(trainY),num_of_features))\n",
    "trainY_extended[:,pred_col]=trainY\n",
    "trainY = scaler.inverse_transform(trainY_extended)[:,pred_col]\n",
    "\n",
    "testY_extended = np.zeros((len(testY),num_of_features))\n",
    "testY_extended[:,pred_col]=testY\n",
    "testY = scaler.inverse_transform(testY_extended)[:,pred_col]\n",
    "\n",
    "# calculate root mean squared error\n",
    "trainScore_RMSE = math.sqrt(mean_squared_error(trainY, trainPredict))\n",
    "testScore_RMSE = math.sqrt(mean_squared_error(testY, testPredict))\n",
    "\n",
    "# calculate absolute mean error\n",
    "trainScore_MAE = np.sum(np.absolute(trainY - trainPredict))/len(trainY)\n",
    "testScore_MAE = np.sum(np.absolute(testY - testPredict))/len(testY)"
   ]
  },
  {
   "cell_type": "code",
   "execution_count": 89,
   "id": "aaa03688",
   "metadata": {},
   "outputs": [
    {
     "data": {
      "image/png": "[encoded data removed]",
      "text/plain": [
       "<Figure size 1080x504 with 1 Axes>"
      ]
     },
     "metadata": {
      "needs_background": "light"
     },
     "output_type": "display_data"
    }
   ],
   "source": [
    "# shift train predictions for plotting\n",
    "trainPredictPlot = np.empty_like(dataset)\n",
    "trainPredictPlot[:, :] = np.nan\n",
    "trainPredictPlot[look_back:len(trainPredict)+look_back, pred_col] = trainPredict\n",
    "\n",
    "# shift test predictions for plotting\n",
    "testPredictPlot = np.empty_like(dataset)\n",
    "testPredictPlot[:, :] = np.nan\n",
    "testPredictPlot[len(trainPredict)+(look_back*2)+1:len(dataset)-1, pred_col] = testPredict\n",
    "\n",
    "# contruct pandas dataframe for plotting\n",
    "time_df = pd.DataFrame(org_df.index)\n",
    "time_df['Actual'] = scaler.inverse_transform(dataset)[:,pred_col]\n",
    "df1 = pd.DataFrame(trainPredictPlot[:,pred_col],columns=['Train'])\n",
    "df2 = pd.DataFrame(testPredictPlot[:,pred_col],columns=['Test'])\n",
    "time_df2 = pd.concat([time_df, df1, df2], axis=1, sort=False)\n",
    "time_df2.set_index('date',inplace=True)\n",
    "\n",
    "# plot the output\n",
    "fig, ax = plt.subplots(figsize=(15,7))\n",
    "time_df2.plot(ax=ax,rot=90,alpha=0.7)\n",
    "plt.xlabel('Date')\n",
    "plt.ylabel('Bitcoin Value')\n",
    "plt.title('Bitcoin Price Prediction')\n",
    "plt.savefig(expr_name + '.png',bbox_inches = \"tight\")"
   ]
  },
  {
   "cell_type": "code",
   "execution_count": 90,
   "id": "cd6a00e8",
   "metadata": {},
   "outputs": [
    {
     "name": "stdout",
     "output_type": "stream",
     "text": [
      "--------------------------------------------------\n",
      "Experiment name: expr_1\n",
      "--------------------------------------------------\n",
      "look_back days: 60\n",
      "lstm_layers: 32\n",
      "epochs: 10\n",
      "batch_size: 128\n",
      "dataset features ['Compound Sentiment Score', 'sentiment change', 'High', 'Low', 'Open', 'Close', 'Volume', 'Marketcap', 'Volatility']\n",
      "--------------------------------------------------\n",
      "Train Score: 521.47 RMSE\n",
      "Test Score: 3578.25 RMSE\n",
      "--------------------------------------------------\n",
      "Train Score: 301.81 MAE\n",
      "Test Score: 2360.81 MAE\n",
      "--------------------------------------------------\n",
      "Model summary:\n",
      "Model: \"sequential_4\"\n",
      "_________________________________________________________________\n",
      "Layer (type)                 Output Shape              Param #   \n",
      "=================================================================\n",
      "lstm_4 (LSTM)                (None, 32)                5376      \n",
      "_________________________________________________________________\n",
      "dense_4 (Dense)              (None, 1)                 33        \n",
      "=================================================================\n",
      "Total params: 5,409\n",
      "Trainable params: 5,409\n",
      "Non-trainable params: 0\n",
      "_________________________________________________________________\n"
     ]
    }
   ],
   "source": [
    "print('-' * 50)\n",
    "print('Experiment name:', expr_name)\n",
    "\n",
    "print('-' * 50)\n",
    "print('look_back days:', look_back)\n",
    "print('lstm_layers:', lstm_layers)\n",
    "print('epochs:', epochs)\n",
    "print('batch_size:', batch_size)\n",
    "print('dataset features', list(org_df.columns))\n",
    "\n",
    "\n",
    "print('-' * 50)\n",
    "print('Train Score: %.2f RMSE' % (trainScore_RMSE))\n",
    "print('Test Score: %.2f RMSE' % (testScore_RMSE))\n",
    "\n",
    "print('-' * 50)\n",
    "print('Train Score: %.2f MAE' % (trainScore_MAE))\n",
    "print('Test Score: %.2f MAE' % (testScore_MAE))\n",
    "\n",
    "print('-' * 50)\n",
    "print('Model summary:')\n",
    "model.summary()"
   ]
  },
  {
   "cell_type": "code",
   "execution_count": 91,
   "id": "c3c78c57",
   "metadata": {},
   "outputs": [
    {
     "data": {
      "text/plain": [
       "521.4730799542667"
      ]
     },
     "execution_count": 91,
     "metadata": {},
     "output_type": "execute_result"
    }
   ],
   "source": [
    "trainScore_RMSE"
   ]
  },
  {
   "cell_type": "code",
   "execution_count": null,
   "id": "5b2b30e8",
   "metadata": {},
   "outputs": [],
   "source": []
  },
  {
   "cell_type": "code",
   "execution_count": null,
   "id": "80ac2002",
   "metadata": {},
   "outputs": [],
   "source": []
  }
 ],
 "metadata": {
  "kernelspec": {
   "display_name": "Python 3",
   "language": "python",
   "name": "python3"
  },
  "language_info": {
   "codemirror_mode": {
    "name": "ipython",
    "version": 3
   },
   "file_extension": ".py",
   "mimetype": "text/x-python",
   "name": "python",
   "nbconvert_exporter": "python",
   "pygments_lexer": "ipython3",
   "version": "3.8.8"
  }
 },
 "nbformat": 4,
 "nbformat_minor": 5
}
