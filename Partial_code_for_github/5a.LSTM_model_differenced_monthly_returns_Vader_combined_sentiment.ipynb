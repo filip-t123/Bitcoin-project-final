{
 "cells": [
  {
   "cell_type": "code",
   "execution_count": 2,
   "id": "d3f0d575",
   "metadata": {},
   "outputs": [],
   "source": [
    "import numpy as np\n",
    "import pandas as pd\n",
    "##### imports for LSTM\n",
    "import matplotlib.pyplot as plt\n",
    "import math\n",
    "import time\n",
    "import datetime\n",
    "from dateutil import parser\n",
    "import matplotlib.dates as mdates\n",
    "import matplotlib.ticker as plticker\n",
    "from sklearn.metrics import confusion_matrix\n",
    "\n",
    "\n",
    "from sklearn.preprocessing import MinMaxScaler\n",
    "from sklearn.metrics import mean_squared_error\n",
    "\n",
    "from keras.models import Sequential\n",
    "from keras.layers import Dense\n",
    "from keras.layers import LSTM"
   ]
  },
  {
   "cell_type": "code",
   "execution_count": 3,
   "id": "ce16d163",
   "metadata": {},
   "outputs": [],
   "source": [
    "# cols = ['Compound Sentiment Score','sentiment change','High','Low','Open','Close','Volume','Marketcap','Volatility','date']\n",
    "\n",
    "# org_df = pd.read_csv('arima_sentiment.csv', usecols=cols)\n",
    "# org_df.to_csv('sent_price_numerical.csv', header=True, index=False, columns=list(org_df.axes[1]))"
   ]
  },
  {
   "cell_type": "code",
   "execution_count": 4,
   "id": "54989ed7",
   "metadata": {},
   "outputs": [
    {
     "data": {
      "text/html": [
       "<div>\n",
       "<style scoped>\n",
       "    .dataframe tbody tr th:only-of-type {\n",
       "        vertical-align: middle;\n",
       "    }\n",
       "\n",
       "    .dataframe tbody tr th {\n",
       "        vertical-align: top;\n",
       "    }\n",
       "\n",
       "    .dataframe thead th {\n",
       "        text-align: right;\n",
       "    }\n",
       "</style>\n",
       "<table border=\"1\" class=\"dataframe\">\n",
       "  <thead>\n",
       "    <tr style=\"text-align: right;\">\n",
       "      <th></th>\n",
       "      <th>Compound Sentiment Score</th>\n",
       "      <th>sentiment change</th>\n",
       "      <th>High</th>\n",
       "      <th>Low</th>\n",
       "      <th>Open</th>\n",
       "      <th>Close</th>\n",
       "      <th>Volume</th>\n",
       "      <th>Marketcap</th>\n",
       "      <th>Volatility</th>\n",
       "    </tr>\n",
       "    <tr>\n",
       "      <th>date</th>\n",
       "      <th></th>\n",
       "      <th></th>\n",
       "      <th></th>\n",
       "      <th></th>\n",
       "      <th></th>\n",
       "      <th></th>\n",
       "      <th></th>\n",
       "      <th></th>\n",
       "      <th></th>\n",
       "    </tr>\n",
       "  </thead>\n",
       "  <tbody>\n",
       "    <tr>\n",
       "      <th>2013-04-29</th>\n",
       "      <td>0.45880</td>\n",
       "      <td>-0.10970</td>\n",
       "      <td>147.488007</td>\n",
       "      <td>134.000000</td>\n",
       "      <td>134.444000</td>\n",
       "      <td>144.539993</td>\n",
       "      <td>0.000000e+00</td>\n",
       "      <td>1.603769e+09</td>\n",
       "      <td>10.065677</td>\n",
       "    </tr>\n",
       "    <tr>\n",
       "      <th>2013-04-30</th>\n",
       "      <td>0.74420</td>\n",
       "      <td>0.28540</td>\n",
       "      <td>146.929993</td>\n",
       "      <td>134.050003</td>\n",
       "      <td>144.000000</td>\n",
       "      <td>139.000000</td>\n",
       "      <td>0.000000e+00</td>\n",
       "      <td>1.542813e+09</td>\n",
       "      <td>9.608347</td>\n",
       "    </tr>\n",
       "    <tr>\n",
       "      <th>2013-05-01</th>\n",
       "      <td>0.45625</td>\n",
       "      <td>-0.28795</td>\n",
       "      <td>139.889999</td>\n",
       "      <td>107.720001</td>\n",
       "      <td>139.000000</td>\n",
       "      <td>116.989998</td>\n",
       "      <td>0.000000e+00</td>\n",
       "      <td>1.298955e+09</td>\n",
       "      <td>29.864461</td>\n",
       "    </tr>\n",
       "    <tr>\n",
       "      <th>2013-05-02</th>\n",
       "      <td>0.69350</td>\n",
       "      <td>0.23725</td>\n",
       "      <td>125.599998</td>\n",
       "      <td>92.281898</td>\n",
       "      <td>116.379997</td>\n",
       "      <td>105.209999</td>\n",
       "      <td>0.000000e+00</td>\n",
       "      <td>1.168517e+09</td>\n",
       "      <td>36.104697</td>\n",
       "    </tr>\n",
       "    <tr>\n",
       "      <th>2013-05-03</th>\n",
       "      <td>0.62490</td>\n",
       "      <td>-0.06860</td>\n",
       "      <td>108.127998</td>\n",
       "      <td>79.099998</td>\n",
       "      <td>106.250000</td>\n",
       "      <td>97.750000</td>\n",
       "      <td>0.000000e+00</td>\n",
       "      <td>1.085995e+09</td>\n",
       "      <td>36.697851</td>\n",
       "    </tr>\n",
       "    <tr>\n",
       "      <th>...</th>\n",
       "      <td>...</td>\n",
       "      <td>...</td>\n",
       "      <td>...</td>\n",
       "      <td>...</td>\n",
       "      <td>...</td>\n",
       "      <td>...</td>\n",
       "      <td>...</td>\n",
       "      <td>...</td>\n",
       "      <td>...</td>\n",
       "    </tr>\n",
       "    <tr>\n",
       "      <th>2021-02-10</th>\n",
       "      <td>0.40190</td>\n",
       "      <td>0.00000</td>\n",
       "      <td>47145.568199</td>\n",
       "      <td>43881.152599</td>\n",
       "      <td>46469.761202</td>\n",
       "      <td>44918.184492</td>\n",
       "      <td>8.730109e+10</td>\n",
       "      <td>8.366169e+11</td>\n",
       "      <td>7.439220</td>\n",
       "    </tr>\n",
       "    <tr>\n",
       "      <th>2021-02-11</th>\n",
       "      <td>0.41990</td>\n",
       "      <td>0.01800</td>\n",
       "      <td>48463.467125</td>\n",
       "      <td>44187.762351</td>\n",
       "      <td>44898.711611</td>\n",
       "      <td>47909.331195</td>\n",
       "      <td>8.138891e+10</td>\n",
       "      <td>8.923649e+11</td>\n",
       "      <td>9.676219</td>\n",
       "    </tr>\n",
       "    <tr>\n",
       "      <th>2021-02-12</th>\n",
       "      <td>0.40190</td>\n",
       "      <td>-0.01800</td>\n",
       "      <td>48745.733800</td>\n",
       "      <td>46424.977818</td>\n",
       "      <td>47877.034375</td>\n",
       "      <td>47504.851183</td>\n",
       "      <td>7.655504e+10</td>\n",
       "      <td>8.848741e+11</td>\n",
       "      <td>4.998938</td>\n",
       "    </tr>\n",
       "    <tr>\n",
       "      <th>2021-02-13</th>\n",
       "      <td>0.38180</td>\n",
       "      <td>-0.02010</td>\n",
       "      <td>48047.744591</td>\n",
       "      <td>46392.282333</td>\n",
       "      <td>47491.202555</td>\n",
       "      <td>47105.517473</td>\n",
       "      <td>7.025046e+10</td>\n",
       "      <td>8.774789e+11</td>\n",
       "      <td>3.568400</td>\n",
       "    </tr>\n",
       "    <tr>\n",
       "      <th>2021-02-14</th>\n",
       "      <td>0.40190</td>\n",
       "      <td>0.02010</td>\n",
       "      <td>49487.640873</td>\n",
       "      <td>47114.509586</td>\n",
       "      <td>47114.509586</td>\n",
       "      <td>48717.290211</td>\n",
       "      <td>7.124868e+10</td>\n",
       "      <td>9.075513e+11</td>\n",
       "      <td>5.036944</td>\n",
       "    </tr>\n",
       "  </tbody>\n",
       "</table>\n",
       "<p>2849 rows × 9 columns</p>\n",
       "</div>"
      ],
      "text/plain": [
       "            Compound Sentiment Score  sentiment change          High  \\\n",
       "date                                                                   \n",
       "2013-04-29                   0.45880          -0.10970    147.488007   \n",
       "2013-04-30                   0.74420           0.28540    146.929993   \n",
       "2013-05-01                   0.45625          -0.28795    139.889999   \n",
       "2013-05-02                   0.69350           0.23725    125.599998   \n",
       "2013-05-03                   0.62490          -0.06860    108.127998   \n",
       "...                              ...               ...           ...   \n",
       "2021-02-10                   0.40190           0.00000  47145.568199   \n",
       "2021-02-11                   0.41990           0.01800  48463.467125   \n",
       "2021-02-12                   0.40190          -0.01800  48745.733800   \n",
       "2021-02-13                   0.38180          -0.02010  48047.744591   \n",
       "2021-02-14                   0.40190           0.02010  49487.640873   \n",
       "\n",
       "                     Low          Open         Close        Volume  \\\n",
       "date                                                                 \n",
       "2013-04-29    134.000000    134.444000    144.539993  0.000000e+00   \n",
       "2013-04-30    134.050003    144.000000    139.000000  0.000000e+00   \n",
       "2013-05-01    107.720001    139.000000    116.989998  0.000000e+00   \n",
       "2013-05-02     92.281898    116.379997    105.209999  0.000000e+00   \n",
       "2013-05-03     79.099998    106.250000     97.750000  0.000000e+00   \n",
       "...                  ...           ...           ...           ...   \n",
       "2021-02-10  43881.152599  46469.761202  44918.184492  8.730109e+10   \n",
       "2021-02-11  44187.762351  44898.711611  47909.331195  8.138891e+10   \n",
       "2021-02-12  46424.977818  47877.034375  47504.851183  7.655504e+10   \n",
       "2021-02-13  46392.282333  47491.202555  47105.517473  7.025046e+10   \n",
       "2021-02-14  47114.509586  47114.509586  48717.290211  7.124868e+10   \n",
       "\n",
       "               Marketcap  Volatility  \n",
       "date                                  \n",
       "2013-04-29  1.603769e+09   10.065677  \n",
       "2013-04-30  1.542813e+09    9.608347  \n",
       "2013-05-01  1.298955e+09   29.864461  \n",
       "2013-05-02  1.168517e+09   36.104697  \n",
       "2013-05-03  1.085995e+09   36.697851  \n",
       "...                  ...         ...  \n",
       "2021-02-10  8.366169e+11    7.439220  \n",
       "2021-02-11  8.923649e+11    9.676219  \n",
       "2021-02-12  8.848741e+11    4.998938  \n",
       "2021-02-13  8.774789e+11    3.568400  \n",
       "2021-02-14  9.075513e+11    5.036944  \n",
       "\n",
       "[2849 rows x 9 columns]"
      ]
     },
     "execution_count": 4,
     "metadata": {},
     "output_type": "execute_result"
    }
   ],
   "source": [
    "org_df = pd.read_csv('sent_price_numerical.csv', parse_dates=['date'])\n",
    "org_df.set_index('date', inplace=True)\n",
    "\n",
    "org_df"
   ]
  },
  {
   "cell_type": "markdown",
   "id": "5925ea16",
   "metadata": {},
   "source": [
    "# creating monthly returns"
   ]
  },
  {
   "cell_type": "code",
   "execution_count": 8,
   "id": "7eeadd24",
   "metadata": {},
   "outputs": [
    {
     "data": {
      "image/png": "[encoded data removed]",
      "text/plain": [
       "<Figure size 432x288 with 1 Axes>"
      ]
     },
     "metadata": {
      "needs_background": "light"
     },
     "output_type": "display_data"
    },
    {
     "name": "stderr",
     "output_type": "stream",
     "text": [
      "<ipython-input-8-fd457fb554dc>:38: SettingWithCopyWarning: \n",
      "A value is trying to be set on a copy of a slice from a DataFrame.\n",
      "Try using .loc[row_indexer,col_indexer] = value instead\n",
      "\n",
      "See the caveats in the documentation: https://pandas.pydata.org/pandas-docs/stable/user_guide/indexing.html#returning-a-view-versus-a-copy\n",
      "  df['monthly returns'] = monthly_returns\n"
     ]
    },
    {
     "data": {
      "image/png": "[encoded data removed]",
      "text/plain": [
       "<Figure size 432x288 with 1 Axes>"
      ]
     },
     "metadata": {
      "needs_background": "light"
     },
     "output_type": "display_data"
    }
   ],
   "source": [
    "close = org_df['Close']\n",
    "\n",
    "monthly_returns = []\n",
    "\n",
    "for i in range(0, len(close)-30):\n",
    "#     print(i)\n",
    "#     print(close[i])\n",
    "    result = (close[i+30]-close[i])\n",
    "    monthly_returns.append(result)\n",
    "#     print(i)\n",
    "\n",
    "# detrend = []\n",
    "\n",
    "# for i in range(0, len(close)-1):\n",
    "#     result = ((close[i+1]-close[i])/close[i])*100\n",
    "#     detrend.append(result)\n",
    "    \n",
    "# detrend\n",
    "# plt.plot(monthly_returns)\n",
    "plt.plot(monthly_returns)\n",
    "# plt.plot(org_df['Volatility'])\n",
    "plt.title('returns')\n",
    "plt.ylabel('percentage')\n",
    "plt.xlabel('Epoch')\n",
    "plt.legend(['training', 'validation'], loc='upper right')\n",
    "plt.show()\n",
    "\n",
    "# min(monthly_returns), max(monthly_returns)\n",
    "\n",
    "plt.hist(monthly_returns, bins=100)\n",
    "\n",
    "# df\n",
    "    \n",
    "# returns = org_df['Close']\n",
    "# returns\n",
    "\n",
    "df = org_df[30:]\n",
    "df['monthly returns'] = monthly_returns"
   ]
  },
  {
   "cell_type": "code",
   "execution_count": 3,
   "id": "e1cdf950",
   "metadata": {},
   "outputs": [
    {
     "ename": "NameError",
     "evalue": "name 'monthly_returns' is not defined",
     "output_type": "error",
     "traceback": [
      "\u001b[1;31m---------------------------------------------------------------------------\u001b[0m",
      "\u001b[1;31mNameError\u001b[0m                                 Traceback (most recent call last)",
      "\u001b[1;32m<ipython-input-3-a82134abe420>\u001b[0m in \u001b[0;36m<module>\u001b[1;34m\u001b[0m\n\u001b[0;32m      1\u001b[0m \u001b[0mstable_returns\u001b[0m \u001b[1;33m=\u001b[0m \u001b[1;33m[\u001b[0m\u001b[1;33m]\u001b[0m\u001b[1;33m\u001b[0m\u001b[1;33m\u001b[0m\u001b[0m\n\u001b[0;32m      2\u001b[0m \u001b[1;33m\u001b[0m\u001b[0m\n\u001b[1;32m----> 3\u001b[1;33m \u001b[1;32mfor\u001b[0m \u001b[0mi\u001b[0m \u001b[1;32min\u001b[0m \u001b[0mrange\u001b[0m\u001b[1;33m(\u001b[0m\u001b[1;36m0\u001b[0m\u001b[1;33m,\u001b[0m\u001b[0mlen\u001b[0m\u001b[1;33m(\u001b[0m\u001b[0mmonthly_returns\u001b[0m\u001b[1;33m)\u001b[0m\u001b[1;33m-\u001b[0m\u001b[1;36m1\u001b[0m\u001b[1;33m)\u001b[0m\u001b[1;33m:\u001b[0m\u001b[1;33m\u001b[0m\u001b[1;33m\u001b[0m\u001b[0m\n\u001b[0m\u001b[0;32m      4\u001b[0m     \u001b[0mresult\u001b[0m \u001b[1;33m=\u001b[0m \u001b[1;33m(\u001b[0m\u001b[0mmonthly_returns\u001b[0m\u001b[1;33m[\u001b[0m\u001b[0mi\u001b[0m\u001b[1;33m+\u001b[0m\u001b[1;36m1\u001b[0m\u001b[1;33m]\u001b[0m\u001b[1;33m-\u001b[0m\u001b[0mmonthly_returns\u001b[0m\u001b[1;33m[\u001b[0m\u001b[0mi\u001b[0m\u001b[1;33m]\u001b[0m\u001b[1;33m)\u001b[0m\u001b[1;33m\u001b[0m\u001b[1;33m\u001b[0m\u001b[0m\n\u001b[0;32m      5\u001b[0m     \u001b[0mstable_returns\u001b[0m\u001b[1;33m.\u001b[0m\u001b[0mappend\u001b[0m\u001b[1;33m(\u001b[0m\u001b[0mresult\u001b[0m\u001b[1;33m)\u001b[0m\u001b[1;33m\u001b[0m\u001b[1;33m\u001b[0m\u001b[0m\n",
      "\u001b[1;31mNameError\u001b[0m: name 'monthly_returns' is not defined"
     ]
    }
   ],
   "source": [
    "stable_returns = []\n",
    "\n",
    "for i in range(0,len(monthly_returns)-1):\n",
    "    result = (monthly_returns[i+1]-monthly_returns[i])\n",
    "    stable_returns.append(result)\n",
    "               \n",
    "stable_returns\n",
    "\n",
    "plt.plot(stable_returns)\n",
    "type(stable_returns)\n",
    "print(max(stable_returns),min(stable_returns))"
   ]
  },
  {
   "cell_type": "code",
   "execution_count": 2,
   "id": "06722d69",
   "metadata": {},
   "outputs": [
    {
     "ename": "NameError",
     "evalue": "name 'stable_returns' is not defined",
     "output_type": "error",
     "traceback": [
      "\u001b[1;31m---------------------------------------------------------------------------\u001b[0m",
      "\u001b[1;31mNameError\u001b[0m                                 Traceback (most recent call last)",
      "\u001b[1;32m<ipython-input-2-3e400cdd5605>\u001b[0m in \u001b[0;36m<module>\u001b[1;34m\u001b[0m\n\u001b[1;32m----> 1\u001b[1;33m \u001b[0morg_df\u001b[0m\u001b[1;33m[\u001b[0m\u001b[1;34m'differenced returns'\u001b[0m\u001b[1;33m]\u001b[0m \u001b[1;33m=\u001b[0m \u001b[0mstable_returns\u001b[0m\u001b[1;33m.\u001b[0m\u001b[0mvalues\u001b[0m\u001b[1;33m\u001b[0m\u001b[1;33m\u001b[0m\u001b[0m\n\u001b[0m\u001b[0;32m      2\u001b[0m \u001b[0morg_df\u001b[0m\u001b[1;33m\u001b[0m\u001b[1;33m\u001b[0m\u001b[0m\n",
      "\u001b[1;31mNameError\u001b[0m: name 'stable_returns' is not defined"
     ]
    }
   ],
   "source": [
    "org_df['differenced returns'] = stable_returns.values\n",
    "org_df"
   ]
  },
  {
   "cell_type": "code",
   "execution_count": 79,
   "id": "9fee61f7",
   "metadata": {},
   "outputs": [
    {
     "data": {
      "text/html": [
       "<div>\n",
       "<style scoped>\n",
       "    .dataframe tbody tr th:only-of-type {\n",
       "        vertical-align: middle;\n",
       "    }\n",
       "\n",
       "    .dataframe tbody tr th {\n",
       "        vertical-align: top;\n",
       "    }\n",
       "\n",
       "    .dataframe thead th {\n",
       "        text-align: right;\n",
       "    }\n",
       "</style>\n",
       "<table border=\"1\" class=\"dataframe\">\n",
       "  <thead>\n",
       "    <tr style=\"text-align: right;\">\n",
       "      <th></th>\n",
       "      <th>Compound Sentiment Score</th>\n",
       "      <th>sentiment change</th>\n",
       "      <th>High</th>\n",
       "      <th>Low</th>\n",
       "      <th>Open</th>\n",
       "      <th>Close</th>\n",
       "      <th>Volume</th>\n",
       "      <th>Marketcap</th>\n",
       "      <th>Volatility</th>\n",
       "      <th>monthly returns</th>\n",
       "    </tr>\n",
       "    <tr>\n",
       "      <th>date</th>\n",
       "      <th></th>\n",
       "      <th></th>\n",
       "      <th></th>\n",
       "      <th></th>\n",
       "      <th></th>\n",
       "      <th></th>\n",
       "      <th></th>\n",
       "      <th></th>\n",
       "      <th></th>\n",
       "      <th></th>\n",
       "    </tr>\n",
       "  </thead>\n",
       "  <tbody>\n",
       "    <tr>\n",
       "      <th>2013-05-29</th>\n",
       "      <td>0.37030</td>\n",
       "      <td>-0.04600</td>\n",
       "      <td>132.589996</td>\n",
       "      <td>127.662003</td>\n",
       "      <td>129.000000</td>\n",
       "      <td>132.300003</td>\n",
       "      <td>0.000000e+00</td>\n",
       "      <td>1.483735e+09</td>\n",
       "      <td>3.860188</td>\n",
       "      <td>-12.239990</td>\n",
       "    </tr>\n",
       "    <tr>\n",
       "      <th>2013-05-30</th>\n",
       "      <td>0.40190</td>\n",
       "      <td>0.03160</td>\n",
       "      <td>132.250000</td>\n",
       "      <td>127.000000</td>\n",
       "      <td>132.250000</td>\n",
       "      <td>128.798996</td>\n",
       "      <td>0.000000e+00</td>\n",
       "      <td>1.445054e+09</td>\n",
       "      <td>4.133858</td>\n",
       "      <td>-10.201004</td>\n",
       "    </tr>\n",
       "    <tr>\n",
       "      <th>2013-05-31</th>\n",
       "      <td>-0.10985</td>\n",
       "      <td>-0.51175</td>\n",
       "      <td>129.899994</td>\n",
       "      <td>126.400002</td>\n",
       "      <td>128.798996</td>\n",
       "      <td>129.000000</td>\n",
       "      <td>0.000000e+00</td>\n",
       "      <td>1.447870e+09</td>\n",
       "      <td>2.768981</td>\n",
       "      <td>12.010002</td>\n",
       "    </tr>\n",
       "    <tr>\n",
       "      <th>2013-06-01</th>\n",
       "      <td>0.49270</td>\n",
       "      <td>0.60255</td>\n",
       "      <td>129.779999</td>\n",
       "      <td>127.198997</td>\n",
       "      <td>128.815002</td>\n",
       "      <td>129.300003</td>\n",
       "      <td>0.000000e+00</td>\n",
       "      <td>1.451916e+09</td>\n",
       "      <td>2.029105</td>\n",
       "      <td>24.090004</td>\n",
       "    </tr>\n",
       "    <tr>\n",
       "      <th>2013-06-02</th>\n",
       "      <td>0.62490</td>\n",
       "      <td>0.13220</td>\n",
       "      <td>129.399994</td>\n",
       "      <td>115.050003</td>\n",
       "      <td>129.300003</td>\n",
       "      <td>122.292000</td>\n",
       "      <td>0.000000e+00</td>\n",
       "      <td>1.373837e+09</td>\n",
       "      <td>12.472830</td>\n",
       "      <td>24.542000</td>\n",
       "    </tr>\n",
       "    <tr>\n",
       "      <th>...</th>\n",
       "      <td>...</td>\n",
       "      <td>...</td>\n",
       "      <td>...</td>\n",
       "      <td>...</td>\n",
       "      <td>...</td>\n",
       "      <td>...</td>\n",
       "      <td>...</td>\n",
       "      <td>...</td>\n",
       "      <td>...</td>\n",
       "      <td>...</td>\n",
       "    </tr>\n",
       "    <tr>\n",
       "      <th>2021-02-10</th>\n",
       "      <td>0.40190</td>\n",
       "      <td>0.00000</td>\n",
       "      <td>47145.568199</td>\n",
       "      <td>43881.152599</td>\n",
       "      <td>46469.761202</td>\n",
       "      <td>44918.184492</td>\n",
       "      <td>8.730109e+10</td>\n",
       "      <td>8.366169e+11</td>\n",
       "      <td>7.439220</td>\n",
       "      <td>9351.528551</td>\n",
       "    </tr>\n",
       "    <tr>\n",
       "      <th>2021-02-11</th>\n",
       "      <td>0.41990</td>\n",
       "      <td>0.01800</td>\n",
       "      <td>48463.467125</td>\n",
       "      <td>44187.762351</td>\n",
       "      <td>44898.711611</td>\n",
       "      <td>47909.331195</td>\n",
       "      <td>8.138891e+10</td>\n",
       "      <td>8.923649e+11</td>\n",
       "      <td>9.676219</td>\n",
       "      <td>13986.370613</td>\n",
       "    </tr>\n",
       "    <tr>\n",
       "      <th>2021-02-12</th>\n",
       "      <td>0.40190</td>\n",
       "      <td>-0.01800</td>\n",
       "      <td>48745.733800</td>\n",
       "      <td>46424.977818</td>\n",
       "      <td>47877.034375</td>\n",
       "      <td>47504.851183</td>\n",
       "      <td>7.655504e+10</td>\n",
       "      <td>8.848741e+11</td>\n",
       "      <td>4.998938</td>\n",
       "      <td>10188.491783</td>\n",
       "    </tr>\n",
       "    <tr>\n",
       "      <th>2021-02-13</th>\n",
       "      <td>0.38180</td>\n",
       "      <td>-0.02010</td>\n",
       "      <td>48047.744591</td>\n",
       "      <td>46392.282333</td>\n",
       "      <td>47491.202555</td>\n",
       "      <td>47105.517473</td>\n",
       "      <td>7.025046e+10</td>\n",
       "      <td>8.774789e+11</td>\n",
       "      <td>3.568400</td>\n",
       "      <td>7918.189351</td>\n",
       "    </tr>\n",
       "    <tr>\n",
       "      <th>2021-02-14</th>\n",
       "      <td>0.40190</td>\n",
       "      <td>0.02010</td>\n",
       "      <td>49487.640873</td>\n",
       "      <td>47114.509586</td>\n",
       "      <td>47114.509586</td>\n",
       "      <td>48717.290211</td>\n",
       "      <td>7.124868e+10</td>\n",
       "      <td>9.075513e+11</td>\n",
       "      <td>5.036944</td>\n",
       "      <td>11891.924360</td>\n",
       "    </tr>\n",
       "  </tbody>\n",
       "</table>\n",
       "<p>2819 rows × 10 columns</p>\n",
       "</div>"
      ],
      "text/plain": [
       "            Compound Sentiment Score  sentiment change          High  \\\n",
       "date                                                                   \n",
       "2013-05-29                   0.37030          -0.04600    132.589996   \n",
       "2013-05-30                   0.40190           0.03160    132.250000   \n",
       "2013-05-31                  -0.10985          -0.51175    129.899994   \n",
       "2013-06-01                   0.49270           0.60255    129.779999   \n",
       "2013-06-02                   0.62490           0.13220    129.399994   \n",
       "...                              ...               ...           ...   \n",
       "2021-02-10                   0.40190           0.00000  47145.568199   \n",
       "2021-02-11                   0.41990           0.01800  48463.467125   \n",
       "2021-02-12                   0.40190          -0.01800  48745.733800   \n",
       "2021-02-13                   0.38180          -0.02010  48047.744591   \n",
       "2021-02-14                   0.40190           0.02010  49487.640873   \n",
       "\n",
       "                     Low          Open         Close        Volume  \\\n",
       "date                                                                 \n",
       "2013-05-29    127.662003    129.000000    132.300003  0.000000e+00   \n",
       "2013-05-30    127.000000    132.250000    128.798996  0.000000e+00   \n",
       "2013-05-31    126.400002    128.798996    129.000000  0.000000e+00   \n",
       "2013-06-01    127.198997    128.815002    129.300003  0.000000e+00   \n",
       "2013-06-02    115.050003    129.300003    122.292000  0.000000e+00   \n",
       "...                  ...           ...           ...           ...   \n",
       "2021-02-10  43881.152599  46469.761202  44918.184492  8.730109e+10   \n",
       "2021-02-11  44187.762351  44898.711611  47909.331195  8.138891e+10   \n",
       "2021-02-12  46424.977818  47877.034375  47504.851183  7.655504e+10   \n",
       "2021-02-13  46392.282333  47491.202555  47105.517473  7.025046e+10   \n",
       "2021-02-14  47114.509586  47114.509586  48717.290211  7.124868e+10   \n",
       "\n",
       "               Marketcap  Volatility  monthly returns  \n",
       "date                                                   \n",
       "2013-05-29  1.483735e+09    3.860188       -12.239990  \n",
       "2013-05-30  1.445054e+09    4.133858       -10.201004  \n",
       "2013-05-31  1.447870e+09    2.768981        12.010002  \n",
       "2013-06-01  1.451916e+09    2.029105        24.090004  \n",
       "2013-06-02  1.373837e+09   12.472830        24.542000  \n",
       "...                  ...         ...              ...  \n",
       "2021-02-10  8.366169e+11    7.439220      9351.528551  \n",
       "2021-02-11  8.923649e+11    9.676219     13986.370613  \n",
       "2021-02-12  8.848741e+11    4.998938     10188.491783  \n",
       "2021-02-13  8.774789e+11    3.568400      7918.189351  \n",
       "2021-02-14  9.075513e+11    5.036944     11891.924360  \n",
       "\n",
       "[2819 rows x 10 columns]"
      ]
     },
     "execution_count": 79,
     "metadata": {},
     "output_type": "execute_result"
    }
   ],
   "source": [
    "org_df = df.copy(deep=True)\n",
    "org_df"
   ]
  },
  {
   "cell_type": "code",
   "execution_count": null,
   "id": "53815c65",
   "metadata": {},
   "outputs": [],
   "source": []
  },
  {
   "cell_type": "markdown",
   "id": "d5166074",
   "metadata": {},
   "source": [
    "# Data scaling"
   ]
  },
  {
   "cell_type": "code",
   "execution_count": 80,
   "id": "5b8e8510",
   "metadata": {},
   "outputs": [
    {
     "name": "stdout",
     "output_type": "stream",
     "text": [
      "Number of features 10\n"
     ]
    }
   ],
   "source": [
    "dataset = org_df.values\n",
    "dataset = dataset.astype('float32')\n",
    "scaler = MinMaxScaler(feature_range=(0, 1))\n",
    "dataset = scaler.fit_transform(dataset)\n",
    "# print('dataset.shape', dataset.shape)\n",
    "num_of_features = len(org_df.columns)\n",
    "print('Number of features', num_of_features)\n"
   ]
  },
  {
   "cell_type": "markdown",
   "id": "1a8d15cb",
   "metadata": {},
   "source": [
    "config"
   ]
  },
  {
   "cell_type": "code",
   "execution_count": 81,
   "id": "04525545",
   "metadata": {},
   "outputs": [],
   "source": [
    "expr_name = 'expr_2'\n",
    "look_back = 60 # 60 days\n",
    "lstm_layers = 32\n",
    "epochs=10\n",
    "batch_size=128"
   ]
  },
  {
   "cell_type": "markdown",
   "id": "4e0696c5",
   "metadata": {},
   "source": [
    "spliting datasets into train and test¶\n"
   ]
  },
  {
   "cell_type": "code",
   "execution_count": 82,
   "id": "af1c5313",
   "metadata": {},
   "outputs": [
    {
     "name": "stdout",
     "output_type": "stream",
     "text": [
      "Training dataset length  2255\n",
      "Testing dataset length  564\n",
      "look_back  60\n"
     ]
    }
   ],
   "source": [
    "train_size_percent = 0.80\n",
    "pred_col = org_df.columns.get_loc('monthly returns')\n",
    "\n",
    "# function to split the data\n",
    "def create_dataset(dataset, pred_col, look_back=1):\n",
    "    dataX, dataY = [], []\n",
    "    for i in range(len(dataset)-look_back-1):\n",
    "        a = dataset[i:(i+look_back), :]\n",
    "        dataX.append(a)\n",
    "        dataY.append(dataset[i + look_back, pred_col])\n",
    "    return np.array(dataX), np.array(dataY)\n",
    "\n",
    "\n",
    "train_size = int(len(dataset) * train_size_percent)\n",
    "test_size = len(dataset) - train_size\n",
    "train, test = dataset[0:train_size, :], dataset[train_size:len(dataset), :]\n",
    "\n",
    "trainX, trainY = create_dataset(train, pred_col, look_back=look_back)\n",
    "testX, testY = create_dataset(test, pred_col, look_back=look_back)\n",
    "# reshape input to be  [samples, time steps, features]\n",
    "trainX = np.reshape(trainX, (trainX.shape[0], look_back, num_of_features))\n",
    "testX = np.reshape(testX, (testX.shape[0],look_back, num_of_features))\n",
    "\n",
    "print('Training dataset length ', len(train))\n",
    "print('Testing dataset length ', len(test))\n",
    "print('look_back ', look_back)"
   ]
  },
  {
   "cell_type": "markdown",
   "id": "f89909a4",
   "metadata": {},
   "source": [
    "Build the model and train¶\n"
   ]
  },
  {
   "cell_type": "code",
   "execution_count": 83,
   "id": "ad0503f0",
   "metadata": {},
   "outputs": [
    {
     "name": "stdout",
     "output_type": "stream",
     "text": [
      "Epoch 1/10\n",
      "12/12 [==============================] - 2s 61ms/step - loss: 0.0124 - val_loss: 0.0075\n",
      "Epoch 2/10\n",
      "12/12 [==============================] - 0s 20ms/step - loss: 6.2128e-04 - val_loss: 0.0079\n",
      "Epoch 3/10\n",
      "12/12 [==============================] - 0s 17ms/step - loss: 4.2650e-04 - val_loss: 0.0071\n",
      "Epoch 4/10\n",
      "12/12 [==============================] - 0s 18ms/step - loss: 1.8955e-04 - val_loss: 0.0070\n",
      "Epoch 5/10\n",
      "12/12 [==============================] - 0s 19ms/step - loss: 2.2381e-04 - val_loss: 0.0069\n",
      "Epoch 6/10\n",
      "12/12 [==============================] - 0s 18ms/step - loss: 1.6101e-04 - val_loss: 0.0072\n",
      "Epoch 7/10\n",
      "12/12 [==============================] - 0s 18ms/step - loss: 1.6728e-04 - val_loss: 0.0071\n",
      "Epoch 8/10\n",
      "12/12 [==============================] - 0s 38ms/step - loss: 1.5860e-04 - val_loss: 0.0072\n",
      "Epoch 9/10\n",
      "12/12 [==============================] - 0s 18ms/step - loss: 1.5080e-04 - val_loss: 0.0073\n",
      "Epoch 10/10\n",
      "12/12 [==============================] - 0s 19ms/step - loss: 1.4987e-04 - val_loss: 0.0072\n"
     ]
    }
   ],
   "source": [
    "# create and fit the LSTM network\n",
    "\n",
    "model = Sequential()\n",
    "model.add(LSTM(lstm_layers, input_shape=(look_back,num_of_features)))\n",
    "model.add(Dense(1))\n",
    "model.compile(loss='mean_squared_error', optimizer='adam')\n",
    "history= model.fit(trainX, trainY,validation_split=0.30, epochs=epochs, batch_size=batch_size,shuffle=False)"
   ]
  },
  {
   "cell_type": "code",
   "execution_count": 84,
   "id": "11ad52b9",
   "metadata": {},
   "outputs": [
    {
     "data": {
      "image/png": "[encoded data removed]",
      "text/plain": [
       "<Figure size 432x288 with 1 Axes>"
      ]
     },
     "metadata": {
      "needs_background": "light"
     },
     "output_type": "display_data"
    }
   ],
   "source": [
    "# Plot training\n",
    "plt.plot(history.history['loss'])\n",
    "plt.plot(history.history['val_loss'])\n",
    "plt.title('Model loss')\n",
    "plt.ylabel('Loss')\n",
    "plt.xlabel('Epoch')\n",
    "plt.legend(['training', 'validation'], loc='upper right')\n",
    "plt.show()"
   ]
  },
  {
   "cell_type": "code",
   "execution_count": 85,
   "id": "7a8a24b1",
   "metadata": {},
   "outputs": [],
   "source": [
    "trainPredict = model.predict(trainX)\n",
    "testPredict = model.predict(testX)\n",
    "\n",
    "# Get something which has as many features as dataset\n",
    "trainPredict_extended = np.zeros((len(trainPredict),num_of_features))\n",
    "# Put the predictions there\n",
    "trainPredict_extended[:,pred_col] = trainPredict[:,0]\n",
    "# Inverse transform it and select the 3rd column.\n",
    "trainPredict = scaler.inverse_transform(trainPredict_extended) [:,pred_col]\n",
    "\n",
    "# Get something which has as many features as dataset\n",
    "testPredict_extended = np.zeros((len(testPredict),num_of_features))\n",
    "# Put the predictions there\n",
    "testPredict_extended[:,pred_col] = testPredict[:,0]\n",
    "# Inverse transform it and select the pred_col column.\n",
    "testPredict = scaler.inverse_transform(testPredict_extended)[:,pred_col] \n",
    "\n",
    "trainY_extended = np.zeros((len(trainY),num_of_features))\n",
    "trainY_extended[:,pred_col]=trainY\n",
    "trainY = scaler.inverse_transform(trainY_extended)[:,pred_col]\n",
    "\n",
    "testY_extended = np.zeros((len(testY),num_of_features))\n",
    "testY_extended[:,pred_col]=testY\n",
    "testY = scaler.inverse_transform(testY_extended)[:,pred_col]\n",
    "\n",
    "# calculate root mean squared error\n",
    "trainScore_RMSE = math.sqrt(mean_squared_error(trainY, trainPredict))\n",
    "testScore_RMSE = math.sqrt(mean_squared_error(testY, testPredict))\n",
    "\n",
    "# calculate absolute mean error\n",
    "trainScore_MAE = np.sum(np.absolute(trainY - trainPredict))/len(trainY)\n",
    "testScore_MAE = np.sum(np.absolute(testY - testPredict))/len(testY)"
   ]
  },
  {
   "cell_type": "code",
   "execution_count": 86,
   "id": "c612c427",
   "metadata": {},
   "outputs": [
    {
     "data": {
      "text/plain": [
       "Text(0.5, 1.0, 'Bitcoin Price Prediction')"
      ]
     },
     "execution_count": 86,
     "metadata": {},
     "output_type": "execute_result"
    },
    {
     "data": {
      "image/png": "[encoded data removed]",
      "text/plain": [
       "<Figure size 1080x504 with 1 Axes>"
      ]
     },
     "metadata": {
      "needs_background": "light"
     },
     "output_type": "display_data"
    }
   ],
   "source": [
    "# shift train predictions for plotting\n",
    "trainPredictPlot = np.empty_like(dataset)\n",
    "trainPredictPlot[:, :] = np.nan\n",
    "trainPredictPlot[look_back:len(trainPredict)+look_back, pred_col] = trainPredict\n",
    "\n",
    "# shift test predictions for plotting\n",
    "testPredictPlot = np.empty_like(dataset)\n",
    "testPredictPlot[:, :] = np.nan\n",
    "testPredictPlot[len(trainPredict)+(look_back*2)+1:len(dataset)-1, pred_col] = testPredict\n",
    "\n",
    "# contruct pandas dataframe for plotting\n",
    "time_df = pd.DataFrame(org_df.index)\n",
    "time_df['Actual'] = scaler.inverse_transform(dataset)[:,pred_col]\n",
    "df1 = pd.DataFrame(trainPredictPlot[:,pred_col],columns=['Train'])\n",
    "df2 = pd.DataFrame(testPredictPlot[:,pred_col],columns=['Test'])\n",
    "time_df2 = pd.concat([time_df, df1, df2], axis=1, sort=False)\n",
    "time_df2.set_index('date',inplace=True)\n",
    "\n",
    "# plot the output\n",
    "fig, ax = plt.subplots(figsize=(15,7))\n",
    "time_df2.plot(ax=ax,rot=90,alpha=0.7)\n",
    "plt.xlabel('Date')\n",
    "plt.ylabel('Bitcoin Value')\n",
    "plt.title('Bitcoin Price Prediction')\n",
    "# plt.savefig(expr_name + '.png',bbox_inches = \"tight\")"
   ]
  },
  {
   "cell_type": "code",
   "execution_count": 87,
   "id": "fbf8826c",
   "metadata": {},
   "outputs": [
    {
     "name": "stdout",
     "output_type": "stream",
     "text": [
      "--------------------------------------------------\n",
      "Experiment name: expr_2\n",
      "--------------------------------------------------\n",
      "look_back days: 60\n",
      "lstm_layers: 32\n",
      "epochs: 10\n",
      "batch_size: 128\n",
      "dataset features ['Compound Sentiment Score', 'sentiment change', 'High', 'Low', 'Open', 'Close', 'Volume', 'Marketcap', 'Volatility', 'monthly returns']\n",
      "--------------------------------------------------\n",
      "Train Score: 1560.90 RMSE\n",
      "Test Score: 3587.13 RMSE\n",
      "--------------------------------------------------\n",
      "Train Score: 769.04 MAE\n",
      "Test Score: 2337.05 MAE\n",
      "--------------------------------------------------\n",
      "Model summary:\n",
      "Model: \"sequential_4\"\n",
      "_________________________________________________________________\n",
      "Layer (type)                 Output Shape              Param #   \n",
      "=================================================================\n",
      "lstm_4 (LSTM)                (None, 32)                5504      \n",
      "_________________________________________________________________\n",
      "dense_4 (Dense)              (None, 1)                 33        \n",
      "=================================================================\n",
      "Total params: 5,537\n",
      "Trainable params: 5,537\n",
      "Non-trainable params: 0\n",
      "_________________________________________________________________\n"
     ]
    }
   ],
   "source": [
    "print('-' * 50)\n",
    "print('Experiment name:', expr_name)\n",
    "\n",
    "print('-' * 50)\n",
    "print('look_back days:', look_back)\n",
    "print('lstm_layers:', lstm_layers)\n",
    "print('epochs:', epochs)\n",
    "print('batch_size:', batch_size)\n",
    "print('dataset features', list(org_df.columns))\n",
    "\n",
    "\n",
    "print('-' * 50)\n",
    "print('Train Score: %.2f RMSE' % (trainScore_RMSE))\n",
    "print('Test Score: %.2f RMSE' % (testScore_RMSE))\n",
    "\n",
    "print('-' * 50)\n",
    "print('Train Score: %.2f MAE' % (trainScore_MAE))\n",
    "print('Test Score: %.2f MAE' % (testScore_MAE))\n",
    "\n",
    "print('-' * 50)\n",
    "print('Model summary:')\n",
    "model.summary()"
   ]
  },
  {
   "cell_type": "code",
   "execution_count": null,
   "id": "5d4f7bf5",
   "metadata": {},
   "outputs": [],
   "source": [
    "confusion_matrix()"
   ]
  },
  {
   "cell_type": "code",
   "execution_count": 31,
   "id": "d3a0fd6e",
   "metadata": {},
   "outputs": [
    {
     "ename": "TypeError",
     "evalue": "Singleton array 5.395500137664346 cannot be considered a valid collection.",
     "output_type": "error",
     "traceback": [
      "\u001b[1;31m---------------------------------------------------------------------------\u001b[0m",
      "\u001b[1;31mTypeError\u001b[0m                                 Traceback (most recent call last)",
      "\u001b[1;32m<ipython-input-31-9e07a246c49d>\u001b[0m in \u001b[0;36m<module>\u001b[1;34m\u001b[0m\n\u001b[0;32m      8\u001b[0m \u001b[1;31m# Y_test = scaler.inverse_transform([Ytest])\u001b[0m\u001b[1;33m\u001b[0m\u001b[1;33m\u001b[0m\u001b[1;33m\u001b[0m\u001b[0m\n\u001b[0;32m      9\u001b[0m \u001b[1;31m# print('Train Mean Absolute Error:', mean_absolute_error(Y_train[0], train_predict[:,0]))\u001b[0m\u001b[1;33m\u001b[0m\u001b[1;33m\u001b[0m\u001b[1;33m\u001b[0m\u001b[0m\n\u001b[1;32m---> 10\u001b[1;33m \u001b[0mprint\u001b[0m\u001b[1;33m(\u001b[0m\u001b[1;34m'Train Root Mean Squared Error:'\u001b[0m\u001b[1;33m,\u001b[0m\u001b[0mnp\u001b[0m\u001b[1;33m.\u001b[0m\u001b[0msqrt\u001b[0m\u001b[1;33m(\u001b[0m\u001b[0mmean_squared_error\u001b[0m\u001b[1;33m(\u001b[0m\u001b[0mtrainY\u001b[0m\u001b[1;33m[\u001b[0m\u001b[1;36m0\u001b[0m\u001b[1;33m]\u001b[0m\u001b[1;33m,\u001b[0m \u001b[0mtrain_predict\u001b[0m\u001b[1;33m[\u001b[0m\u001b[1;33m:\u001b[0m\u001b[1;33m,\u001b[0m\u001b[1;36m0\u001b[0m\u001b[1;33m]\u001b[0m\u001b[1;33m)\u001b[0m\u001b[1;33m)\u001b[0m\u001b[1;33m)\u001b[0m\u001b[1;33m\u001b[0m\u001b[1;33m\u001b[0m\u001b[0m\n\u001b[0m\u001b[0;32m     11\u001b[0m \u001b[0mprint\u001b[0m\u001b[1;33m(\u001b[0m\u001b[1;34m'Test Mean Absolute Error:'\u001b[0m\u001b[1;33m,\u001b[0m \u001b[0mmean_absolute_error\u001b[0m\u001b[1;33m(\u001b[0m\u001b[0mY_test\u001b[0m\u001b[1;33m[\u001b[0m\u001b[1;36m0\u001b[0m\u001b[1;33m]\u001b[0m\u001b[1;33m,\u001b[0m \u001b[0mtest_predict\u001b[0m\u001b[1;33m[\u001b[0m\u001b[1;33m:\u001b[0m\u001b[1;33m,\u001b[0m\u001b[1;36m0\u001b[0m\u001b[1;33m]\u001b[0m\u001b[1;33m)\u001b[0m\u001b[1;33m)\u001b[0m\u001b[1;33m\u001b[0m\u001b[1;33m\u001b[0m\u001b[0m\n\u001b[0;32m     12\u001b[0m \u001b[0mprint\u001b[0m\u001b[1;33m(\u001b[0m\u001b[1;34m'Test Root Mean Squared Error:'\u001b[0m\u001b[1;33m,\u001b[0m\u001b[0mnp\u001b[0m\u001b[1;33m.\u001b[0m\u001b[0msqrt\u001b[0m\u001b[1;33m(\u001b[0m\u001b[0mmean_squared_error\u001b[0m\u001b[1;33m(\u001b[0m\u001b[0mY_test\u001b[0m\u001b[1;33m[\u001b[0m\u001b[1;36m0\u001b[0m\u001b[1;33m]\u001b[0m\u001b[1;33m,\u001b[0m \u001b[0mtest_predict\u001b[0m\u001b[1;33m[\u001b[0m\u001b[1;33m:\u001b[0m\u001b[1;33m,\u001b[0m\u001b[1;36m0\u001b[0m\u001b[1;33m]\u001b[0m\u001b[1;33m)\u001b[0m\u001b[1;33m)\u001b[0m\u001b[1;33m)\u001b[0m\u001b[1;33m\u001b[0m\u001b[1;33m\u001b[0m\u001b[0m\n",
      "\u001b[1;32m~\\Coding\\anaconda3\\lib\\site-packages\\sklearn\\utils\\validation.py\u001b[0m in \u001b[0;36minner_f\u001b[1;34m(*args, **kwargs)\u001b[0m\n\u001b[0;32m     61\u001b[0m             \u001b[0mextra_args\u001b[0m \u001b[1;33m=\u001b[0m \u001b[0mlen\u001b[0m\u001b[1;33m(\u001b[0m\u001b[0margs\u001b[0m\u001b[1;33m)\u001b[0m \u001b[1;33m-\u001b[0m \u001b[0mlen\u001b[0m\u001b[1;33m(\u001b[0m\u001b[0mall_args\u001b[0m\u001b[1;33m)\u001b[0m\u001b[1;33m\u001b[0m\u001b[1;33m\u001b[0m\u001b[0m\n\u001b[0;32m     62\u001b[0m             \u001b[1;32mif\u001b[0m \u001b[0mextra_args\u001b[0m \u001b[1;33m<=\u001b[0m \u001b[1;36m0\u001b[0m\u001b[1;33m:\u001b[0m\u001b[1;33m\u001b[0m\u001b[1;33m\u001b[0m\u001b[0m\n\u001b[1;32m---> 63\u001b[1;33m                 \u001b[1;32mreturn\u001b[0m \u001b[0mf\u001b[0m\u001b[1;33m(\u001b[0m\u001b[1;33m*\u001b[0m\u001b[0margs\u001b[0m\u001b[1;33m,\u001b[0m \u001b[1;33m**\u001b[0m\u001b[0mkwargs\u001b[0m\u001b[1;33m)\u001b[0m\u001b[1;33m\u001b[0m\u001b[1;33m\u001b[0m\u001b[0m\n\u001b[0m\u001b[0;32m     64\u001b[0m \u001b[1;33m\u001b[0m\u001b[0m\n\u001b[0;32m     65\u001b[0m             \u001b[1;31m# extra_args > 0\u001b[0m\u001b[1;33m\u001b[0m\u001b[1;33m\u001b[0m\u001b[1;33m\u001b[0m\u001b[0m\n",
      "\u001b[1;32m~\\Coding\\anaconda3\\lib\\site-packages\\sklearn\\metrics\\_regression.py\u001b[0m in \u001b[0;36mmean_squared_error\u001b[1;34m(y_true, y_pred, sample_weight, multioutput, squared)\u001b[0m\n\u001b[0;32m    333\u001b[0m     \u001b[1;36m0.825\u001b[0m\u001b[1;33m...\u001b[0m\u001b[1;33m\u001b[0m\u001b[1;33m\u001b[0m\u001b[0m\n\u001b[0;32m    334\u001b[0m     \"\"\"\n\u001b[1;32m--> 335\u001b[1;33m     y_type, y_true, y_pred, multioutput = _check_reg_targets(\n\u001b[0m\u001b[0;32m    336\u001b[0m         y_true, y_pred, multioutput)\n\u001b[0;32m    337\u001b[0m     \u001b[0mcheck_consistent_length\u001b[0m\u001b[1;33m(\u001b[0m\u001b[0my_true\u001b[0m\u001b[1;33m,\u001b[0m \u001b[0my_pred\u001b[0m\u001b[1;33m,\u001b[0m \u001b[0msample_weight\u001b[0m\u001b[1;33m)\u001b[0m\u001b[1;33m\u001b[0m\u001b[1;33m\u001b[0m\u001b[0m\n",
      "\u001b[1;32m~\\Coding\\anaconda3\\lib\\site-packages\\sklearn\\metrics\\_regression.py\u001b[0m in \u001b[0;36m_check_reg_targets\u001b[1;34m(y_true, y_pred, multioutput, dtype)\u001b[0m\n\u001b[0;32m     86\u001b[0m         \u001b[0mthe\u001b[0m \u001b[0mdtype\u001b[0m \u001b[0margument\u001b[0m \u001b[0mpassed\u001b[0m \u001b[0mto\u001b[0m \u001b[0mcheck_array\u001b[0m\u001b[1;33m.\u001b[0m\u001b[1;33m\u001b[0m\u001b[1;33m\u001b[0m\u001b[0m\n\u001b[0;32m     87\u001b[0m     \"\"\"\n\u001b[1;32m---> 88\u001b[1;33m     \u001b[0mcheck_consistent_length\u001b[0m\u001b[1;33m(\u001b[0m\u001b[0my_true\u001b[0m\u001b[1;33m,\u001b[0m \u001b[0my_pred\u001b[0m\u001b[1;33m)\u001b[0m\u001b[1;33m\u001b[0m\u001b[1;33m\u001b[0m\u001b[0m\n\u001b[0m\u001b[0;32m     89\u001b[0m     \u001b[0my_true\u001b[0m \u001b[1;33m=\u001b[0m \u001b[0mcheck_array\u001b[0m\u001b[1;33m(\u001b[0m\u001b[0my_true\u001b[0m\u001b[1;33m,\u001b[0m \u001b[0mensure_2d\u001b[0m\u001b[1;33m=\u001b[0m\u001b[1;32mFalse\u001b[0m\u001b[1;33m,\u001b[0m \u001b[0mdtype\u001b[0m\u001b[1;33m=\u001b[0m\u001b[0mdtype\u001b[0m\u001b[1;33m)\u001b[0m\u001b[1;33m\u001b[0m\u001b[1;33m\u001b[0m\u001b[0m\n\u001b[0;32m     90\u001b[0m     \u001b[0my_pred\u001b[0m \u001b[1;33m=\u001b[0m \u001b[0mcheck_array\u001b[0m\u001b[1;33m(\u001b[0m\u001b[0my_pred\u001b[0m\u001b[1;33m,\u001b[0m \u001b[0mensure_2d\u001b[0m\u001b[1;33m=\u001b[0m\u001b[1;32mFalse\u001b[0m\u001b[1;33m,\u001b[0m \u001b[0mdtype\u001b[0m\u001b[1;33m=\u001b[0m\u001b[0mdtype\u001b[0m\u001b[1;33m)\u001b[0m\u001b[1;33m\u001b[0m\u001b[1;33m\u001b[0m\u001b[0m\n",
      "\u001b[1;32m~\\Coding\\anaconda3\\lib\\site-packages\\sklearn\\utils\\validation.py\u001b[0m in \u001b[0;36mcheck_consistent_length\u001b[1;34m(*arrays)\u001b[0m\n\u001b[0;32m    257\u001b[0m     \"\"\"\n\u001b[0;32m    258\u001b[0m \u001b[1;33m\u001b[0m\u001b[0m\n\u001b[1;32m--> 259\u001b[1;33m     \u001b[0mlengths\u001b[0m \u001b[1;33m=\u001b[0m \u001b[1;33m[\u001b[0m\u001b[0m_num_samples\u001b[0m\u001b[1;33m(\u001b[0m\u001b[0mX\u001b[0m\u001b[1;33m)\u001b[0m \u001b[1;32mfor\u001b[0m \u001b[0mX\u001b[0m \u001b[1;32min\u001b[0m \u001b[0marrays\u001b[0m \u001b[1;32mif\u001b[0m \u001b[0mX\u001b[0m \u001b[1;32mis\u001b[0m \u001b[1;32mnot\u001b[0m \u001b[1;32mNone\u001b[0m\u001b[1;33m]\u001b[0m\u001b[1;33m\u001b[0m\u001b[1;33m\u001b[0m\u001b[0m\n\u001b[0m\u001b[0;32m    260\u001b[0m     \u001b[0muniques\u001b[0m \u001b[1;33m=\u001b[0m \u001b[0mnp\u001b[0m\u001b[1;33m.\u001b[0m\u001b[0munique\u001b[0m\u001b[1;33m(\u001b[0m\u001b[0mlengths\u001b[0m\u001b[1;33m)\u001b[0m\u001b[1;33m\u001b[0m\u001b[1;33m\u001b[0m\u001b[0m\n\u001b[0;32m    261\u001b[0m     \u001b[1;32mif\u001b[0m \u001b[0mlen\u001b[0m\u001b[1;33m(\u001b[0m\u001b[0muniques\u001b[0m\u001b[1;33m)\u001b[0m \u001b[1;33m>\u001b[0m \u001b[1;36m1\u001b[0m\u001b[1;33m:\u001b[0m\u001b[1;33m\u001b[0m\u001b[1;33m\u001b[0m\u001b[0m\n",
      "\u001b[1;32m~\\Coding\\anaconda3\\lib\\site-packages\\sklearn\\utils\\validation.py\u001b[0m in \u001b[0;36m<listcomp>\u001b[1;34m(.0)\u001b[0m\n\u001b[0;32m    257\u001b[0m     \"\"\"\n\u001b[0;32m    258\u001b[0m \u001b[1;33m\u001b[0m\u001b[0m\n\u001b[1;32m--> 259\u001b[1;33m     \u001b[0mlengths\u001b[0m \u001b[1;33m=\u001b[0m \u001b[1;33m[\u001b[0m\u001b[0m_num_samples\u001b[0m\u001b[1;33m(\u001b[0m\u001b[0mX\u001b[0m\u001b[1;33m)\u001b[0m \u001b[1;32mfor\u001b[0m \u001b[0mX\u001b[0m \u001b[1;32min\u001b[0m \u001b[0marrays\u001b[0m \u001b[1;32mif\u001b[0m \u001b[0mX\u001b[0m \u001b[1;32mis\u001b[0m \u001b[1;32mnot\u001b[0m \u001b[1;32mNone\u001b[0m\u001b[1;33m]\u001b[0m\u001b[1;33m\u001b[0m\u001b[1;33m\u001b[0m\u001b[0m\n\u001b[0m\u001b[0;32m    260\u001b[0m     \u001b[0muniques\u001b[0m \u001b[1;33m=\u001b[0m \u001b[0mnp\u001b[0m\u001b[1;33m.\u001b[0m\u001b[0munique\u001b[0m\u001b[1;33m(\u001b[0m\u001b[0mlengths\u001b[0m\u001b[1;33m)\u001b[0m\u001b[1;33m\u001b[0m\u001b[1;33m\u001b[0m\u001b[0m\n\u001b[0;32m    261\u001b[0m     \u001b[1;32mif\u001b[0m \u001b[0mlen\u001b[0m\u001b[1;33m(\u001b[0m\u001b[0muniques\u001b[0m\u001b[1;33m)\u001b[0m \u001b[1;33m>\u001b[0m \u001b[1;36m1\u001b[0m\u001b[1;33m:\u001b[0m\u001b[1;33m\u001b[0m\u001b[1;33m\u001b[0m\u001b[0m\n",
      "\u001b[1;32m~\\Coding\\anaconda3\\lib\\site-packages\\sklearn\\utils\\validation.py\u001b[0m in \u001b[0;36m_num_samples\u001b[1;34m(x)\u001b[0m\n\u001b[0;32m    200\u001b[0m     \u001b[1;32mif\u001b[0m \u001b[0mhasattr\u001b[0m\u001b[1;33m(\u001b[0m\u001b[0mx\u001b[0m\u001b[1;33m,\u001b[0m \u001b[1;34m'shape'\u001b[0m\u001b[1;33m)\u001b[0m \u001b[1;32mand\u001b[0m \u001b[0mx\u001b[0m\u001b[1;33m.\u001b[0m\u001b[0mshape\u001b[0m \u001b[1;32mis\u001b[0m \u001b[1;32mnot\u001b[0m \u001b[1;32mNone\u001b[0m\u001b[1;33m:\u001b[0m\u001b[1;33m\u001b[0m\u001b[1;33m\u001b[0m\u001b[0m\n\u001b[0;32m    201\u001b[0m         \u001b[1;32mif\u001b[0m \u001b[0mlen\u001b[0m\u001b[1;33m(\u001b[0m\u001b[0mx\u001b[0m\u001b[1;33m.\u001b[0m\u001b[0mshape\u001b[0m\u001b[1;33m)\u001b[0m \u001b[1;33m==\u001b[0m \u001b[1;36m0\u001b[0m\u001b[1;33m:\u001b[0m\u001b[1;33m\u001b[0m\u001b[1;33m\u001b[0m\u001b[0m\n\u001b[1;32m--> 202\u001b[1;33m             raise TypeError(\"Singleton array %r cannot be considered\"\n\u001b[0m\u001b[0;32m    203\u001b[0m                             \" a valid collection.\" % x)\n\u001b[0;32m    204\u001b[0m         \u001b[1;31m# Check that shape is returning an integer or default to len\u001b[0m\u001b[1;33m\u001b[0m\u001b[1;33m\u001b[0m\u001b[1;33m\u001b[0m\u001b[0m\n",
      "\u001b[1;31mTypeError\u001b[0m: Singleton array 5.395500137664346 cannot be considered a valid collection."
     ]
    }
   ],
   "source": [
    "train_predict = model.predict(trainX)\n",
    "test_predict = model.predict(testX)\n",
    "# invert predictions\n",
    "# trainPredict_extended\n",
    "# train_predict = scaler.inverse_transform(trainPredict_extended)\n",
    "# Y_train = scaler.inverse_transform([trainY])\n",
    "# test_predict = scaler.inverse_transform(test_predict)\n",
    "# Y_test = scaler.inverse_transform([Ytest])\n",
    "# print('Train Mean Absolute Error:', mean_absolute_error(Y_train[0], train_predict[:,0]))\n",
    "print('Train Root Mean Squared Error:',np.sqrt(mean_squared_error(trainY[0], train_predict[:,0])))\n",
    "print('Test Mean Absolute Error:', mean_absolute_error(Y_test[0], test_predict[:,0]))\n",
    "print('Test Root Mean Squared Error:',np.sqrt(mean_squared_error(Y_test[0], test_predict[:,0])))"
   ]
  },
  {
   "cell_type": "code",
   "execution_count": 28,
   "id": "58a3575f",
   "metadata": {},
   "outputs": [
    {
     "ename": "AttributeError",
     "evalue": "'numpy.ndarray' object has no attribute 'append'",
     "output_type": "error",
     "traceback": [
      "\u001b[1;31m---------------------------------------------------------------------------\u001b[0m",
      "\u001b[1;31mAttributeError\u001b[0m                            Traceback (most recent call last)",
      "\u001b[1;32m<ipython-input-28-9c0d29f17156>\u001b[0m in \u001b[0;36m<module>\u001b[1;34m\u001b[0m\n\u001b[1;32m----> 1\u001b[1;33m \u001b[0mplt\u001b[0m\u001b[1;33m.\u001b[0m\u001b[0mplot\u001b[0m\u001b[1;33m(\u001b[0m\u001b[0mtrainPredict\u001b[0m\u001b[1;33m.\u001b[0m\u001b[0mappend\u001b[0m\u001b[1;33m(\u001b[0m\u001b[0mtestPredict\u001b[0m\u001b[1;33m)\u001b[0m\u001b[1;33m)\u001b[0m\u001b[1;33m\u001b[0m\u001b[1;33m\u001b[0m\u001b[0m\n\u001b[0m\u001b[0;32m      2\u001b[0m \u001b[0mplt\u001b[0m\u001b[1;33m.\u001b[0m\u001b[0mplot\u001b[0m\u001b[1;33m(\u001b[0m\u001b[0mtestPredict\u001b[0m\u001b[1;33m)\u001b[0m\u001b[1;33m\u001b[0m\u001b[1;33m\u001b[0m\u001b[0m\n",
      "\u001b[1;31mAttributeError\u001b[0m: 'numpy.ndarray' object has no attribute 'append'"
     ]
    }
   ],
   "source": []
  },
  {
   "cell_type": "code",
   "execution_count": 33,
   "id": "c5f8f938",
   "metadata": {},
   "outputs": [
    {
     "data": {
      "text/plain": [
       "(29.63926543091603, 33.58710807575396)"
      ]
     },
     "execution_count": 33,
     "metadata": {},
     "output_type": "execute_result"
    }
   ],
   "source": [
    "trainScore_RMSE = math.sqrt(mean_squared_error(trainY, trainPredict))\n",
    "testScore_RMSE = math.sqrt(mean_squared_error(testY, testPredict))\n",
    "trainScore_RMSE,testScore_RMSE"
   ]
  },
  {
   "cell_type": "code",
   "execution_count": null,
   "id": "ef01290b",
   "metadata": {},
   "outputs": [],
   "source": []
  }
 ],
 "metadata": {
  "kernelspec": {
   "display_name": "Python 3",
   "language": "python",
   "name": "python3"
  },
  "language_info": {
   "codemirror_mode": {
    "name": "ipython",
    "version": 3
   },
   "file_extension": ".py",
   "mimetype": "text/x-python",
   "name": "python",
   "nbconvert_exporter": "python",
   "pygments_lexer": "ipython3",
   "version": "3.8.8"
  }
 },
 "nbformat": 4,
 "nbformat_minor": 5
}
