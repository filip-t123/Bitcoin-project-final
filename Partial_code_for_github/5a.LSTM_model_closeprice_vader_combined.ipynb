{
 "cells": [
  {
   "cell_type": "code",
   "execution_count": 88,
   "id": "d3f0d575",
   "metadata": {},
   "outputs": [],
   "source": [
    "import numpy as np\n",
    "import pandas as pd\n",
    "##### imports for LSTM\n",
    "import matplotlib.pyplot as plt\n",
    "import math\n",
    "import time\n",
    "import datetime\n",
    "from dateutil import parser\n",
    "import matplotlib.dates as mdates\n",
    "import matplotlib.ticker as plticker\n",
    "from sklearn.metrics import confusion_matrix\n",
    "\n",
    "\n",
    "from sklearn.preprocessing import MinMaxScaler\n",
    "from sklearn.metrics import mean_squared_error\n",
    "\n",
    "from keras.models import Sequential\n",
    "from keras.layers import Dense\n",
    "from keras.layers import LSTM"
   ]
  },
  {
   "cell_type": "code",
   "execution_count": 89,
   "id": "ce16d163",
   "metadata": {},
   "outputs": [],
   "source": [
    "# cols = ['Compound Sentiment Score','sentiment change','High','Low','Open','Close','Volume','Marketcap','Volatility','date']\n",
    "\n",
    "# org_df = pd.read_csv('arima_sentiment.csv', usecols=cols)\n",
    "# org_df.to_csv('sent_price_numerical.csv', header=True, index=False, columns=list(org_df.axes[1]))"
   ]
  },
  {
   "cell_type": "code",
   "execution_count": 102,
   "id": "54989ed7",
   "metadata": {},
   "outputs": [
    {
     "name": "stdout",
     "output_type": "stream",
     "text": [
      "<class 'pandas.core.frame.DataFrame'>\n",
      "DatetimeIndex: 2849 entries, 2013-04-29 to 2021-02-14\n",
      "Data columns (total 9 columns):\n",
      " #   Column                    Non-Null Count  Dtype  \n",
      "---  ------                    --------------  -----  \n",
      " 0   Compound Sentiment Score  2849 non-null   float64\n",
      " 1   sentiment change          2849 non-null   float64\n",
      " 2   High                      2849 non-null   float64\n",
      " 3   Low                       2849 non-null   float64\n",
      " 4   Open                      2849 non-null   float64\n",
      " 5   Close                     2849 non-null   float64\n",
      " 6   Volume                    2849 non-null   float64\n",
      " 7   Marketcap                 2849 non-null   float64\n",
      " 8   Volatility                2849 non-null   float64\n",
      "dtypes: float64(9)\n",
      "memory usage: 222.6 KB\n"
     ]
    }
   ],
   "source": [
    "org_df = pd.read_csv('sent_price_numerical.csv', parse_dates=['date'])\n",
    "org_df.set_index('date', inplace=True)\n",
    "\n",
    "org_df.info()"
   ]
  },
  {
   "cell_type": "markdown",
   "id": "5925ea16",
   "metadata": {},
   "source": [
    "# creating monthly returns"
   ]
  },
  {
   "cell_type": "code",
   "execution_count": 91,
   "id": "7eeadd24",
   "metadata": {},
   "outputs": [
    {
     "data": {
      "image/png": "[encoded data removed]",
      "text/plain": [
       "<Figure size 432x288 with 1 Axes>"
      ]
     },
     "metadata": {
      "needs_background": "light"
     },
     "output_type": "display_data"
    },
    {
     "name": "stderr",
     "output_type": "stream",
     "text": [
      "<ipython-input-91-87727885f74e>:38: SettingWithCopyWarning: \n",
      "A value is trying to be set on a copy of a slice from a DataFrame.\n",
      "Try using .loc[row_indexer,col_indexer] = value instead\n",
      "\n",
      "See the caveats in the documentation: https://pandas.pydata.org/pandas-docs/stable/user_guide/indexing.html#returning-a-view-versus-a-copy\n",
      "  df['monthly returns'] = monthly_returns\n"
     ]
    },
    {
     "data": {
      "image/png": "[encoded data removed]",
      "text/plain": [
       "<Figure size 432x288 with 1 Axes>"
      ]
     },
     "metadata": {
      "needs_background": "light"
     },
     "output_type": "display_data"
    }
   ],
   "source": [
    "close = org_df['Close']\n",
    "\n",
    "monthly_returns = []\n",
    "\n",
    "for i in range(0, len(close)-30):\n",
    "#     print(i)\n",
    "#     print(close[i])\n",
    "    result = (close[i+30]-close[i])\n",
    "    monthly_returns.append(result)\n",
    "#     print(i)\n",
    "\n",
    "# detrend = []\n",
    "\n",
    "# for i in range(0, len(close)-1):\n",
    "#     result = ((close[i+1]-close[i])/close[i])*100\n",
    "#     detrend.append(result)\n",
    "    \n",
    "# detrend\n",
    "# # plt.plot(history.history['loss'])\n",
    "# plt.plot(monthly_returns)\n",
    "plt.plot(monthly_returns)\n",
    "plt.title('returns')\n",
    "plt.ylabel('percentage')\n",
    "plt.xlabel('Epoch')\n",
    "plt.legend(['training', 'validation'], loc='upper right')\n",
    "plt.show()\n",
    "\n",
    "# min(monthly_returns), max(monthly_returns)\n",
    "\n",
    "plt.hist(monthly_returns, bins=100)\n",
    "\n",
    "# df\n",
    "    \n",
    "# returns = org_df['Close']\n",
    "# returns\n",
    "\n",
    "df = org_df[30:]\n",
    "df['monthly returns'] = monthly_returns"
   ]
  },
  {
   "cell_type": "code",
   "execution_count": 92,
   "id": "9fee61f7",
   "metadata": {},
   "outputs": [
    {
     "data": {
      "text/html": [
       "<div>\n",
       "<style scoped>\n",
       "    .dataframe tbody tr th:only-of-type {\n",
       "        vertical-align: middle;\n",
       "    }\n",
       "\n",
       "    .dataframe tbody tr th {\n",
       "        vertical-align: top;\n",
       "    }\n",
       "\n",
       "    .dataframe thead th {\n",
       "        text-align: right;\n",
       "    }\n",
       "</style>\n",
       "<table border=\"1\" class=\"dataframe\">\n",
       "  <thead>\n",
       "    <tr style=\"text-align: right;\">\n",
       "      <th></th>\n",
       "      <th>Compound Sentiment Score</th>\n",
       "      <th>sentiment change</th>\n",
       "      <th>High</th>\n",
       "      <th>Low</th>\n",
       "      <th>Open</th>\n",
       "      <th>Close</th>\n",
       "      <th>Volume</th>\n",
       "      <th>Marketcap</th>\n",
       "      <th>Volatility</th>\n",
       "      <th>monthly returns</th>\n",
       "    </tr>\n",
       "    <tr>\n",
       "      <th>date</th>\n",
       "      <th></th>\n",
       "      <th></th>\n",
       "      <th></th>\n",
       "      <th></th>\n",
       "      <th></th>\n",
       "      <th></th>\n",
       "      <th></th>\n",
       "      <th></th>\n",
       "      <th></th>\n",
       "      <th></th>\n",
       "    </tr>\n",
       "  </thead>\n",
       "  <tbody>\n",
       "    <tr>\n",
       "      <th>2013-05-29</th>\n",
       "      <td>0.37030</td>\n",
       "      <td>-0.04600</td>\n",
       "      <td>132.589996</td>\n",
       "      <td>127.662003</td>\n",
       "      <td>129.000000</td>\n",
       "      <td>132.300003</td>\n",
       "      <td>0.000000e+00</td>\n",
       "      <td>1.483735e+09</td>\n",
       "      <td>3.860188</td>\n",
       "      <td>-12.239990</td>\n",
       "    </tr>\n",
       "    <tr>\n",
       "      <th>2013-05-30</th>\n",
       "      <td>0.40190</td>\n",
       "      <td>0.03160</td>\n",
       "      <td>132.250000</td>\n",
       "      <td>127.000000</td>\n",
       "      <td>132.250000</td>\n",
       "      <td>128.798996</td>\n",
       "      <td>0.000000e+00</td>\n",
       "      <td>1.445054e+09</td>\n",
       "      <td>4.133858</td>\n",
       "      <td>-10.201004</td>\n",
       "    </tr>\n",
       "    <tr>\n",
       "      <th>2013-05-31</th>\n",
       "      <td>-0.10985</td>\n",
       "      <td>-0.51175</td>\n",
       "      <td>129.899994</td>\n",
       "      <td>126.400002</td>\n",
       "      <td>128.798996</td>\n",
       "      <td>129.000000</td>\n",
       "      <td>0.000000e+00</td>\n",
       "      <td>1.447870e+09</td>\n",
       "      <td>2.768981</td>\n",
       "      <td>12.010002</td>\n",
       "    </tr>\n",
       "    <tr>\n",
       "      <th>2013-06-01</th>\n",
       "      <td>0.49270</td>\n",
       "      <td>0.60255</td>\n",
       "      <td>129.779999</td>\n",
       "      <td>127.198997</td>\n",
       "      <td>128.815002</td>\n",
       "      <td>129.300003</td>\n",
       "      <td>0.000000e+00</td>\n",
       "      <td>1.451916e+09</td>\n",
       "      <td>2.029105</td>\n",
       "      <td>24.090004</td>\n",
       "    </tr>\n",
       "    <tr>\n",
       "      <th>2013-06-02</th>\n",
       "      <td>0.62490</td>\n",
       "      <td>0.13220</td>\n",
       "      <td>129.399994</td>\n",
       "      <td>115.050003</td>\n",
       "      <td>129.300003</td>\n",
       "      <td>122.292000</td>\n",
       "      <td>0.000000e+00</td>\n",
       "      <td>1.373837e+09</td>\n",
       "      <td>12.472830</td>\n",
       "      <td>24.542000</td>\n",
       "    </tr>\n",
       "    <tr>\n",
       "      <th>...</th>\n",
       "      <td>...</td>\n",
       "      <td>...</td>\n",
       "      <td>...</td>\n",
       "      <td>...</td>\n",
       "      <td>...</td>\n",
       "      <td>...</td>\n",
       "      <td>...</td>\n",
       "      <td>...</td>\n",
       "      <td>...</td>\n",
       "      <td>...</td>\n",
       "    </tr>\n",
       "    <tr>\n",
       "      <th>2021-02-10</th>\n",
       "      <td>0.40190</td>\n",
       "      <td>0.00000</td>\n",
       "      <td>47145.568199</td>\n",
       "      <td>43881.152599</td>\n",
       "      <td>46469.761202</td>\n",
       "      <td>44918.184492</td>\n",
       "      <td>8.730109e+10</td>\n",
       "      <td>8.366169e+11</td>\n",
       "      <td>7.439220</td>\n",
       "      <td>9351.528551</td>\n",
       "    </tr>\n",
       "    <tr>\n",
       "      <th>2021-02-11</th>\n",
       "      <td>0.41990</td>\n",
       "      <td>0.01800</td>\n",
       "      <td>48463.467125</td>\n",
       "      <td>44187.762351</td>\n",
       "      <td>44898.711611</td>\n",
       "      <td>47909.331195</td>\n",
       "      <td>8.138891e+10</td>\n",
       "      <td>8.923649e+11</td>\n",
       "      <td>9.676219</td>\n",
       "      <td>13986.370613</td>\n",
       "    </tr>\n",
       "    <tr>\n",
       "      <th>2021-02-12</th>\n",
       "      <td>0.40190</td>\n",
       "      <td>-0.01800</td>\n",
       "      <td>48745.733800</td>\n",
       "      <td>46424.977818</td>\n",
       "      <td>47877.034375</td>\n",
       "      <td>47504.851183</td>\n",
       "      <td>7.655504e+10</td>\n",
       "      <td>8.848741e+11</td>\n",
       "      <td>4.998938</td>\n",
       "      <td>10188.491783</td>\n",
       "    </tr>\n",
       "    <tr>\n",
       "      <th>2021-02-13</th>\n",
       "      <td>0.38180</td>\n",
       "      <td>-0.02010</td>\n",
       "      <td>48047.744591</td>\n",
       "      <td>46392.282333</td>\n",
       "      <td>47491.202555</td>\n",
       "      <td>47105.517473</td>\n",
       "      <td>7.025046e+10</td>\n",
       "      <td>8.774789e+11</td>\n",
       "      <td>3.568400</td>\n",
       "      <td>7918.189351</td>\n",
       "    </tr>\n",
       "    <tr>\n",
       "      <th>2021-02-14</th>\n",
       "      <td>0.40190</td>\n",
       "      <td>0.02010</td>\n",
       "      <td>49487.640873</td>\n",
       "      <td>47114.509586</td>\n",
       "      <td>47114.509586</td>\n",
       "      <td>48717.290211</td>\n",
       "      <td>7.124868e+10</td>\n",
       "      <td>9.075513e+11</td>\n",
       "      <td>5.036944</td>\n",
       "      <td>11891.924360</td>\n",
       "    </tr>\n",
       "  </tbody>\n",
       "</table>\n",
       "<p>2819 rows × 10 columns</p>\n",
       "</div>"
      ],
      "text/plain": [
       "            Compound Sentiment Score  sentiment change          High  \\\n",
       "date                                                                   \n",
       "2013-05-29                   0.37030          -0.04600    132.589996   \n",
       "2013-05-30                   0.40190           0.03160    132.250000   \n",
       "2013-05-31                  -0.10985          -0.51175    129.899994   \n",
       "2013-06-01                   0.49270           0.60255    129.779999   \n",
       "2013-06-02                   0.62490           0.13220    129.399994   \n",
       "...                              ...               ...           ...   \n",
       "2021-02-10                   0.40190           0.00000  47145.568199   \n",
       "2021-02-11                   0.41990           0.01800  48463.467125   \n",
       "2021-02-12                   0.40190          -0.01800  48745.733800   \n",
       "2021-02-13                   0.38180          -0.02010  48047.744591   \n",
       "2021-02-14                   0.40190           0.02010  49487.640873   \n",
       "\n",
       "                     Low          Open         Close        Volume  \\\n",
       "date                                                                 \n",
       "2013-05-29    127.662003    129.000000    132.300003  0.000000e+00   \n",
       "2013-05-30    127.000000    132.250000    128.798996  0.000000e+00   \n",
       "2013-05-31    126.400002    128.798996    129.000000  0.000000e+00   \n",
       "2013-06-01    127.198997    128.815002    129.300003  0.000000e+00   \n",
       "2013-06-02    115.050003    129.300003    122.292000  0.000000e+00   \n",
       "...                  ...           ...           ...           ...   \n",
       "2021-02-10  43881.152599  46469.761202  44918.184492  8.730109e+10   \n",
       "2021-02-11  44187.762351  44898.711611  47909.331195  8.138891e+10   \n",
       "2021-02-12  46424.977818  47877.034375  47504.851183  7.655504e+10   \n",
       "2021-02-13  46392.282333  47491.202555  47105.517473  7.025046e+10   \n",
       "2021-02-14  47114.509586  47114.509586  48717.290211  7.124868e+10   \n",
       "\n",
       "               Marketcap  Volatility  monthly returns  \n",
       "date                                                   \n",
       "2013-05-29  1.483735e+09    3.860188       -12.239990  \n",
       "2013-05-30  1.445054e+09    4.133858       -10.201004  \n",
       "2013-05-31  1.447870e+09    2.768981        12.010002  \n",
       "2013-06-01  1.451916e+09    2.029105        24.090004  \n",
       "2013-06-02  1.373837e+09   12.472830        24.542000  \n",
       "...                  ...         ...              ...  \n",
       "2021-02-10  8.366169e+11    7.439220      9351.528551  \n",
       "2021-02-11  8.923649e+11    9.676219     13986.370613  \n",
       "2021-02-12  8.848741e+11    4.998938     10188.491783  \n",
       "2021-02-13  8.774789e+11    3.568400      7918.189351  \n",
       "2021-02-14  9.075513e+11    5.036944     11891.924360  \n",
       "\n",
       "[2819 rows x 10 columns]"
      ]
     },
     "execution_count": 92,
     "metadata": {},
     "output_type": "execute_result"
    }
   ],
   "source": [
    "org_df = df.copy(deep=True)\n",
    "org_df"
   ]
  },
  {
   "cell_type": "code",
   "execution_count": null,
   "id": "53815c65",
   "metadata": {},
   "outputs": [],
   "source": []
  },
  {
   "cell_type": "markdown",
   "id": "d5166074",
   "metadata": {},
   "source": [
    "# Data scaling"
   ]
  },
  {
   "cell_type": "code",
   "execution_count": 93,
   "id": "5b8e8510",
   "metadata": {},
   "outputs": [
    {
     "name": "stdout",
     "output_type": "stream",
     "text": [
      "Number of features 10\n"
     ]
    }
   ],
   "source": [
    "dataset = org_df.values\n",
    "dataset = dataset.astype('float32')\n",
    "scaler = MinMaxScaler(feature_range=(0, 1))\n",
    "dataset = scaler.fit_transform(dataset)\n",
    "# print('dataset.shape', dataset.shape)\n",
    "num_of_features = len(org_df.columns)\n",
    "print('Number of features', num_of_features)\n"
   ]
  },
  {
   "cell_type": "markdown",
   "id": "1a8d15cb",
   "metadata": {},
   "source": [
    "config"
   ]
  },
  {
   "cell_type": "code",
   "execution_count": 94,
   "id": "04525545",
   "metadata": {},
   "outputs": [],
   "source": [
    "expr_name = 'expr_1'\n",
    "look_back = 60 # 60 days\n",
    "lstm_layers = 32\n",
    "epochs=10\n",
    "batch_size=128"
   ]
  },
  {
   "cell_type": "markdown",
   "id": "4e0696c5",
   "metadata": {},
   "source": [
    "spliting datasets into train and test¶\n"
   ]
  },
  {
   "cell_type": "code",
   "execution_count": 95,
   "id": "af1c5313",
   "metadata": {},
   "outputs": [
    {
     "name": "stdout",
     "output_type": "stream",
     "text": [
      "Training dataset length  2255\n",
      "Testing dataset length  564\n",
      "look_back  60\n"
     ]
    }
   ],
   "source": [
    "train_size_percent = 0.80\n",
    "pred_col = org_df.columns.get_loc('Close')\n",
    "\n",
    "# function to split the data\n",
    "def create_dataset(dataset, pred_col, look_back=1):\n",
    "    dataX, dataY = [], []\n",
    "    for i in range(len(dataset)-look_back-1):\n",
    "        a = dataset[i:(i+look_back), :]\n",
    "        dataX.append(a)\n",
    "        dataY.append(dataset[i + look_back, pred_col])\n",
    "    return np.array(dataX), np.array(dataY)\n",
    "\n",
    "\n",
    "train_size = int(len(dataset) * train_size_percent)\n",
    "test_size = len(dataset) - train_size\n",
    "train, test = dataset[0:train_size, :], dataset[train_size:len(dataset), :]\n",
    "\n",
    "trainX, trainY = create_dataset(train, pred_col, look_back=look_back)\n",
    "testX, testY = create_dataset(test, pred_col, look_back=look_back)\n",
    "# reshape input to be  [samples, time steps, features]\n",
    "trainX = np.reshape(trainX, (trainX.shape[0], look_back, num_of_features))\n",
    "testX = np.reshape(testX, (testX.shape[0],look_back, num_of_features))\n",
    "\n",
    "print('Training dataset length ', len(train))\n",
    "print('Testing dataset length ', len(test))\n",
    "print('look_back ', look_back)"
   ]
  },
  {
   "cell_type": "markdown",
   "id": "f89909a4",
   "metadata": {},
   "source": [
    "Build the model and train¶\n"
   ]
  },
  {
   "cell_type": "code",
   "execution_count": 96,
   "id": "ad0503f0",
   "metadata": {},
   "outputs": [
    {
     "name": "stdout",
     "output_type": "stream",
     "text": [
      "Epoch 1/10\n",
      "12/12 [==============================] - 6s 220ms/step - loss: 0.0012 - val_loss: 0.0110\n",
      "Epoch 2/10\n",
      "12/12 [==============================] - 0s 32ms/step - loss: 0.0011 - val_loss: 0.0168\n",
      "Epoch 3/10\n",
      "12/12 [==============================] - 0s 32ms/step - loss: 3.4685e-04 - val_loss: 0.0112\n",
      "Epoch 4/10\n",
      "12/12 [==============================] - 0s 33ms/step - loss: 4.3243e-05 - val_loss: 0.0057\n",
      "Epoch 5/10\n",
      "12/12 [==============================] - 1s 57ms/step - loss: 1.3236e-04 - val_loss: 0.0046\n",
      "Epoch 6/10\n",
      "12/12 [==============================] - 0s 36ms/step - loss: 6.5377e-05 - val_loss: 0.0025\n",
      "Epoch 7/10\n",
      "12/12 [==============================] - 0s 32ms/step - loss: 3.5111e-05 - val_loss: 0.0012\n",
      "Epoch 8/10\n",
      "12/12 [==============================] - 0s 37ms/step - loss: 3.9452e-05 - val_loss: 6.7089e-04\n",
      "Epoch 9/10\n",
      "12/12 [==============================] - 0s 34ms/step - loss: 3.5178e-05 - val_loss: 4.0822e-04\n",
      "Epoch 10/10\n",
      "12/12 [==============================] - 0s 36ms/step - loss: 2.7941e-05 - val_loss: 3.3106e-04\n"
     ]
    }
   ],
   "source": [
    "# create and fit the LSTM network\n",
    "\n",
    "model = Sequential()\n",
    "model.add(LSTM(lstm_layers, input_shape=(look_back,num_of_features)))\n",
    "model.add(Dense(1))\n",
    "model.compile(loss='mean_squared_error', optimizer='adam')\n",
    "history= model.fit(trainX, trainY,validation_split=0.30, epochs=epochs, batch_size=batch_size,shuffle=False)"
   ]
  },
  {
   "cell_type": "code",
   "execution_count": 97,
   "id": "11ad52b9",
   "metadata": {},
   "outputs": [
    {
     "data": {
      "image/png": "[encoded data removed]",
      "text/plain": [
       "<Figure size 432x288 with 1 Axes>"
      ]
     },
     "metadata": {
      "needs_background": "light"
     },
     "output_type": "display_data"
    }
   ],
   "source": [
    "# Plot training\n",
    "plt.plot(history.history['loss'])\n",
    "plt.plot(history.history['val_loss'])\n",
    "plt.title('Model loss')\n",
    "plt.ylabel('Loss')\n",
    "plt.xlabel('Epoch')\n",
    "plt.legend(['training', 'validation'], loc='upper right')\n",
    "plt.show()"
   ]
  },
  {
   "cell_type": "code",
   "execution_count": 98,
   "id": "7a8a24b1",
   "metadata": {},
   "outputs": [],
   "source": [
    "trainPredict = model.predict(trainX)\n",
    "testPredict = model.predict(testX)\n",
    "\n",
    "# Get something which has as many features as dataset\n",
    "trainPredict_extended = np.zeros((len(trainPredict),num_of_features))\n",
    "# Put the predictions there\n",
    "trainPredict_extended[:,pred_col] = trainPredict[:,0]\n",
    "# Inverse transform it and select the 3rd column.\n",
    "trainPredict = scaler.inverse_transform(trainPredict_extended) [:,pred_col]\n",
    "\n",
    "# Get something which has as many features as dataset\n",
    "testPredict_extended = np.zeros((len(testPredict),num_of_features))\n",
    "# Put the predictions there\n",
    "testPredict_extended[:,pred_col] = testPredict[:,0]\n",
    "# Inverse transform it and select the pred_col column.\n",
    "testPredict = scaler.inverse_transform(testPredict_extended)[:,pred_col] \n",
    "\n",
    "trainY_extended = np.zeros((len(trainY),num_of_features))\n",
    "trainY_extended[:,pred_col]=trainY\n",
    "trainY = scaler.inverse_transform(trainY_extended)[:,pred_col]\n",
    "\n",
    "testY_extended = np.zeros((len(testY),num_of_features))\n",
    "testY_extended[:,pred_col]=testY\n",
    "testY = scaler.inverse_transform(testY_extended)[:,pred_col]\n",
    "\n",
    "# calculate root mean squared error\n",
    "trainScore_RMSE = math.sqrt(mean_squared_error(trainY, trainPredict))\n",
    "testScore_RMSE = math.sqrt(mean_squared_error(testY, testPredict))\n",
    "\n",
    "# calculate absolute mean error\n",
    "trainScore_MAE = np.sum(np.absolute(trainY - trainPredict))/len(trainY)\n",
    "testScore_MAE = np.sum(np.absolute(testY - testPredict))/len(testY)"
   ]
  },
  {
   "cell_type": "code",
   "execution_count": 99,
   "id": "c612c427",
   "metadata": {},
   "outputs": [
    {
     "data": {
      "text/plain": [
       "Text(0.5, 1.0, 'Bitcoin Price Prediction')"
      ]
     },
     "execution_count": 99,
     "metadata": {},
     "output_type": "execute_result"
    },
    {
     "data": {
      "image/png": "[encoded data removed]",
      "text/plain": [
       "<Figure size 1080x504 with 1 Axes>"
      ]
     },
     "metadata": {
      "needs_background": "light"
     },
     "output_type": "display_data"
    }
   ],
   "source": [
    "# shift train predictions for plotting\n",
    "trainPredictPlot = np.empty_like(dataset)\n",
    "trainPredictPlot[:, :] = np.nan\n",
    "trainPredictPlot[look_back:len(trainPredict)+look_back, pred_col] = trainPredict\n",
    "\n",
    "# shift test predictions for plotting\n",
    "testPredictPlot = np.empty_like(dataset)\n",
    "testPredictPlot[:, :] = np.nan\n",
    "testPredictPlot[len(trainPredict)+(look_back*2)+1:len(dataset)-1, pred_col] = testPredict\n",
    "\n",
    "# contruct pandas dataframe for plotting\n",
    "time_df = pd.DataFrame(org_df.index)\n",
    "time_df['Actual'] = scaler.inverse_transform(dataset)[:,pred_col]\n",
    "df1 = pd.DataFrame(trainPredictPlot[:,pred_col],columns=['Train'])\n",
    "df2 = pd.DataFrame(testPredictPlot[:,pred_col],columns=['Test'])\n",
    "time_df2 = pd.concat([time_df, df1, df2], axis=1, sort=False)\n",
    "time_df2.set_index('date',inplace=True)\n",
    "\n",
    "# plot the output\n",
    "fig, ax = plt.subplots(figsize=(15,7))\n",
    "time_df2.plot(ax=ax,rot=90,alpha=0.7)\n",
    "plt.xlabel('Date')\n",
    "plt.ylabel('Bitcoin Value')\n",
    "plt.title('Bitcoin Price Prediction')\n",
    "# plt.savefig(expr_name + '.png',bbox_inches = \"tight\")"
   ]
  },
  {
   "cell_type": "code",
   "execution_count": 100,
   "id": "fbf8826c",
   "metadata": {},
   "outputs": [
    {
     "name": "stdout",
     "output_type": "stream",
     "text": [
      "--------------------------------------------------\n",
      "Experiment name: expr_1\n",
      "--------------------------------------------------\n",
      "look_back days: 60\n",
      "lstm_layers: 32\n",
      "epochs: 10\n",
      "batch_size: 128\n",
      "dataset features ['Compound Sentiment Score', 'sentiment change', 'High', 'Low', 'Open', 'Close', 'Volume', 'Marketcap', 'Volatility', 'monthly returns']\n",
      "--------------------------------------------------\n",
      "Train Score: 509.95 RMSE\n",
      "Test Score: 2448.76 RMSE\n",
      "--------------------------------------------------\n",
      "Train Score: 280.42 MAE\n",
      "Test Score: 1729.55 MAE\n",
      "--------------------------------------------------\n",
      "Model summary:\n",
      "Model: \"sequential_5\"\n",
      "_________________________________________________________________\n",
      "Layer (type)                 Output Shape              Param #   \n",
      "=================================================================\n",
      "lstm_5 (LSTM)                (None, 32)                5504      \n",
      "_________________________________________________________________\n",
      "dense_5 (Dense)              (None, 1)                 33        \n",
      "=================================================================\n",
      "Total params: 5,537\n",
      "Trainable params: 5,537\n",
      "Non-trainable params: 0\n",
      "_________________________________________________________________\n"
     ]
    }
   ],
   "source": [
    "print('-' * 50)\n",
    "print('Experiment name:', expr_name)\n",
    "\n",
    "print('-' * 50)\n",
    "print('look_back days:', look_back)\n",
    "print('lstm_layers:', lstm_layers)\n",
    "print('epochs:', epochs)\n",
    "print('batch_size:', batch_size)\n",
    "print('dataset features', list(org_df.columns))\n",
    "\n",
    "\n",
    "print('-' * 50)\n",
    "print('Train Score: %.2f RMSE' % (trainScore_RMSE))\n",
    "print('Test Score: %.2f RMSE' % (testScore_RMSE))\n",
    "\n",
    "print('-' * 50)\n",
    "print('Train Score: %.2f MAE' % (trainScore_MAE))\n",
    "print('Test Score: %.2f MAE' % (testScore_MAE))\n",
    "\n",
    "print('-' * 50)\n",
    "print('Model summary:')\n",
    "model.summary()"
   ]
  },
  {
   "cell_type": "code",
   "execution_count": null,
   "id": "5d4f7bf5",
   "metadata": {},
   "outputs": [],
   "source": [
    "# confusion_matrix()"
   ]
  },
  {
   "cell_type": "code",
   "execution_count": 101,
   "id": "d3a0fd6e",
   "metadata": {},
   "outputs": [],
   "source": [
    "# train_predict = model.predict(trainX)\n",
    "# test_predict = model.predict(testX)\n",
    "# invert predictions\n",
    "# trainPredict_extended\n",
    "# train_predict = scaler.inverse_transform(trainPredict_extended)\n",
    "# Y_train = scaler.inverse_transform([trainY])\n",
    "# test_predict = scaler.inverse_transform(test_predict)\n",
    "# Y_test = scaler.inverse_transform([Ytest])\n",
    "# print('Train Mean Absolute Error:', mean_absolute_error(Y_train[0], train_predict[:,0]))\n",
    "# print('Train Root Mean Squared Error:',np.sqrt(mean_squared_error(trainY[0], train_predict[:,0])))\n",
    "# print('Test Mean Absolute Error:', mean_absolute_error(Y_test[0], test_predict[:,0]))\n",
    "# print('Test Root Mean Squared Error:',np.sqrt(mean_squared_error(Y_test[0], test_predict[:,0])))"
   ]
  },
  {
   "cell_type": "code",
   "execution_count": 28,
   "id": "58a3575f",
   "metadata": {},
   "outputs": [
    {
     "ename": "AttributeError",
     "evalue": "'numpy.ndarray' object has no attribute 'append'",
     "output_type": "error",
     "traceback": [
      "\u001b[1;31m---------------------------------------------------------------------------\u001b[0m",
      "\u001b[1;31mAttributeError\u001b[0m                            Traceback (most recent call last)",
      "\u001b[1;32m<ipython-input-28-9c0d29f17156>\u001b[0m in \u001b[0;36m<module>\u001b[1;34m\u001b[0m\n\u001b[1;32m----> 1\u001b[1;33m \u001b[0mplt\u001b[0m\u001b[1;33m.\u001b[0m\u001b[0mplot\u001b[0m\u001b[1;33m(\u001b[0m\u001b[0mtrainPredict\u001b[0m\u001b[1;33m.\u001b[0m\u001b[0mappend\u001b[0m\u001b[1;33m(\u001b[0m\u001b[0mtestPredict\u001b[0m\u001b[1;33m)\u001b[0m\u001b[1;33m)\u001b[0m\u001b[1;33m\u001b[0m\u001b[1;33m\u001b[0m\u001b[0m\n\u001b[0m\u001b[0;32m      2\u001b[0m \u001b[0mplt\u001b[0m\u001b[1;33m.\u001b[0m\u001b[0mplot\u001b[0m\u001b[1;33m(\u001b[0m\u001b[0mtestPredict\u001b[0m\u001b[1;33m)\u001b[0m\u001b[1;33m\u001b[0m\u001b[1;33m\u001b[0m\u001b[0m\n",
      "\u001b[1;31mAttributeError\u001b[0m: 'numpy.ndarray' object has no attribute 'append'"
     ]
    }
   ],
   "source": []
  },
  {
   "cell_type": "code",
   "execution_count": 33,
   "id": "c5f8f938",
   "metadata": {},
   "outputs": [
    {
     "data": {
      "text/plain": [
       "(29.63926543091603, 33.58710807575396)"
      ]
     },
     "execution_count": 33,
     "metadata": {},
     "output_type": "execute_result"
    }
   ],
   "source": [
    "trainScore_RMSE = math.sqrt(mean_squared_error(trainY, trainPredict))\n",
    "testScore_RMSE = math.sqrt(mean_squared_error(testY, testPredict))\n",
    "trainScore_RMSE,testScore_RMSE"
   ]
  },
  {
   "cell_type": "code",
   "execution_count": null,
   "id": "ef01290b",
   "metadata": {},
   "outputs": [],
   "source": []
  }
 ],
 "metadata": {
  "kernelspec": {
   "display_name": "Python 3",
   "language": "python",
   "name": "python3"
  },
  "language_info": {
   "codemirror_mode": {
    "name": "ipython",
    "version": 3
   },
   "file_extension": ".py",
   "mimetype": "text/x-python",
   "name": "python",
   "nbconvert_exporter": "python",
   "pygments_lexer": "ipython3",
   "version": "3.8.8"
  }
 },
 "nbformat": 4,
 "nbformat_minor": 5
}
