{
 "cells": [
  {
   "cell_type": "markdown",
   "id": "8a87fc4a",
   "metadata": {},
   "source": [
    "# Data Engineering - Initial Dataset Collection\n",
    "\n",
    "### This notebook was used for querying the Pushshift API to collect data"
   ]
  },
  {
   "cell_type": "markdown",
   "id": "60c1f00c",
   "metadata": {},
   "source": [
    "There are 3 notebooks i used for colelcting this data on my local computer, but also on google collab and kaggle\n",
    "\n",
    "I did that due to the limitations placed by Pushshift. Only one query can be made per 60 seconds therefore to speed up the process of collection I ran two other virtual machines to collect the data. The following code is very simple and checks if the API shards are active and begins to query them.\n",
    "\n",
    "The before and after parameters define the scope of data collected. As the comment number number is very unevenly distributed in time we use different time scales. At the start of the tie period in question we can quiery entire years as the comment number is relative low (<100k) but by late 2020 and during 2017-18 we see more than 100K comments per month.\n",
    "\n",
    "We then just save to a CSV file for later data engineering / science."
   ]
  },
  {
   "cell_type": "code",
   "execution_count": 1,
   "id": "64156fa8",
   "metadata": {},
   "outputs": [],
   "source": [
    "import pandas as pd\n",
    "from pmaw import PushshiftAPI\n",
    "api = PushshiftAPI()"
   ]
  },
  {
   "cell_type": "code",
   "execution_count": 2,
   "id": "0b2f5abb",
   "metadata": {},
   "outputs": [
    {
     "name": "stdout",
     "output_type": "stream",
     "text": [
      "0.0\n"
     ]
    }
   ],
   "source": [
    "import time\n",
    "start = time.time()\n",
    "\"the code you want to test stays here\"\n",
    "end = time.time()\n",
    "print(end - start)"
   ]
  },
  {
   "cell_type": "code",
   "execution_count": 3,
   "id": "a0a67505",
   "metadata": {},
   "outputs": [],
   "source": [
    "api.metadata_.get('shards')"
   ]
  },
  {
   "cell_type": "code",
   "execution_count": null,
   "id": "c3503ddd",
   "metadata": {},
   "outputs": [],
   "source": [
    "import datetime as dt\n",
    "after = int(dt.datetime(2014,1,1,0,0).timestamp())\n",
    "before = int(dt.datetime(2015,1,1,0,0).timestamp())"
   ]
  },
  {
   "cell_type": "code",
   "execution_count": null,
   "id": "a1fd90cb",
   "metadata": {},
   "outputs": [],
   "source": [
    "subreddit=\"CryptoCurrency\"\n",
    "limit=1000000\n",
    "comments = api.search_comments(subreddit=subreddit, limit=limit, before=before, after=after)\n",
    "print(f'Retrieved {len(comments)} comments from Pushshift')"
   ]
  },
  {
   "cell_type": "code",
   "execution_count": null,
   "id": "dc63f8cd",
   "metadata": {},
   "outputs": [],
   "source": [
    "comments_df = pd.DataFrame(comments)\n",
    "# preview the comments data\n",
    "comments_df\n",
    "# comments_df"
   ]
  },
  {
   "cell_type": "code",
   "execution_count": null,
   "id": "ebdb93be",
   "metadata": {},
   "outputs": [],
   "source": [
    "comments_df.to_csv('./2014.csv', header=True, index=False, columns=list(comments_df.axes[1]))"
   ]
  },
  {
   "cell_type": "markdown",
   "id": "562dd99c",
   "metadata": {},
   "source": [
    "2015 comments"
   ]
  },
  {
   "cell_type": "code",
   "execution_count": null,
   "id": "de2b6634",
   "metadata": {},
   "outputs": [],
   "source": [
    "after = int(dt.datetime(2015,1,1,0,0).timestamp())\n",
    "before = int(dt.datetime(2016,1,1,0,0).timestamp())\n",
    "\n",
    "import time\n",
    "start = time.time()\n",
    "subreddit=\"CryptoCurrency\"\n",
    "limit=100000000\n",
    "comments = api.search_comments(subreddit=subreddit, limit=limit, before=before, after=after)\n",
    "print(f'Retrieved {len(comments)} comments from Pushshift')\n",
    "end = time.time()\n",
    "print(end - start)\n",
    "\n"
   ]
  },
  {
   "cell_type": "code",
   "execution_count": null,
   "id": "3d4b02d2",
   "metadata": {},
   "outputs": [],
   "source": [
    "comments_df = pd.DataFrame(comments)\n",
    "# preview the comments data\n",
    "comments_df"
   ]
  },
  {
   "cell_type": "code",
   "execution_count": null,
   "id": "15a4cb05",
   "metadata": {},
   "outputs": [],
   "source": [
    "comments_df.to_csv('./2015.csv', header=True, index=False, columns=list(comments_df.axes[1]))"
   ]
  },
  {
   "cell_type": "markdown",
   "id": "23d2d648",
   "metadata": {},
   "source": [
    "2016 comments"
   ]
  },
  {
   "cell_type": "code",
   "execution_count": null,
   "id": "48c4690c",
   "metadata": {},
   "outputs": [],
   "source": [
    "after = int(dt.datetime(2016,1,1,0,0).timestamp())\n",
    "before = int(dt.datetime(2017,1,1,0,0).timestamp())\n",
    "\n",
    "import time\n",
    "start = time.time()\n",
    "subreddit=\"CryptoCurrency\"\n",
    "limit=100000000\n",
    "comments = api.search_comments(subreddit=subreddit, limit=limit, before=before, after=after)\n",
    "print(f'Retrieved {len(comments)} comments from Pushshift')\n",
    "end = time.time()\n",
    "print(end - start)"
   ]
  },
  {
   "cell_type": "code",
   "execution_count": null,
   "id": "015d4157",
   "metadata": {},
   "outputs": [],
   "source": [
    "comments_df = pd.DataFrame(comments)\n",
    "# preview the comments data\n",
    "comments_df"
   ]
  },
  {
   "cell_type": "code",
   "execution_count": null,
   "id": "846f9e8d",
   "metadata": {},
   "outputs": [],
   "source": [
    "comments_df.to_csv('./2016.csv', header=True, index=False, columns=list(comments_df.axes[1]))"
   ]
  },
  {
   "cell_type": "markdown",
   "id": "7524f74e",
   "metadata": {},
   "source": [
    "2017 comments"
   ]
  },
  {
   "cell_type": "code",
   "execution_count": null,
   "id": "0af49483",
   "metadata": {},
   "outputs": [],
   "source": [
    "after = int(dt.datetime(2017,1,1,0,0).timestamp())\n",
    "before = int(dt.datetime(2018,1,1,0,0).timestamp())\n",
    "\n",
    "import time\n",
    "start = time.time()\n",
    "subreddit=\"CryptoCurrency\"\n",
    "limit=10000000\n",
    "comments = api.search_comments(subreddit=subreddit, limit=limit, before=before, after=after)\n",
    "print(f'Retrieved {len(comments)} comments from Pushshift')\n",
    "end = time.time()\n",
    "print(end - start)"
   ]
  },
  {
   "cell_type": "code",
   "execution_count": null,
   "id": "68f046ce",
   "metadata": {},
   "outputs": [],
   "source": [
    "comments_df = pd.DataFrame(comments)\n",
    "# preview the comments data\n",
    "comments_df"
   ]
  },
  {
   "cell_type": "code",
   "execution_count": null,
   "id": "3472919b",
   "metadata": {},
   "outputs": [],
   "source": [
    "comments_df.to_csv('./2017.csv', header=True, index=False, columns=list(comments_df.axes[1]))"
   ]
  },
  {
   "cell_type": "markdown",
   "id": "d0b55ee2",
   "metadata": {},
   "source": [
    "### per month"
   ]
  },
  {
   "cell_type": "code",
   "execution_count": null,
   "id": "f7c64950",
   "metadata": {},
   "outputs": [],
   "source": [
    "after = int(dt.datetime(2014,1,1,0,0).timestamp())\n",
    "before = int(dt.datetime(2014,2,1,0,0).timestamp())\n",
    "\n",
    "import time\n",
    "start = time.time()\n",
    "subreddit=\"CryptoCurrency\"\n",
    "limit=100000\n",
    "comments = api.search_comments(subreddit=subreddit, limit=limit, before=before, after=after)\n",
    "print(f'Retrieved {len(comments)} comments from Pushshift')\n",
    "end = time.time()\n",
    "print(end - start)"
   ]
  },
  {
   "cell_type": "code",
   "execution_count": null,
   "id": "ec44d073",
   "metadata": {},
   "outputs": [],
   "source": [
    "comments_df = pd.DataFrame(comments)\n",
    "# preview the comments data\n",
    "comments_df"
   ]
  },
  {
   "cell_type": "code",
   "execution_count": null,
   "id": "7d3efcb3",
   "metadata": {},
   "outputs": [],
   "source": [
    "comments_df.to_csv('./2014-01.csv', header=True, index=False, columns=list(comments_df.axes[1]))"
   ]
  },
  {
   "cell_type": "markdown",
   "id": "761fe492",
   "metadata": {},
   "source": [
    "2014-02"
   ]
  },
  {
   "cell_type": "code",
   "execution_count": null,
   "id": "c424aa02",
   "metadata": {},
   "outputs": [],
   "source": [
    "after = int(dt.datetime(2014,2,1,0,0).timestamp())\n",
    "before = int(dt.datetime(2014,3,1,0,0).timestamp())\n",
    "\n",
    "import time\n",
    "start = time.time()\n",
    "subreddit=\"CryptoCurrency\"\n",
    "limit=100000\n",
    "comments = api.search_comments(subreddit=subreddit, limit=limit, before=before, after=after)\n",
    "print(f'Retrieved {len(comments)} comments from Pushshift')\n",
    "end = time.time()\n",
    "print(end - start)"
   ]
  },
  {
   "cell_type": "code",
   "execution_count": null,
   "id": "9f4539e0",
   "metadata": {},
   "outputs": [],
   "source": [
    "comments_df = pd.DataFrame(comments)\n",
    "# preview the comments data\n",
    "comments_df"
   ]
  },
  {
   "cell_type": "code",
   "execution_count": null,
   "id": "49f1b59c",
   "metadata": {},
   "outputs": [],
   "source": [
    "comments_df.to_csv('./2014-02.csv', header=True, index=False, columns=list(comments_df.axes[1]))"
   ]
  },
  {
   "cell_type": "markdown",
   "id": "3d8b6d6c",
   "metadata": {},
   "source": [
    "2014-03"
   ]
  },
  {
   "cell_type": "code",
   "execution_count": null,
   "id": "d2a6f9b0",
   "metadata": {},
   "outputs": [],
   "source": [
    "after = int(dt.datetime(2014,3,1,0,0).timestamp())\n",
    "before = int(dt.datetime(2014,4,1,0,0).timestamp())\n",
    "\n",
    "import time\n",
    "start = time.time()\n",
    "subreddit=\"CryptoCurrency\"\n",
    "limit=100000\n",
    "comments = api.search_comments(subreddit=subreddit, limit=limit, before=before, after=after)\n",
    "print(f'Retrieved {len(comments)} comments from Pushshift')\n",
    "end = time.time()\n",
    "print(end - start)"
   ]
  },
  {
   "cell_type": "code",
   "execution_count": null,
   "id": "cbbb1ef9",
   "metadata": {},
   "outputs": [],
   "source": [
    "comments_df = pd.DataFrame(comments)\n",
    "# preview the comments data\n",
    "comments_df"
   ]
  },
  {
   "cell_type": "code",
   "execution_count": null,
   "id": "1230cd48",
   "metadata": {},
   "outputs": [],
   "source": [
    "comments_df.to_csv('./2014-03.csv', header=True, index=False, columns=list(comments_df.axes[1]))"
   ]
  },
  {
   "cell_type": "markdown",
   "id": "cc4eb6f0",
   "metadata": {},
   "source": [
    "2014-04"
   ]
  },
  {
   "cell_type": "code",
   "execution_count": null,
   "id": "0a88c2ed",
   "metadata": {},
   "outputs": [],
   "source": [
    "after = int(dt.datetime(2014,4,1,0,0).timestamp())\n",
    "before = int(dt.datetime(2014,5,1,0,0).timestamp())\n",
    "\n",
    "import time\n",
    "start = time.time()\n",
    "subreddit=\"CryptoCurrency\"\n",
    "limit=100000\n",
    "comments = api.search_comments(subreddit=subreddit, limit=limit, before=before, after=after)\n",
    "print(f'Retrieved {len(comments)} comments from Pushshift')\n",
    "end = time.time()\n",
    "print(end - start)"
   ]
  },
  {
   "cell_type": "code",
   "execution_count": null,
   "id": "f94c5566",
   "metadata": {},
   "outputs": [],
   "source": [
    "comments_df = pd.DataFrame(comments)\n",
    "# preview the comments data\n",
    "comments_df"
   ]
  },
  {
   "cell_type": "code",
   "execution_count": null,
   "id": "0a1d18f0",
   "metadata": {},
   "outputs": [],
   "source": [
    "comments_df.to_csv('./2014-04.csv', header=True, index=False, columns=list(comments_df.axes[1]))"
   ]
  },
  {
   "cell_type": "markdown",
   "id": "277bf80b",
   "metadata": {},
   "source": [
    "2014-05"
   ]
  },
  {
   "cell_type": "code",
   "execution_count": null,
   "id": "2f21c977",
   "metadata": {},
   "outputs": [],
   "source": [
    "after = int(dt.datetime(2014,5,1,0,0).timestamp())\n",
    "before = int(dt.datetime(2014,6,1,0,0).timestamp())\n",
    "\n",
    "import time\n",
    "start = time.time()\n",
    "subreddit=\"CryptoCurrency\"\n",
    "limit=100000\n",
    "comments = api.search_comments(subreddit=subreddit, limit=limit, before=before, after=after)\n",
    "print(f'Retrieved {len(comments)} comments from Pushshift')\n",
    "end = time.time()\n",
    "print(end - start)"
   ]
  },
  {
   "cell_type": "code",
   "execution_count": null,
   "id": "88178ee3",
   "metadata": {},
   "outputs": [],
   "source": [
    "comments_df = pd.DataFrame(comments)\n",
    "# preview the comments data\n",
    "comments_df"
   ]
  },
  {
   "cell_type": "code",
   "execution_count": null,
   "id": "82f0cf51",
   "metadata": {},
   "outputs": [],
   "source": [
    "comments_df.to_csv('./2014-05.csv', header=True, index=False, columns=list(comments_df.axes[1]))"
   ]
  },
  {
   "cell_type": "markdown",
   "id": "41eabfc6",
   "metadata": {},
   "source": [
    "2014-06"
   ]
  },
  {
   "cell_type": "code",
   "execution_count": null,
   "id": "5d7ea0ad",
   "metadata": {},
   "outputs": [],
   "source": [
    "after = int(dt.datetime(2014,6,1,0,0).timestamp())\n",
    "before = int(dt.datetime(2014,7,1,0,0).timestamp())\n",
    "\n",
    "import time\n",
    "start = time.time()\n",
    "subreddit=\"CryptoCurrency\"\n",
    "limit=100000\n",
    "comments = api.search_comments(subreddit=subreddit, limit=limit, before=before, after=after)\n",
    "print(f'Retrieved {len(comments)} comments from Pushshift')\n",
    "end = time.time()\n",
    "print(end - start)"
   ]
  },
  {
   "cell_type": "code",
   "execution_count": null,
   "id": "bd62dca3",
   "metadata": {},
   "outputs": [],
   "source": [
    "comments_df = pd.DataFrame(comments)\n",
    "# preview the comments data\n",
    "comments_df"
   ]
  },
  {
   "cell_type": "code",
   "execution_count": null,
   "id": "5c888c15",
   "metadata": {},
   "outputs": [],
   "source": [
    "comments_df.to_csv('./2014-06.csv', header=True, index=False, columns=list(comments_df.axes[1]))"
   ]
  },
  {
   "cell_type": "markdown",
   "id": "ba4ba9e6",
   "metadata": {},
   "source": [
    "2014-07"
   ]
  },
  {
   "cell_type": "code",
   "execution_count": null,
   "id": "4b41d1ba",
   "metadata": {},
   "outputs": [],
   "source": [
    "after = int(dt.datetime(2014,7,1,0,0).timestamp())\n",
    "before = int(dt.datetime(2014,8,1,0,0).timestamp())\n",
    "\n",
    "import time\n",
    "start = time.time()\n",
    "subreddit=\"CryptoCurrency\"\n",
    "limit=100000\n",
    "comments = api.search_comments(subreddit=subreddit, limit=limit, before=before, after=after)\n",
    "print(f'Retrieved {len(comments)} comments from Pushshift')\n",
    "end = time.time()\n",
    "print(end - start)"
   ]
  },
  {
   "cell_type": "code",
   "execution_count": null,
   "id": "4f872d8e",
   "metadata": {},
   "outputs": [],
   "source": [
    "comments_df = pd.DataFrame(comments)\n",
    "# preview the comments data\n",
    "comments_df"
   ]
  },
  {
   "cell_type": "code",
   "execution_count": null,
   "id": "0d0f7abe",
   "metadata": {},
   "outputs": [],
   "source": [
    "comments_df.to_csv('./2014-07.csv', header=True, index=False, columns=list(comments_df.axes[1]))"
   ]
  },
  {
   "cell_type": "markdown",
   "id": "3605ebcc",
   "metadata": {},
   "source": [
    "2014-08"
   ]
  },
  {
   "cell_type": "code",
   "execution_count": null,
   "id": "ae18bfd8",
   "metadata": {},
   "outputs": [],
   "source": [
    "after = int(dt.datetime(2014,8,1,0,0).timestamp())\n",
    "before = int(dt.datetime(2014,9,1,0,0).timestamp())\n",
    "\n",
    "import time\n",
    "start = time.time()\n",
    "subreddit=\"CryptoCurrency\"\n",
    "limit=100000\n",
    "comments = api.search_comments(subreddit=subreddit, limit=limit, before=before, after=after)\n",
    "print(f'Retrieved {len(comments)} comments from Pushshift')\n",
    "end = time.time()\n",
    "print(end - start)\n",
    "\n",
    "comments_df = pd.DataFrame(comments)\n",
    "# preview the comments data\n",
    "comments_df\n",
    "\n",
    "comments_df.to_csv('./2014-08.csv', header=True, index=False, columns=list(comments_df.axes[1]))"
   ]
  },
  {
   "cell_type": "markdown",
   "id": "2fc3dded",
   "metadata": {},
   "source": [
    "2014-09"
   ]
  },
  {
   "cell_type": "code",
   "execution_count": null,
   "id": "67c32ba7",
   "metadata": {},
   "outputs": [],
   "source": [
    "after = int(dt.datetime(2014,9,1,0,0).timestamp())\n",
    "before = int(dt.datetime(2014,10,1,0,0).timestamp())\n",
    "\n",
    "import time\n",
    "start = time.time()\n",
    "subreddit=\"CryptoCurrency\"\n",
    "limit=100000\n",
    "comments = api.search_comments(subreddit=subreddit, limit=limit, before=before, after=after)\n",
    "print(f'Retrieved {len(comments)} comments from Pushshift')\n",
    "end = time.time()\n",
    "print(end - start)\n",
    "\n",
    "comments_df = pd.DataFrame(comments)\n",
    "# preview the comments data\n",
    "comments_df\n",
    "\n",
    "comments_df.to_csv('./2014-09.csv', header=True, index=False, columns=list(comments_df.axes[1]))"
   ]
  },
  {
   "cell_type": "markdown",
   "id": "c6faf7c7",
   "metadata": {},
   "source": [
    "2014-10"
   ]
  },
  {
   "cell_type": "code",
   "execution_count": null,
   "id": "0ed6bcc9",
   "metadata": {},
   "outputs": [],
   "source": [
    "after = int(dt.datetime(2014,10,1,0,0).timestamp())\n",
    "before = int(dt.datetime(2014,11,1,0,0).timestamp())\n",
    "\n",
    "import time\n",
    "start = time.time()\n",
    "subreddit=\"CryptoCurrency\"\n",
    "limit=100000\n",
    "comments = api.search_comments(subreddit=subreddit, limit=limit, before=before, after=after)\n",
    "print(f'Retrieved {len(comments)} comments from Pushshift')\n",
    "end = time.time()\n",
    "print(end - start)\n",
    "\n",
    "comments_df = pd.DataFrame(comments)\n",
    "# preview the comments data\n",
    "comments_df\n",
    "\n",
    "comments_df.to_csv('./2014-10.csv', header=True, index=False, columns=list(comments_df.axes[1]))"
   ]
  },
  {
   "cell_type": "markdown",
   "id": "c34b7c8b",
   "metadata": {},
   "source": [
    "2014-11"
   ]
  },
  {
   "cell_type": "code",
   "execution_count": null,
   "id": "5839c241",
   "metadata": {},
   "outputs": [],
   "source": [
    "after = int(dt.datetime(2014,11,1,0,0).timestamp())\n",
    "before = int(dt.datetime(2014,12,1,0,0).timestamp())\n",
    "\n",
    "import time\n",
    "start = time.time()\n",
    "subreddit=\"CryptoCurrency\"\n",
    "limit=100000\n",
    "comments = api.search_comments(subreddit=subreddit, limit=limit, before=before, after=after)\n",
    "print(f'Retrieved {len(comments)} comments from Pushshift')\n",
    "end = time.time()\n",
    "print(end - start)\n",
    "\n",
    "comments_df = pd.DataFrame(comments)\n",
    "# preview the comments data\n",
    "comments_df\n",
    "\n",
    "comments_df.to_csv('./2014-11.csv', header=True, index=False, columns=list(comments_df.axes[1]))"
   ]
  },
  {
   "cell_type": "markdown",
   "id": "bfb9e4b6",
   "metadata": {},
   "source": [
    "2014-12"
   ]
  },
  {
   "cell_type": "code",
   "execution_count": null,
   "id": "20a194ac",
   "metadata": {},
   "outputs": [],
   "source": [
    "after = int(dt.datetime(2014,12,1,0,0).timestamp())\n",
    "before = int(dt.datetime(2015,1,1,0,0).timestamp())\n",
    "\n",
    "import time\n",
    "start = time.time()\n",
    "subreddit=\"CryptoCurrency\"\n",
    "limit=100000\n",
    "comments = api.search_comments(subreddit=subreddit, limit=limit, before=before, after=after)\n",
    "print(f'Retrieved {len(comments)} comments from Pushshift')\n",
    "end = time.time()\n",
    "print(end - start)\n",
    "\n",
    "comments_df = pd.DataFrame(comments)\n",
    "# preview the comments data\n",
    "comments_df\n",
    "\n",
    "comments_df.to_csv('./2014-12.csv', header=True, index=False, columns=list(comments_df.axes[1]))"
   ]
  },
  {
   "cell_type": "markdown",
   "id": "c6e57440",
   "metadata": {},
   "source": [
    "## 2015"
   ]
  },
  {
   "cell_type": "code",
   "execution_count": null,
   "id": "282570c3",
   "metadata": {},
   "outputs": [],
   "source": [
    "after = int(dt.datetime(2015,1,1,0,0).timestamp())\n",
    "before = int(dt.datetime(2015,2,1,0,0).timestamp())\n",
    "\n",
    "import time\n",
    "start = time.time()\n",
    "subreddit=\"CryptoCurrency\"\n",
    "limit=100000\n",
    "comments = api.search_comments(subreddit=subreddit, limit=limit, before=before, after=after)\n",
    "print(f'Retrieved {len(comments)} comments from Pushshift')\n",
    "end = time.time()\n",
    "print(end - start)\n",
    "\n",
    "comments_df = pd.DataFrame(comments)\n",
    "# preview the comments data\n",
    "comments_df\n",
    "\n",
    "comments_df.to_csv('./2015-01.csv', header=True, index=False, columns=list(comments_df.axes[1]))"
   ]
  },
  {
   "cell_type": "markdown",
   "id": "dcb6e9a1",
   "metadata": {},
   "source": [
    "2015-02"
   ]
  },
  {
   "cell_type": "code",
   "execution_count": null,
   "id": "c9ea16b5",
   "metadata": {},
   "outputs": [],
   "source": [
    "after = int(dt.datetime(2015,2,1,0,0).timestamp())\n",
    "before = int(dt.datetime(2015,3,1,0,0).timestamp())\n",
    "\n",
    "import time\n",
    "start = time.time()\n",
    "subreddit=\"CryptoCurrency\"\n",
    "limit=200000\n",
    "comments = api.search_comments(subreddit=subreddit, limit=limit, before=before, after=after)\n",
    "print(f'Retrieved {len(comments)} comments from Pushshift')\n",
    "end = time.time()\n",
    "print(end - start)\n",
    "\n",
    "comments_df = pd.DataFrame(comments)\n",
    "# preview the comments data\n",
    "comments_df\n",
    "\n",
    "comments_df.to_csv('./2015-02.csv', header=True, index=False, columns=list(comments_df.axes[1]))"
   ]
  },
  {
   "cell_type": "markdown",
   "id": "e379a7cc",
   "metadata": {},
   "source": [
    "2015-03"
   ]
  },
  {
   "cell_type": "code",
   "execution_count": null,
   "id": "e2c30d56",
   "metadata": {},
   "outputs": [],
   "source": [
    "after = int(dt.datetime(2015,3,1,0,0).timestamp())\n",
    "before = int(dt.datetime(2015,4,1,0,0).timestamp())\n",
    "\n",
    "import time\n",
    "start = time.time()\n",
    "subreddit=\"CryptoCurrency\"\n",
    "limit=200000\n",
    "comments = api.search_comments(subreddit=subreddit, limit=limit, before=before, after=after)\n",
    "print(f'Retrieved {len(comments)} comments from Pushshift')\n",
    "end = time.time()\n",
    "print(end - start)\n",
    "\n",
    "comments_df = pd.DataFrame(comments)\n",
    "# preview the comments data\n",
    "comments_df\n",
    "\n",
    "comments_df.to_csv('./2015-03.csv', header=True, index=False, columns=list(comments_df.axes[1]))"
   ]
  },
  {
   "cell_type": "markdown",
   "id": "0871cccc",
   "metadata": {},
   "source": [
    "2015-04"
   ]
  },
  {
   "cell_type": "code",
   "execution_count": null,
   "id": "0fca180a",
   "metadata": {},
   "outputs": [],
   "source": [
    "after = int(dt.datetime(2015,4,1,0,0).timestamp())\n",
    "before = int(dt.datetime(2015,5,1,0,0).timestamp())\n",
    "\n",
    "import time\n",
    "start = time.time()\n",
    "subreddit=\"CryptoCurrency\"\n",
    "limit=200000\n",
    "comments = api.search_comments(subreddit=subreddit, limit=limit, before=before, after=after)\n",
    "print(f'Retrieved {len(comments)} comments from Pushshift')\n",
    "end = time.time()\n",
    "print(end - start)\n",
    "\n",
    "comments_df = pd.DataFrame(comments)\n",
    "# preview the comments data\n",
    "comments_df\n",
    "\n",
    "comments_df.to_csv('./2015-04.csv', header=True, index=False, columns=list(comments_df.axes[1]))"
   ]
  },
  {
   "cell_type": "markdown",
   "id": "e5ed0d4c",
   "metadata": {},
   "source": [
    "2015-05"
   ]
  },
  {
   "cell_type": "code",
   "execution_count": null,
   "id": "e8338603",
   "metadata": {},
   "outputs": [],
   "source": [
    "after = int(dt.datetime(2015,5,1,0,0).timestamp())\n",
    "before = int(dt.datetime(2015,6,1,0,0).timestamp())\n",
    "\n",
    "import time\n",
    "start = time.time()\n",
    "subreddit=\"CryptoCurrency\"\n",
    "limit=200000\n",
    "comments = api.search_comments(subreddit=subreddit, limit=limit, before=before, after=after)\n",
    "print(f'Retrieved {len(comments)} comments from Pushshift')\n",
    "end = time.time()\n",
    "print(end - start)\n",
    "\n",
    "comments_df = pd.DataFrame(comments)\n",
    "# preview the comments data\n",
    "comments_df\n",
    "\n",
    "comments_df.to_csv('./2015-05.csv', header=True, index=False, columns=list(comments_df.axes[1]))"
   ]
  },
  {
   "cell_type": "markdown",
   "id": "8feccd98",
   "metadata": {},
   "source": [
    "2015-06"
   ]
  },
  {
   "cell_type": "code",
   "execution_count": null,
   "id": "d57bd0c9",
   "metadata": {},
   "outputs": [],
   "source": [
    "after = int(dt.datetime(2015,6,1,0,0).timestamp())\n",
    "before = int(dt.datetime(2015,7,1,0,0).timestamp())\n",
    "\n",
    "import time\n",
    "start = time.time()\n",
    "subreddit=\"CryptoCurrency\"\n",
    "limit=100000\n",
    "comments = api.search_comments(subreddit=subreddit, limit=limit, before=before, after=after)\n",
    "print(f'Retrieved {len(comments)} comments from Pushshift')\n",
    "end = time.time()\n",
    "print(end - start)\n",
    "\n",
    "comments_df = pd.DataFrame(comments)\n",
    "# preview the comments data\n",
    "comments_df\n",
    "\n",
    "comments_df.to_csv('./2015-06.csv', header=True, index=False, columns=list(comments_df.axes[1]))"
   ]
  },
  {
   "cell_type": "markdown",
   "id": "ff8d92b4",
   "metadata": {},
   "source": [
    "2015-07"
   ]
  },
  {
   "cell_type": "code",
   "execution_count": null,
   "id": "74459762",
   "metadata": {},
   "outputs": [],
   "source": [
    "after = int(dt.datetime(2015,7,1,0,0).timestamp())\n",
    "before = int(dt.datetime(2015,8,1,0,0).timestamp())\n",
    "\n",
    "import time\n",
    "start = time.time()\n",
    "subreddit=\"CryptoCurrency\"\n",
    "limit=100000\n",
    "comments = api.search_comments(subreddit=subreddit, limit=limit, before=before, after=after)\n",
    "print(f'Retrieved {len(comments)} comments from Pushshift')\n",
    "end = time.time()\n",
    "print(end - start)\n",
    "\n",
    "comments_df = pd.DataFrame(comments)\n",
    "# preview the comments data\n",
    "comments_df\n",
    "\n",
    "comments_df.to_csv('./2015-07.csv', header=True, index=False, columns=list(comments_df.axes[1]))"
   ]
  },
  {
   "cell_type": "markdown",
   "id": "1aa741aa",
   "metadata": {},
   "source": [
    "2015 - again"
   ]
  },
  {
   "cell_type": "code",
   "execution_count": null,
   "id": "a9d0fd3c",
   "metadata": {},
   "outputs": [],
   "source": [
    "after = int(dt.datetime(2015,1,1,0,0).timestamp())\n",
    "before = int(dt.datetime(2016,1,1,0,0).timestamp())\n",
    "\n",
    "import time\n",
    "start = time.time()\n",
    "subreddit=\"CryptoCurrency\"\n",
    "limit=1000000\n",
    "comments = api.search_comments(subreddit=subreddit, limit=limit, before=before, after=after)\n",
    "print(f'Retrieved {len(comments)} comments from Pushshift')\n",
    "end = time.time()\n",
    "print(end - start)\n",
    "\n",
    "comments_df = pd.DataFrame(comments)\n",
    "# preview the comments data\n",
    "comments_df\n",
    "\n",
    "comments_df.to_csv('./2015-v2.csv', header=True, index=False, columns=list(comments_df.axes[1]))"
   ]
  },
  {
   "cell_type": "markdown",
   "id": "ed8814d3",
   "metadata": {},
   "source": [
    "# 2016 onwards"
   ]
  },
  {
   "cell_type": "code",
   "execution_count": null,
   "id": "11a06251",
   "metadata": {},
   "outputs": [],
   "source": [
    "after = int(dt.datetime(2016,1,1,0,0).timestamp())\n",
    "before = int(dt.datetime(2017,1,1,0,0).timestamp())\n",
    "\n",
    "import time\n",
    "start = time.time()\n",
    "subreddit=\"CryptoCurrency\"\n",
    "limit=10000000\n",
    "comments = api.search_comments(subreddit=subreddit, limit=limit, before=before, after=after)\n",
    "print(f'Retrieved {len(comments)} comments from Pushshift')\n",
    "end = time.time()\n",
    "print(end - start)\n",
    "\n",
    "comments_df = pd.DataFrame(comments)\n",
    "# preview the comments data\n",
    "comments_df\n",
    "\n",
    "comments_df.to_csv('./2016-v2.csv', header=True, index=False, columns=list(comments_df.axes[1]))"
   ]
  },
  {
   "cell_type": "code",
   "execution_count": null,
   "id": "c38798ba",
   "metadata": {},
   "outputs": [],
   "source": [
    "after = int(dt.datetime(2017,1,1,0,0).timestamp())\n",
    "before = int(dt.datetime(2018,1,1,0,0).timestamp())\n",
    "\n",
    "import time\n",
    "start = time.time()\n",
    "subreddit=\"CryptoCurrency\"\n",
    "limit=10000000\n",
    "comments = api.search_comments(subreddit=subreddit, limit=limit, before=before, after=after)\n",
    "print(f'Retrieved {len(comments)} comments from Pushshift')\n",
    "end = time.time()\n",
    "print(end - start)\n",
    "\n",
    "comments_df = pd.DataFrame(comments)\n",
    "# preview the comments data\n",
    "comments_df\n",
    "\n",
    "comments_df.to_csv('./2017-v2.csv', header=True, index=False, columns=list(comments_df.axes[1]))"
   ]
  },
  {
   "cell_type": "code",
   "execution_count": null,
   "id": "c851d37a",
   "metadata": {},
   "outputs": [],
   "source": [
    "after = int(dt.datetime(2018,1,1,0,0).timestamp())\n",
    "before = int(dt.datetime(2019,1,1,0,0).timestamp())\n",
    "\n",
    "import time\n",
    "start = time.time()\n",
    "subreddit=\"CryptoCurrency\"\n",
    "limit=10000000\n",
    "comments = api.search_comments(subreddit=subreddit, limit=limit, before=before, after=after)\n",
    "print(f'Retrieved {len(comments)} comments from Pushshift')\n",
    "end = time.time()\n",
    "print(end - start)\n",
    "\n",
    "comments_df = pd.DataFrame(comments)\n",
    "# preview the comments data\n",
    "comments_df\n",
    "\n",
    "comments_df.to_csv('./2018.csv', header=True, index=False, columns=list(comments_df.axes[1]))"
   ]
  },
  {
   "cell_type": "code",
   "execution_count": null,
   "id": "57421ad0",
   "metadata": {},
   "outputs": [],
   "source": [
    "after = int(dt.datetime(2019,1,1,0,0).timestamp())\n",
    "before = int(dt.datetime(2020,1,1,0,0).timestamp())\n",
    "\n",
    "import time\n",
    "start = time.time()\n",
    "subreddit=\"CryptoCurrency\"\n",
    "limit=10000000\n",
    "comments = api.search_comments(subreddit=subreddit, limit=limit, before=before, after=after)\n",
    "print(f'Retrieved {len(comments)} comments from Pushshift')\n",
    "end = time.time()\n",
    "print(end - start)\n",
    "\n",
    "comments_df = pd.DataFrame(comments)\n",
    "# preview the comments data\n",
    "comments_df\n",
    "\n",
    "comments_df.to_csv('./2019.csv', header=True, index=False, columns=list(comments_df.axes[1]))"
   ]
  },
  {
   "cell_type": "code",
   "execution_count": null,
   "id": "eea07ded",
   "metadata": {},
   "outputs": [],
   "source": [
    "after = int(dt.datetime(2020,1,1,0,0).timestamp())\n",
    "before = int(dt.datetime(2021,1,1,0,0).timestamp())\n",
    "\n",
    "import time\n",
    "start = time.time()\n",
    "subreddit=\"CryptoCurrency\"\n",
    "limit=10000000\n",
    "comments = api.search_comments(subreddit=subreddit, limit=limit, before=before, after=after)\n",
    "print(f'Retrieved {len(comments)} comments from Pushshift')\n",
    "end = time.time()\n",
    "print(end - start)\n",
    "\n",
    "comments_df = pd.DataFrame(comments)\n",
    "# preview the comments data\n",
    "comments_df\n",
    "\n",
    "comments_df.to_csv('./2020.csv', header=True, index=False, columns=list(comments_df.axes[1]))"
   ]
  },
  {
   "cell_type": "code",
   "execution_count": null,
   "id": "b4389197",
   "metadata": {},
   "outputs": [],
   "source": []
  },
  {
   "cell_type": "code",
   "execution_count": null,
   "id": "a31ab6d6",
   "metadata": {},
   "outputs": [],
   "source": []
  },
  {
   "cell_type": "code",
   "execution_count": null,
   "id": "d068520d",
   "metadata": {},
   "outputs": [],
   "source": []
  },
  {
   "cell_type": "code",
   "execution_count": null,
   "id": "f7a5a35d",
   "metadata": {},
   "outputs": [],
   "source": []
  }
 ],
 "metadata": {
  "kernelspec": {
   "display_name": "Python 3",
   "language": "python",
   "name": "python3"
  },
  "language_info": {
   "codemirror_mode": {
    "name": "ipython",
    "version": 3
   },
   "file_extension": ".py",
   "mimetype": "text/x-python",
   "name": "python",
   "nbconvert_exporter": "python",
   "pygments_lexer": "ipython3",
   "version": "3.8.8"
  }
 },
 "nbformat": 4,
 "nbformat_minor": 5
}
